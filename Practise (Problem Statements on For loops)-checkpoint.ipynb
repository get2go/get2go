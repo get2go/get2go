{
 "cells": [
  {
   "cell_type": "code",
   "execution_count": 1,
   "id": "1513aae7",
   "metadata": {},
   "outputs": [
    {
     "data": {
      "text/plain": [
       "18"
      ]
     },
     "execution_count": 1,
     "metadata": {},
     "output_type": "execute_result"
    }
   ],
   "source": [
    "# Count no.of letters in a string\n",
    "S = \"Its beginner class\"\n",
    "len(S)"
   ]
  },
  {
   "cell_type": "code",
   "execution_count": 2,
   "id": "6072b544",
   "metadata": {},
   "outputs": [
    {
     "name": "stdout",
     "output_type": "stream",
     "text": [
      "18\n"
     ]
    }
   ],
   "source": [
    "# Another way to get no.of letters in string without using len\n",
    "Count = 0\n",
    "for i in S:\n",
    "    Count = Count +1\n",
    "print(Count)"
   ]
  },
  {
   "cell_type": "code",
   "execution_count": 3,
   "id": "224e40d6",
   "metadata": {},
   "outputs": [
    {
     "name": "stdout",
     "output_type": "stream",
     "text": [
      "ssalc rennigeb stI"
     ]
    }
   ],
   "source": [
    "# Print the string in reverse order using for loop & while loop\n",
    "for i in range(len(S)-1,-1,-1):\n",
    "    print(S[i], end=\"\")"
   ]
  },
  {
   "cell_type": "raw",
   "id": "fced0c12",
   "metadata": {},
   "source": [
    "len(S)-1 => Is considered bcoz len of the string is 26 but no.of indices are 25 as indexing starts from 0. \n",
    "Hence, to avoid out of indices error, we consider len(S)-1"
   ]
  },
  {
   "cell_type": "code",
   "execution_count": 4,
   "id": "b3b458b1",
   "metadata": {},
   "outputs": [
    {
     "name": "stdout",
     "output_type": "stream",
     "text": [
      "ssalc rennigeb stI"
     ]
    }
   ],
   "source": [
    "j = len(S)-1\n",
    "while j>=0:\n",
    "    print(S[j], end='')\n",
    "    j = j-1"
   ]
  },
  {
   "cell_type": "code",
   "execution_count": 5,
   "id": "52ad3ace",
   "metadata": {},
   "outputs": [
    {
     "name": "stdout",
     "output_type": "stream",
     "text": [
      "C Not a Vowel\n",
      "h Not a Vowel\n",
      "a Vowel\n",
      "n Not a Vowel\n",
      "c Not a Vowel\n",
      "e Vowel\n",
      "s Not a Vowel\n",
      "  Not a Vowel\n",
      "c Not a Vowel\n",
      "o Vowel\n",
      "m Not a Vowel\n",
      "e Vowel\n",
      "  Not a Vowel\n",
      "o Vowel\n",
      "n Not a Vowel\n",
      "c Not a Vowel\n",
      "e Vowel\n",
      "  Not a Vowel\n",
      "b Not a Vowel\n",
      "u Vowel\n",
      "t Not a Vowel\n",
      "  Not a Vowel\n",
      "o Vowel\n",
      "p Not a Vowel\n",
      "p Not a Vowel\n",
      "o Vowel\n",
      "r Not a Vowel\n",
      "t Not a Vowel\n",
      "u Vowel\n",
      "n Not a Vowel\n",
      "i Vowel\n",
      "t Not a Vowel\n",
      "i Vowel\n",
      "e Vowel\n",
      "s Not a Vowel\n",
      "  Not a Vowel\n",
      "a Vowel\n",
      "r Not a Vowel\n",
      "e Vowel\n",
      "  Not a Vowel\n",
      "c Not a Vowel\n",
      "r Not a Vowel\n",
      "e Vowel\n",
      "a Vowel\n",
      "t Not a Vowel\n",
      "e Vowel\n",
      "d Not a Vowel\n"
     ]
    }
   ],
   "source": [
    "# Finding out which letter is a vowel from below strings:\n",
    "O = \"Chances come once but opportunities are created\"\n",
    "V = \"AaEeIiOoUu\"\n",
    "\n",
    "for i in O:\n",
    "    if i in V:\n",
    "        print(i, \"Vowel\")\n",
    "    else:\n",
    "        print(i, 'Not a Vowel')"
   ]
  },
  {
   "cell_type": "code",
   "execution_count": 6,
   "id": "247989cc",
   "metadata": {},
   "outputs": [
    {
     "name": "stdout",
     "output_type": "stream",
     "text": [
      "Vowel I\n",
      "Not a Vowel n\n",
      "Vowel u\n",
      "Vowel e\n",
      "Not a Vowel r\n",
      "Vowel o\n",
      "Not a Vowel n\n"
     ]
    }
   ],
   "source": [
    "# Using for & while loop\n",
    "B = \"Inueron\"\n",
    "V = \"AaEeIiOoUu\"\n",
    "\n",
    "for i in B:\n",
    "    while i in V:\n",
    "        print('Vowel',i)\n",
    "        break\n",
    "    else:\n",
    "        print(\"Not a Vowel\", i)"
   ]
  },
  {
   "cell_type": "code",
   "execution_count": 7,
   "id": "4f28b5ce",
   "metadata": {},
   "outputs": [
    {
     "data": {
      "text/plain": [
       "True"
      ]
     },
     "execution_count": 7,
     "metadata": {},
     "output_type": "execute_result"
    }
   ],
   "source": [
    "'s' in \"vowels\""
   ]
  },
  {
   "cell_type": "code",
   "execution_count": 8,
   "id": "76ebd282",
   "metadata": {},
   "outputs": [
    {
     "name": "stdout",
     "output_type": "stream",
     "text": [
      "sally\n",
      "sally isn't a Palindrome\n"
     ]
    }
   ],
   "source": [
    "# Question- Check whether following strings are Palindromes(spell same forwards & backwards) or not\n",
    "\n",
    "T = input()\n",
    "T1 = T[::-1]\n",
    "if T == T1:\n",
    "    print(T, \"is a Palindrome\")\n",
    "else:\n",
    "    print(T, \"isn't a Palindrome\")"
   ]
  },
  {
   "cell_type": "raw",
   "id": "2b6820b6",
   "metadata": {},
   "source": [
    "As python is case sensitive, need to normalize data of case sensitive before checking for palindrome"
   ]
  },
  {
   "cell_type": "code",
   "execution_count": 9,
   "id": "4bcaa76a",
   "metadata": {},
   "outputs": [
    {
     "name": "stdout",
     "output_type": "stream",
     "text": [
      "hehehe\n",
      "hehehe not a Palindrome\n"
     ]
    }
   ],
   "source": [
    "# Method 2\n",
    "I =input()\n",
    "for i in range(len(I)):\n",
    "    if I[i]!=I[len(I)-i-1]:\n",
    "        print(I, \"not a Palindrome\")\n",
    "        break\n",
    "    else:\n",
    "        print(I,'is a Palindrome')\n",
    "        break"
   ]
  },
  {
   "cell_type": "code",
   "execution_count": 10,
   "id": "ced59741",
   "metadata": {},
   "outputs": [
    {
     "name": "stdout",
     "output_type": "stream",
     "text": [
      "eye\n",
      "eye palindrome\n"
     ]
    }
   ],
   "source": [
    "# Method 3:\n",
    "I =input()\n",
    "J = ''\n",
    "i =len(I)-1\n",
    "\n",
    "while i>=0:\n",
    "    J =J+I[i]\n",
    "    i = i-1\n",
    "if (I ==J):\n",
    "    print(I,\"palindrome\")\n",
    "else:\n",
    "    print(I,\"Not a palindrome\")        "
   ]
  },
  {
   "cell_type": "code",
   "execution_count": 11,
   "id": "3a8b85ac",
   "metadata": {},
   "outputs": [],
   "source": [
    "d ={'India':'IN',\n",
    "   'America':\"USA\",\n",
    "   'Great Britan': \"GB\",\n",
    "   'France':\"FR\",\n",
    "   'Italy':\"IT\",\n",
    "   'Canada': \"CA\"}"
   ]
  },
  {
   "cell_type": "code",
   "execution_count": 12,
   "id": "852628dd",
   "metadata": {},
   "outputs": [
    {
     "data": {
      "text/plain": [
       "True"
      ]
     },
     "execution_count": 12,
     "metadata": {},
     "output_type": "execute_result"
    }
   ],
   "source": [
    "# Is India a part of above dictionary or not?\n",
    "\"India\" in d"
   ]
  },
  {
   "cell_type": "code",
   "execution_count": 13,
   "id": "e87fe0fc",
   "metadata": {},
   "outputs": [
    {
     "data": {
      "text/plain": [
       "dict_items([('India', 'IN'), ('America', 'USA'), ('Great Britan', 'GB'), ('France', 'FR'), ('Italy', 'IT'), ('Canada', 'CA')])"
      ]
     },
     "execution_count": 13,
     "metadata": {},
     "output_type": "execute_result"
    }
   ],
   "source": [
    "# we can check any element is present in dictionary only if its present in keys.\n",
    "# It can search in values only when it is specified specifically. Eg:\n",
    "d.values()\n",
    "d.items() #Gives key:value pair in tuple"
   ]
  },
  {
   "cell_type": "code",
   "execution_count": 14,
   "id": "6683f7c3",
   "metadata": {},
   "outputs": [
    {
     "name": "stdout",
     "output_type": "stream",
     "text": [
      "['India']\n",
      "['America']\n",
      "['America', 'Great Britan']\n",
      "['America', 'Great Britan', 'France']\n",
      "['India', 'Italy']\n",
      "['America', 'Great Britan', 'France', 'Canada']\n"
     ]
    }
   ],
   "source": [
    "# Question- segregate keys into sets based on len of keys >5 and <=5\n",
    "\n",
    "S2 = []\n",
    "S3 = []\n",
    "\n",
    "for i in d:\n",
    "    if len(i)<=5:\n",
    "        S2.append(i)\n",
    "        print(S2)\n",
    "    else:\n",
    "        S3.append(i)\n",
    "        print(S3)"
   ]
  },
  {
   "cell_type": "code",
   "execution_count": 15,
   "id": "b9eb835d",
   "metadata": {},
   "outputs": [
    {
     "data": {
      "text/plain": [
       "['India', 'Italy']"
      ]
     },
     "execution_count": 15,
     "metadata": {},
     "output_type": "execute_result"
    }
   ],
   "source": [
    "S2"
   ]
  },
  {
   "cell_type": "code",
   "execution_count": 16,
   "id": "006d49e0",
   "metadata": {},
   "outputs": [
    {
     "data": {
      "text/plain": [
       "['America', 'Great Britan', 'France', 'Canada']"
      ]
     },
     "execution_count": 16,
     "metadata": {},
     "output_type": "execute_result"
    }
   ],
   "source": [
    "S3"
   ]
  },
  {
   "cell_type": "code",
   "execution_count": 17,
   "id": "37b0b13d",
   "metadata": {},
   "outputs": [],
   "source": [
    "d1 = {\"Inueron\" : {\"A\":14,\"B\":24,\"C\":34}, \"1nueron\":{\"D\":44,\"E\":54}, \"CBAP\":{\"F\":3,\"G\":7,\"H\":11}}"
   ]
  },
  {
   "cell_type": "code",
   "execution_count": 18,
   "id": "6ef61cb3",
   "metadata": {},
   "outputs": [
    {
     "data": {
      "text/plain": [
       "dict_values([{'A': 14, 'B': 24, 'C': 34}, {'D': 44, 'E': 54}, {'F': 3, 'G': 7, 'H': 11}])"
      ]
     },
     "execution_count": 18,
     "metadata": {},
     "output_type": "execute_result"
    }
   ],
   "source": [
    "d1.values()"
   ]
  },
  {
   "cell_type": "code",
   "execution_count": 19,
   "id": "68a5b8d8",
   "metadata": {},
   "outputs": [
    {
     "name": "stdout",
     "output_type": "stream",
     "text": [
      "14\n",
      "24\n",
      "34\n",
      "44\n",
      "54\n",
      "3\n",
      "7\n",
      "11\n"
     ]
    }
   ],
   "source": [
    "for i in d1.values():\n",
    "    for j in i.values():\n",
    "        print(j)"
   ]
  },
  {
   "cell_type": "code",
   "execution_count": 20,
   "id": "9bb48610",
   "metadata": {},
   "outputs": [
    {
     "name": "stdout",
     "output_type": "stream",
     "text": [
      "14\n",
      "24\n",
      "34\n",
      "44\n",
      "54\n",
      "54\n",
      "54\n",
      "54\n"
     ]
    }
   ],
   "source": [
    "E = []\n",
    "for i in d1.values():\n",
    "    for j in i.values():\n",
    "        E.append(j)\n",
    "        print(max(E))       "
   ]
  },
  {
   "cell_type": "code",
   "execution_count": 21,
   "id": "982b0dfc",
   "metadata": {},
   "outputs": [],
   "source": [
    "# Above code isn't giving me right answer bcoz all j values are appending to same empty list for all iterations.\n",
    "# Then it is finding max value of that list which results in giving me 54 always as it is highest value in list"
   ]
  },
  {
   "cell_type": "code",
   "execution_count": 22,
   "id": "1769a351",
   "metadata": {},
   "outputs": [],
   "source": [
    "# To overcome that problem, need to place empty list as follows in below code so it refreshs the values for every iteration\n",
    "# & prints max of that list of values. Hence print condition need to be written outside j for loop"
   ]
  },
  {
   "cell_type": "code",
   "execution_count": 23,
   "id": "220b0b0d",
   "metadata": {},
   "outputs": [
    {
     "name": "stdout",
     "output_type": "stream",
     "text": [
      "34\n",
      "54\n",
      "11\n"
     ]
    }
   ],
   "source": [
    "d1 = {\"Inueron\" : {\"A\":14,\"B\":24,\"C\":34}, \"1nueron\":{\"D\":44,\"E\":54}, \"CBAP\":{\"F\":3,\"G\":7,\"H\":11}}\n",
    "for i in d1.values():\n",
    "    mx= []\n",
    "    for j in i.values():\n",
    "        mx.append(j)\n",
    "    print(max(mx))\n",
    "    "
   ]
  },
  {
   "cell_type": "code",
   "execution_count": 24,
   "id": "e495f745",
   "metadata": {},
   "outputs": [
    {
     "name": "stdout",
     "output_type": "stream",
     "text": [
      "34\n",
      "54\n",
      "11\n"
     ]
    }
   ],
   "source": [
    "# Using maximum approach\n",
    "for i in d1.values():\n",
    "    mx = 0\n",
    "    for j in i.values():\n",
    "        if mx < j:\n",
    "            mx =j\n",
    "    print(mx)"
   ]
  },
  {
   "cell_type": "code",
   "execution_count": 25,
   "id": "b37f9326",
   "metadata": {},
   "outputs": [
    {
     "name": "stdout",
     "output_type": "stream",
     "text": [
      "34\n",
      "54\n",
      "11\n"
     ]
    }
   ],
   "source": [
    "# Another approach\n",
    "for k in d1.values():\n",
    "    print(max(k.values()))"
   ]
  },
  {
   "cell_type": "code",
   "execution_count": 26,
   "id": "c43fa88a",
   "metadata": {},
   "outputs": [
    {
     "name": "stdout",
     "output_type": "stream",
     "text": [
      "Inueron\n",
      "34\n",
      "1nueron\n",
      "54\n",
      "CBAP\n",
      "11\n"
     ]
    }
   ],
   "source": [
    "for l in d1.keys():\n",
    "    print(l)\n",
    "    print(max(d1[l].values()))"
   ]
  },
  {
   "cell_type": "code",
   "execution_count": 27,
   "id": "154db7a6",
   "metadata": {},
   "outputs": [
    {
     "name": "stdout",
     "output_type": "stream",
     "text": [
      "975\n",
      "356\n",
      "200\n",
      "873\n",
      "975\n"
     ]
    }
   ],
   "source": [
    "# Question - Find max value of all integers in a dictionary where it has values as list, dictionary, tuple, set, int\n",
    "d2 = {\"a\":25, 'b':[65,34,807,975,605],'c':(34,356,63,98),'d':{56,76,200,63},'e':{'k1':76,'k2':873,'k3':4}, 'f':\"string\"}\n",
    "\n",
    "max1 = []\n",
    "max1.append(d2['a'])\n",
    "\n",
    "m = 0\n",
    "for i in d2['b']:\n",
    "    if m<i:\n",
    "        m=i\n",
    "print(m)\n",
    "max1.append(m)\n",
    "\n",
    "n = 0\n",
    "for j in d2['c']:\n",
    "    if n<j:\n",
    "        n=j\n",
    "print(n)\n",
    "max1.append(n)\n",
    "\n",
    "o = 0\n",
    "for k in d2['d']:\n",
    "    if o<k:\n",
    "        o=k\n",
    "print(k)\n",
    "max1.append(k)\n",
    "\n",
    "p = 0\n",
    "for l in d2['e'].values():\n",
    "    if p<l:\n",
    "        p=l\n",
    "print(p)\n",
    "max1.append(p)\n",
    "\n",
    "# Max.value in dictionary\n",
    "q = 0\n",
    "for s in max1:\n",
    "    if q<s:\n",
    "        q=s\n",
    "print(q)"
   ]
  },
  {
   "cell_type": "code",
   "execution_count": 29,
   "id": "c92da066",
   "metadata": {},
   "outputs": [
    {
     "name": "stdout",
     "output_type": "stream",
     "text": [
      "975\n"
     ]
    }
   ],
   "source": [
    "d2 = {\"a\":25, 'b':[65,34,807,975,605],'c':(34,356,63,98),'d':{56,76,200,63},'e':{'k1':76,'k2':873,'k3':4}, 'f':\"string\"}\n",
    "\n",
    "e1 =[]\n",
    "for i in d2.values():\n",
    "    if type(i)==dict:\n",
    "        e1.append(max(i.values()))\n",
    "    elif type(i)==set:\n",
    "        e1.append(max(i))\n",
    "    elif type(i)==list:\n",
    "        e1.append(max(i))\n",
    "    elif type(i)==tuple:\n",
    "        e1.append(max(i))\n",
    "    elif type(i)==str:\n",
    "        pass\n",
    "    elif type(i)==complex:\n",
    "        pass\n",
    "    else:\n",
    "        e1.append(i)\n",
    "\n",
    "print(max(e1))"
   ]
  },
  {
   "cell_type": "code",
   "execution_count": 30,
   "id": "911f79d2",
   "metadata": {},
   "outputs": [
    {
     "name": "stdout",
     "output_type": "stream",
     "text": [
      "975\n"
     ]
    }
   ],
   "source": [
    "l = []\n",
    "for i in d2.values():\n",
    "    if type(i)!= str and type(i)!= complex:\n",
    "        if type(i)== list or type(i)== tuple or type(i)== set:\n",
    "            l.append(max(i))\n",
    "        elif type(i)==dict:\n",
    "            l.append(max(i.values()))\n",
    "        else:\n",
    "            l.append(i)\n",
    "print(max(l))"
   ]
  },
  {
   "cell_type": "code",
   "execution_count": null,
   "id": "f669359e",
   "metadata": {},
   "outputs": [],
   "source": []
  }
 ],
 "metadata": {
  "kernelspec": {
   "display_name": "Python 3",
   "language": "python",
   "name": "python3"
  },
  "language_info": {
   "codemirror_mode": {
    "name": "ipython",
    "version": 3
   },
   "file_extension": ".py",
   "mimetype": "text/x-python",
   "name": "python",
   "nbconvert_exporter": "python",
   "pygments_lexer": "ipython3",
   "version": "3.8.8"
  }
 },
 "nbformat": 4,
 "nbformat_minor": 5
}
