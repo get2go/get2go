{
 "cells": [
  {
   "cell_type": "raw",
   "id": "6acbed98",
   "metadata": {},
   "source": [
    "Data Types:\n",
    "String - A collection of characters. Notation - \" \" or ' '\n",
    "List - A collection of homogenous or hetrogenous elements. Notation -[] \n",
    "Tuple- Its similar to a list but not exactly a list. A collection to hold multiple elements at atime. Notation- ()"
   ]
  },
  {
   "cell_type": "code",
   "execution_count": 1,
   "id": "81ae32ae",
   "metadata": {},
   "outputs": [],
   "source": [
    "T = (1,23.45, 45+67j, 'tuples', False, [78,54,23])"
   ]
  },
  {
   "cell_type": "code",
   "execution_count": 2,
   "id": "67840408",
   "metadata": {},
   "outputs": [
    {
     "data": {
      "text/plain": [
       "tuple"
      ]
     },
     "execution_count": 2,
     "metadata": {},
     "output_type": "execute_result"
    }
   ],
   "source": [
    "type(T)"
   ]
  },
  {
   "cell_type": "markdown",
   "id": "98dfbac5",
   "metadata": {},
   "source": [
    "Slicing of Tuples/ Accessing elements in Tuple"
   ]
  },
  {
   "cell_type": "code",
   "execution_count": 3,
   "id": "5eb2acce",
   "metadata": {},
   "outputs": [
    {
     "data": {
      "text/plain": [
       "(1, 23.45, (45+67j))"
      ]
     },
     "execution_count": 3,
     "metadata": {},
     "output_type": "execute_result"
    }
   ],
   "source": [
    "T[0:3]"
   ]
  },
  {
   "cell_type": "raw",
   "id": "222a42ec",
   "metadata": {},
   "source": [
    "Note: Incase of slicing, whether its a tuple or list, should use [] only"
   ]
  },
  {
   "cell_type": "code",
   "execution_count": 4,
   "id": "fd15249e",
   "metadata": {},
   "outputs": [
    {
     "data": {
      "text/plain": [
       "([78, 54, 23], False, 'tuples', (45+67j), 23.45, 1)"
      ]
     },
     "execution_count": 4,
     "metadata": {},
     "output_type": "execute_result"
    }
   ],
   "source": [
    "T[::-1]"
   ]
  },
  {
   "cell_type": "code",
   "execution_count": 5,
   "id": "943a8a36",
   "metadata": {},
   "outputs": [
    {
     "data": {
      "text/plain": [
       "[78, 54, 23]"
      ]
     },
     "execution_count": 5,
     "metadata": {},
     "output_type": "execute_result"
    }
   ],
   "source": [
    "T[-1]"
   ]
  },
  {
   "cell_type": "raw",
   "id": "37baa3e4",
   "metadata": {},
   "source": [
    "So incase of slicing operations, no difference bewteen string/ list / tuple.Will able to access elements in same manner"
   ]
  },
  {
   "cell_type": "code",
   "execution_count": 6,
   "id": "29d0c01e",
   "metadata": {},
   "outputs": [
    {
     "data": {
      "text/plain": [
       "(1, (45+67j), False)"
      ]
     },
     "execution_count": 6,
     "metadata": {},
     "output_type": "execute_result"
    }
   ],
   "source": [
    "T[0::2]"
   ]
  },
  {
   "cell_type": "markdown",
   "id": "ac89dbcc",
   "metadata": {},
   "source": [
    "Item Assignment Operations"
   ]
  },
  {
   "cell_type": "code",
   "execution_count": 7,
   "id": "c3247526",
   "metadata": {},
   "outputs": [],
   "source": [
    "L1 = [1,3,5,7,9, False]"
   ]
  },
  {
   "cell_type": "code",
   "execution_count": 8,
   "id": "185f8d9f",
   "metadata": {},
   "outputs": [],
   "source": [
    "T2 = (2,4,6,8, True)"
   ]
  },
  {
   "cell_type": "code",
   "execution_count": 9,
   "id": "4ffa8c73",
   "metadata": {},
   "outputs": [],
   "source": [
    "L1[-1] = \"False\""
   ]
  },
  {
   "cell_type": "code",
   "execution_count": 10,
   "id": "647fd99c",
   "metadata": {},
   "outputs": [
    {
     "data": {
      "text/plain": [
       "[1, 3, 5, 7, 9, 'False']"
      ]
     },
     "execution_count": 10,
     "metadata": {},
     "output_type": "execute_result"
    }
   ],
   "source": [
    "L1"
   ]
  },
  {
   "cell_type": "code",
   "execution_count": 12,
   "id": "df2dbdb2",
   "metadata": {},
   "outputs": [
    {
     "ename": "TypeError",
     "evalue": "'tuple' object does not support item assignment",
     "output_type": "error",
     "traceback": [
      "\u001b[1;31m---------------------------------------------------------------------------\u001b[0m",
      "\u001b[1;31mTypeError\u001b[0m                                 Traceback (most recent call last)",
      "\u001b[1;32m<ipython-input-12-309ce437ad93>\u001b[0m in \u001b[0;36m<module>\u001b[1;34m\u001b[0m\n\u001b[1;32m----> 1\u001b[1;33m \u001b[0mT2\u001b[0m\u001b[1;33m[\u001b[0m\u001b[1;33m-\u001b[0m\u001b[1;36m1\u001b[0m\u001b[1;33m]\u001b[0m \u001b[1;33m=\u001b[0m \u001b[1;34m'True'\u001b[0m\u001b[1;33m\u001b[0m\u001b[1;33m\u001b[0m\u001b[0m\n\u001b[0m",
      "\u001b[1;31mTypeError\u001b[0m: 'tuple' object does not support item assignment"
     ]
    }
   ],
   "source": [
    "T2[-1] = 'True'"
   ]
  },
  {
   "cell_type": "raw",
   "id": "090d325b",
   "metadata": {},
   "source": [
    "1st difference between List & Tuple is Notation\n",
    "2nd difference is item assignment of particular index supports List but not Tuple"
   ]
  },
  {
   "cell_type": "code",
   "execution_count": 13,
   "id": "9a2efe93",
   "metadata": {},
   "outputs": [
    {
     "data": {
      "text/plain": [
       "(1, 23.45, (45+67j), 'tuples', False, [78, 54, 23])"
      ]
     },
     "execution_count": 13,
     "metadata": {},
     "output_type": "execute_result"
    }
   ],
   "source": [
    "T"
   ]
  },
  {
   "cell_type": "code",
   "execution_count": 14,
   "id": "f2a37b21",
   "metadata": {},
   "outputs": [
    {
     "data": {
      "text/plain": [
       "(2, 4, 6, 8, True)"
      ]
     },
     "execution_count": 14,
     "metadata": {},
     "output_type": "execute_result"
    }
   ],
   "source": [
    "T2"
   ]
  },
  {
   "cell_type": "code",
   "execution_count": 15,
   "id": "d186b2d3",
   "metadata": {},
   "outputs": [
    {
     "data": {
      "text/plain": [
       "(1, 23.45, (45+67j), 'tuples', False, [78, 54, 23], 2, 4, 6, 8, True)"
      ]
     },
     "execution_count": 15,
     "metadata": {},
     "output_type": "execute_result"
    }
   ],
   "source": [
    "T+T2"
   ]
  },
  {
   "cell_type": "code",
   "execution_count": 16,
   "id": "a3807894",
   "metadata": {},
   "outputs": [
    {
     "ename": "TypeError",
     "evalue": "can only concatenate tuple (not \"int\") to tuple",
     "output_type": "error",
     "traceback": [
      "\u001b[1;31m---------------------------------------------------------------------------\u001b[0m",
      "\u001b[1;31mTypeError\u001b[0m                                 Traceback (most recent call last)",
      "\u001b[1;32m<ipython-input-16-7d13622cb063>\u001b[0m in \u001b[0;36m<module>\u001b[1;34m\u001b[0m\n\u001b[1;32m----> 1\u001b[1;33m \u001b[0mT2\u001b[0m\u001b[1;33m+\u001b[0m\u001b[1;36m56\u001b[0m\u001b[1;33m\u001b[0m\u001b[1;33m\u001b[0m\u001b[0m\n\u001b[0m",
      "\u001b[1;31mTypeError\u001b[0m: can only concatenate tuple (not \"int\") to tuple"
     ]
    }
   ],
   "source": [
    "T2+56"
   ]
  },
  {
   "cell_type": "code",
   "execution_count": 17,
   "id": "a76820d6",
   "metadata": {},
   "outputs": [
    {
     "ename": "TypeError",
     "evalue": "can only concatenate tuple (not \"str\") to tuple",
     "output_type": "error",
     "traceback": [
      "\u001b[1;31m---------------------------------------------------------------------------\u001b[0m",
      "\u001b[1;31mTypeError\u001b[0m                                 Traceback (most recent call last)",
      "\u001b[1;32m<ipython-input-17-6475c75300ab>\u001b[0m in \u001b[0;36m<module>\u001b[1;34m\u001b[0m\n\u001b[1;32m----> 1\u001b[1;33m \u001b[0mT\u001b[0m\u001b[1;33m+\u001b[0m\u001b[1;34m' '\u001b[0m\u001b[1;33m\u001b[0m\u001b[1;33m\u001b[0m\u001b[0m\n\u001b[0m",
      "\u001b[1;31mTypeError\u001b[0m: can only concatenate tuple (not \"str\") to tuple"
     ]
    }
   ],
   "source": [
    "T+' '"
   ]
  },
  {
   "cell_type": "code",
   "execution_count": 18,
   "id": "f25551d1",
   "metadata": {},
   "outputs": [],
   "source": [
    "# So addition of Tuples is possible only with Tuples"
   ]
  },
  {
   "cell_type": "code",
   "execution_count": 19,
   "id": "177d8846",
   "metadata": {},
   "outputs": [
    {
     "data": {
      "text/plain": [
       "(1,\n",
       " 23.45,\n",
       " (45+67j),\n",
       " 'tuples',\n",
       " False,\n",
       " [78, 54, 23],\n",
       " 1,\n",
       " 23.45,\n",
       " (45+67j),\n",
       " 'tuples',\n",
       " False,\n",
       " [78, 54, 23])"
      ]
     },
     "execution_count": 19,
     "metadata": {},
     "output_type": "execute_result"
    }
   ],
   "source": [
    "T*2"
   ]
  },
  {
   "cell_type": "code",
   "execution_count": 20,
   "id": "e818bbf3",
   "metadata": {},
   "outputs": [
    {
     "data": {
      "text/plain": [
       "(2, 4, 6, 8, True)"
      ]
     },
     "execution_count": 20,
     "metadata": {},
     "output_type": "execute_result"
    }
   ],
   "source": [
    "T2"
   ]
  },
  {
   "cell_type": "raw",
   "id": "31e32861",
   "metadata": {},
   "source": [
    "As Tuple is immutable, it cant support many inbuilt operations like List. It can only perform count & index"
   ]
  },
  {
   "cell_type": "code",
   "execution_count": 21,
   "id": "28f13f44",
   "metadata": {},
   "outputs": [
    {
     "data": {
      "text/plain": [
       "(1, 23.45, (45+67j), 'tuples', False, [78, 54, 23])"
      ]
     },
     "execution_count": 21,
     "metadata": {},
     "output_type": "execute_result"
    }
   ],
   "source": [
    "T"
   ]
  },
  {
   "cell_type": "code",
   "execution_count": 31,
   "id": "3784bdfe",
   "metadata": {},
   "outputs": [
    {
     "data": {
      "text/plain": [
       "1"
      ]
     },
     "execution_count": 31,
     "metadata": {},
     "output_type": "execute_result"
    }
   ],
   "source": [
    "T.count(True) #why is it showing as 1?"
   ]
  },
  {
   "cell_type": "code",
   "execution_count": 32,
   "id": "5200e484",
   "metadata": {},
   "outputs": [
    {
     "data": {
      "text/plain": [
       "4"
      ]
     },
     "execution_count": 32,
     "metadata": {},
     "output_type": "execute_result"
    }
   ],
   "source": [
    "T.index(False)"
   ]
  },
  {
   "cell_type": "raw",
   "id": "e417eced",
   "metadata": {},
   "source": [
    "Advantage of tuple- Its used wherever user dont want to let data manipulate, there he stores data in tuples.\n",
    "-It can be also used wherever data to be stored is fixed in collection, as it never supports append/ extend/ insert operation."
   ]
  },
  {
   "cell_type": "code",
   "execution_count": 33,
   "id": "359d4bb6",
   "metadata": {},
   "outputs": [],
   "source": [
    "T1 = (132,45, \"agjd\", (56.87,0.01))"
   ]
  },
  {
   "cell_type": "code",
   "execution_count": 36,
   "id": "e3608a1d",
   "metadata": {},
   "outputs": [],
   "source": [
    "T2 = (345j, True, [76,78,False], (\"saree\"))"
   ]
  },
  {
   "cell_type": "code",
   "execution_count": 37,
   "id": "c5f523af",
   "metadata": {},
   "outputs": [
    {
     "data": {
      "text/plain": [
       "(132, 45, 'agjd', (56.87, 0.01), 345j, True, [76, 78, False], 'saree')"
      ]
     },
     "execution_count": 37,
     "metadata": {},
     "output_type": "execute_result"
    }
   ],
   "source": [
    "T1+T2"
   ]
  },
  {
   "cell_type": "code",
   "execution_count": 38,
   "id": "ec6cf03e",
   "metadata": {},
   "outputs": [],
   "source": [
    "# So tuple can hold tuple inside tuple. And also hold list & tuple at atime inside tuple"
   ]
  },
  {
   "cell_type": "code",
   "execution_count": 39,
   "id": "c64775f8",
   "metadata": {},
   "outputs": [],
   "source": [
    "T2[2].insert(1, \"rain\")"
   ]
  },
  {
   "cell_type": "code",
   "execution_count": 40,
   "id": "1a1f11d3",
   "metadata": {},
   "outputs": [
    {
     "data": {
      "text/plain": [
       "(345j, True, [76, 'rain', 78, False], 'saree')"
      ]
     },
     "execution_count": 40,
     "metadata": {},
     "output_type": "execute_result"
    }
   ],
   "source": [
    "T2"
   ]
  },
  {
   "cell_type": "code",
   "execution_count": 41,
   "id": "38ac056e",
   "metadata": {},
   "outputs": [],
   "source": [
    "# We can perform insert or any other fun's as it is List which is present inside tuple but cant reassign elements in tuple "
   ]
  },
  {
   "cell_type": "markdown",
   "id": "c3b0d6cd",
   "metadata": {},
   "source": [
    "Conversion of Data types"
   ]
  },
  {
   "cell_type": "code",
   "execution_count": 42,
   "id": "08afb146",
   "metadata": {},
   "outputs": [],
   "source": [
    "# List to tuple"
   ]
  },
  {
   "cell_type": "code",
   "execution_count": 49,
   "id": "781eb10a",
   "metadata": {},
   "outputs": [],
   "source": [
    "List1 = [1,34,45,55,56,'hbjj', ['small']]"
   ]
  },
  {
   "cell_type": "code",
   "execution_count": 50,
   "id": "58be4494",
   "metadata": {},
   "outputs": [],
   "source": [
    "TL1 = tuple(List1)"
   ]
  },
  {
   "cell_type": "code",
   "execution_count": 51,
   "id": "1d4a98f9",
   "metadata": {},
   "outputs": [
    {
     "data": {
      "text/plain": [
       "tuple"
      ]
     },
     "execution_count": 51,
     "metadata": {},
     "output_type": "execute_result"
    }
   ],
   "source": [
    "type(TL1)"
   ]
  },
  {
   "cell_type": "code",
   "execution_count": 52,
   "id": "341e822a",
   "metadata": {},
   "outputs": [
    {
     "data": {
      "text/plain": [
       "(1, 34, 45, 55, 56, 'hbjj', ['small'])"
      ]
     },
     "execution_count": 52,
     "metadata": {},
     "output_type": "execute_result"
    }
   ],
   "source": [
    "TL1"
   ]
  },
  {
   "cell_type": "code",
   "execution_count": 55,
   "id": "e7280477",
   "metadata": {},
   "outputs": [],
   "source": [
    "Tuple1 = (('wesley'), 867,544658, '%^&&*',[865645,165164.1561])"
   ]
  },
  {
   "cell_type": "code",
   "execution_count": 56,
   "id": "a2ecaac5",
   "metadata": {},
   "outputs": [
    {
     "name": "stdout",
     "output_type": "stream",
     "text": [
      "['wesley', 867, 544658, '%^&&*', [865645, 165164.1561]]\n"
     ]
    },
    {
     "data": {
      "text/plain": [
       "list"
      ]
     },
     "execution_count": 56,
     "metadata": {},
     "output_type": "execute_result"
    }
   ],
   "source": [
    "LT1 = list(Tuple1)\n",
    "print(LT1)\n",
    "type(LT1)"
   ]
  },
  {
   "cell_type": "code",
   "execution_count": null,
   "id": "4d3644ab",
   "metadata": {},
   "outputs": [],
   "source": []
  }
 ],
 "metadata": {
  "kernelspec": {
   "display_name": "Python 3",
   "language": "python",
   "name": "python3"
  },
  "language_info": {
   "codemirror_mode": {
    "name": "ipython",
    "version": 3
   },
   "file_extension": ".py",
   "mimetype": "text/x-python",
   "name": "python",
   "nbconvert_exporter": "python",
   "pygments_lexer": "ipython3",
   "version": "3.8.8"
  }
 },
 "nbformat": 4,
 "nbformat_minor": 5
}
