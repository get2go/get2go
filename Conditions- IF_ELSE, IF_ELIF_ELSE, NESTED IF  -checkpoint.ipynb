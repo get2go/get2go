{
 "cells": [
  {
   "cell_type": "markdown",
   "id": "8902a946",
   "metadata": {},
   "source": [
    "IF ELSE"
   ]
  },
  {
   "cell_type": "code",
   "execution_count": 1,
   "id": "735e0f77",
   "metadata": {},
   "outputs": [],
   "source": [
    "a = 20"
   ]
  },
  {
   "cell_type": "code",
   "execution_count": 2,
   "id": "4260d697",
   "metadata": {},
   "outputs": [],
   "source": [
    "if a> 15:\n",
    "    pass"
   ]
  },
  {
   "cell_type": "code",
   "execution_count": 3,
   "id": "3d822706",
   "metadata": {},
   "outputs": [],
   "source": [
    "# : - is must in python for every condition(like if, for loop, etc)\n",
    "# pass - a reserved key word used when user isn't going to use it, then it returns nothing (like dead code)"
   ]
  },
  {
   "cell_type": "code",
   "execution_count": 4,
   "id": "ffeb29e5",
   "metadata": {},
   "outputs": [],
   "source": [
    "if a< 10:\n",
    "    print(a)"
   ]
  },
  {
   "cell_type": "code",
   "execution_count": 5,
   "id": "94fda8b0",
   "metadata": {},
   "outputs": [],
   "source": [
    "# as condition is failed, it returns nothing"
   ]
  },
  {
   "cell_type": "code",
   "execution_count": 6,
   "id": "89e5b5b8",
   "metadata": {},
   "outputs": [
    {
     "name": "stdout",
     "output_type": "stream",
     "text": [
      "A is greater\n"
     ]
    }
   ],
   "source": [
    "if a>18:\n",
    "    print('A is greater')\n",
    "else:\n",
    "    print('A is smaller')"
   ]
  },
  {
   "cell_type": "markdown",
   "id": "146ba7cd",
   "metadata": {},
   "source": [
    "MULTIPLE CONDITIONAL STATEMENT"
   ]
  },
  {
   "cell_type": "code",
   "execution_count": 7,
   "id": "3842de01",
   "metadata": {},
   "outputs": [
    {
     "name": "stdout",
     "output_type": "stream",
     "text": [
      "I will buy all\n"
     ]
    }
   ],
   "source": [
    "income = 10000 \n",
    "if income < 5000:\n",
    "    print('I will buy a phone')\n",
    "elif income < 6000:\n",
    "    print('I will buy a TV')\n",
    "elif income < 7000:\n",
    "    print(\"I'll buy a car\" )\n",
    "elif income < 8000:\n",
    "    print('I rent a house')\n",
    "else:\n",
    "    print(\"I will buy all\")"
   ]
  },
  {
   "cell_type": "code",
   "execution_count": 8,
   "id": "ba160a24",
   "metadata": {},
   "outputs": [],
   "source": [
    "# elif- means else if, it means if given statement doesn't satisfy if condition, it checks for elif"
   ]
  },
  {
   "cell_type": "code",
   "execution_count": 9,
   "id": "6421bf0a",
   "metadata": {},
   "outputs": [
    {
     "name": "stdout",
     "output_type": "stream",
     "text": [
      "6500\n",
      "I'll buy a car\n"
     ]
    }
   ],
   "source": [
    "income = int(input())\n",
    "if income < 5000:\n",
    "    print('I will buy a phone')\n",
    "elif income < 6000:\n",
    "    print('I will buy a TV')\n",
    "elif income < 7000:\n",
    "    print(\"I'll buy a car\" )\n",
    "elif income < 8000:\n",
    "    print('I rent a house')\n",
    "else:\n",
    "    print(\"I will buy all\")"
   ]
  },
  {
   "cell_type": "code",
   "execution_count": 10,
   "id": "0e365435",
   "metadata": {},
   "outputs": [],
   "source": [
    "# input- takes string data, so we need to type cast it into int for comparision"
   ]
  },
  {
   "cell_type": "code",
   "execution_count": 11,
   "id": "a1739cd1",
   "metadata": {},
   "outputs": [
    {
     "name": "stdout",
     "output_type": "stream",
     "text": [
      "6500\n",
      "Discount will be  650.0\n"
     ]
    }
   ],
   "source": [
    "Total_price =int(input())\n",
    "if Total_price > 6000:\n",
    "    discount = Total_price *.10\n",
    "    print('Discount will be ', discount)\n",
    "elif Total_price >=7500:\n",
    "    discount = Total_price *.15\n",
    "    print(\"Discount will be \", discount)\n",
    "elif Total_price >8500:\n",
    "    discount = Total_price *.08\n",
    "    print(\"Discount will be \", discount)\n",
    "else:\n",
    "    print(\"Discount isn't available\")"
   ]
  },
  {
   "cell_type": "code",
   "execution_count": 12,
   "id": "236a8c82",
   "metadata": {},
   "outputs": [
    {
     "name": "stdout",
     "output_type": "stream",
     "text": [
      "You will get a disc of 15%\n",
      "You have to pay  6375.0\n"
     ]
    }
   ],
   "source": [
    "coup = \"AMAZON15\"\n",
    "if coup == 'AMAZON15':\n",
    "    print('You will get a disc of 15%')\n",
    "    paid_amt = 7500- 7500*.15\n",
    "    print('You have to pay ', paid_amt)\n",
    "else:\n",
    "    print(\"plz use a valid coupon code\")"
   ]
  },
  {
   "cell_type": "code",
   "execution_count": 13,
   "id": "d815b27b",
   "metadata": {},
   "outputs": [
    {
     "name": "stdout",
     "output_type": "stream",
     "text": [
      "amazon15\n",
      "6,6,2021\n"
     ]
    },
    {
     "ename": "ValueError",
     "evalue": "invalid literal for int() with base 10: '6,6,2021'",
     "output_type": "error",
     "traceback": [
      "\u001b[1;31m---------------------------------------------------------------------------\u001b[0m",
      "\u001b[1;31mValueError\u001b[0m                                Traceback (most recent call last)",
      "\u001b[1;32m<ipython-input-13-a75cb1c093f0>\u001b[0m in \u001b[0;36m<module>\u001b[1;34m\u001b[0m\n\u001b[0;32m      1\u001b[0m \u001b[0mcoup\u001b[0m \u001b[1;33m=\u001b[0m \u001b[0minput\u001b[0m\u001b[1;33m(\u001b[0m\u001b[1;33m)\u001b[0m\u001b[1;33m\u001b[0m\u001b[1;33m\u001b[0m\u001b[0m\n\u001b[1;32m----> 2\u001b[1;33m \u001b[0mdate\u001b[0m \u001b[1;33m=\u001b[0m \u001b[0mint\u001b[0m\u001b[1;33m(\u001b[0m\u001b[0minput\u001b[0m\u001b[1;33m(\u001b[0m\u001b[1;33m)\u001b[0m\u001b[1;33m)\u001b[0m\u001b[1;33m\u001b[0m\u001b[1;33m\u001b[0m\u001b[0m\n\u001b[0m\u001b[0;32m      3\u001b[0m \u001b[1;32mif\u001b[0m \u001b[0mcoup\u001b[0m \u001b[1;33m==\u001b[0m \u001b[1;34m'AMAZON15'\u001b[0m\u001b[1;33m:\u001b[0m\u001b[1;33m\u001b[0m\u001b[1;33m\u001b[0m\u001b[0m\n\u001b[0;32m      4\u001b[0m     \u001b[0mprint\u001b[0m\u001b[1;33m(\u001b[0m\u001b[1;34m'You will get a disc of 15%'\u001b[0m\u001b[1;33m)\u001b[0m\u001b[1;33m\u001b[0m\u001b[1;33m\u001b[0m\u001b[0m\n\u001b[0;32m      5\u001b[0m     \u001b[0mpaid_amt\u001b[0m \u001b[1;33m=\u001b[0m \u001b[1;36m7500\u001b[0m\u001b[1;33m-\u001b[0m \u001b[1;36m7500\u001b[0m\u001b[1;33m*\u001b[0m\u001b[1;36m.15\u001b[0m\u001b[1;33m\u001b[0m\u001b[1;33m\u001b[0m\u001b[0m\n",
      "\u001b[1;31mValueError\u001b[0m: invalid literal for int() with base 10: '6,6,2021'"
     ]
    }
   ],
   "source": [
    "coup = input()\n",
    "date = int(input())\n",
    "if coup == 'AMAZON15':\n",
    "    print('You will get a disc of 15%')\n",
    "    paid_amt = 7500- 7500*.15\n",
    "    print('You have to pay ', paid_amt)\n",
    "    if date <= (9,6,2022):\n",
    "        print(\"You will have a lifetime access\")\n",
    "    else:\n",
    "        print('You will have access for 1 year')\n",
    "        \n",
    "else:\n",
    "    print(\"plz use a valid coupon code\")"
   ]
  },
  {
   "cell_type": "code",
   "execution_count": null,
   "id": "21421ea7",
   "metadata": {},
   "outputs": [],
   "source": [
    "#### Need to know how to key date format as data input"
   ]
  },
  {
   "cell_type": "markdown",
   "id": "e0a44a3c",
   "metadata": {},
   "source": [
    "MULTIPLE CONDITIONS"
   ]
  },
  {
   "cell_type": "code",
   "execution_count": 15,
   "id": "181734d6",
   "metadata": {},
   "outputs": [
    {
     "name": "stdout",
     "output_type": "stream",
     "text": [
      "4\n",
      "It may take 5-6 months for job placement\n"
     ]
    }
   ],
   "source": [
    "studyhour = int(input())\n",
    "if studyhour ==2:\n",
    "    print(\"It may take 8-9 months for job placement\")\n",
    "elif studyhour>2 & studyhour<5:\n",
    "    print(\"It may take 5-6 months for job placement\")\n",
    "else:\n",
    "    print(\"it will be difficult\")"
   ]
  },
  {
   "cell_type": "code",
   "execution_count": 18,
   "id": "36220dba",
   "metadata": {},
   "outputs": [
    {
     "name": "stdout",
     "output_type": "stream",
     "text": [
      "20000\n",
      "I can rent a house\n"
     ]
    }
   ],
   "source": [
    "wages = int(input())\n",
    "if wages == 6000:\n",
    "    print(\"I can have 2 meals a day\")\n",
    "elif wages < 10000 & wages >6000 :\n",
    "    print(\"I can have 3 meals a day\")\n",
    "elif wages >10000 & wages < 20000:\n",
    "    print(\"I can rent a house\")\n",
    "else:\n",
    "    print(\"It's difficult to pass a day without meal\")"
   ]
  },
  {
   "cell_type": "code",
   "execution_count": 20,
   "id": "875f26e2",
   "metadata": {},
   "outputs": [
    {
     "name": "stdout",
     "output_type": "stream",
     "text": [
      "17550.43\n",
      "I can save 5000 per month\n"
     ]
    }
   ],
   "source": [
    "expenses = float(input())\n",
    "if expenses == 6000:\n",
    "    print(\"I can't save anything\")\n",
    "elif expenses < 10000 and expenses >6000 :\n",
    "    print(\"I can save 500 per month\")\n",
    "elif expenses >10000 and expenses < 20000:\n",
    "    print(\"I can save 5000 per month\")\n",
    "else:\n",
    "    print(\"It's difficult to survive\")"
   ]
  },
  {
   "cell_type": "code",
   "execution_count": 21,
   "id": "9a5642c5",
   "metadata": {},
   "outputs": [],
   "source": [
    "# float- doesn't support operand (&), so use and to run it"
   ]
  },
  {
   "cell_type": "code",
   "execution_count": 23,
   "id": "40d72b68",
   "metadata": {},
   "outputs": [
    {
     "name": "stdout",
     "output_type": "stream",
     "text": [
      "Oneneuron\n",
      "DataScience\n",
      "Please enter valid details\n"
     ]
    }
   ],
   "source": [
    "s = input()\n",
    "course = input()\n",
    "service =()\n",
    "if s==\"Ineuron\":\n",
    "    if course ==\"DataScience\":\n",
    "        if service ==\"FSDS\":\n",
    "            print(\"Course is available & costs 15000\")\n",
    "        elif service==\"1neuron\":\n",
    "            print(\"Course is available & its price is 7080\")\n",
    "        else:\n",
    "            print(\"You're request is noted, we will notify you when course is available\")\n",
    "    elif course ==\"Big_Data\":\n",
    "        if service== \"Hadoop\":\n",
    "            print(\"Course is yet to start from 1st July & U can enroll for it\")\n",
    "        elif service== \"Big_Data_Analytics\":\n",
    "            print(\"Course is present, you can enroll\")\n",
    "        else:\n",
    "            print(\"You're request is noted, we are working on it\")\n",
    "    elif course ==\"AI\":\n",
    "        if service==\"NLP\":\n",
    "            print(\"Course is available & costs 17700\")\n",
    "        elif service==\"Text_Mining\":\n",
    "            print(\"Course is already started, you can join\")\n",
    "        else:\n",
    "            print(\"Requested course is unavailable\")\n",
    "    elif service==\"BA\":\n",
    "        print(\"Business Analytics is available & it offers various sub-courses\")\n",
    "    else:\n",
    "        print(\"Sorry we're not able to meet your demand\")\n",
    "else:\n",
    "    print(\"Please enter valid details\")"
   ]
  },
  {
   "cell_type": "code",
   "execution_count": null,
   "id": "bcf397c5",
   "metadata": {},
   "outputs": [],
   "source": []
  }
 ],
 "metadata": {
  "kernelspec": {
   "display_name": "Python 3",
   "language": "python",
   "name": "python3"
  },
  "language_info": {
   "codemirror_mode": {
    "name": "ipython",
    "version": 3
   },
   "file_extension": ".py",
   "mimetype": "text/x-python",
   "name": "python",
   "nbconvert_exporter": "python",
   "pygments_lexer": "ipython3",
   "version": "3.8.8"
  }
 },
 "nbformat": 4,
 "nbformat_minor": 5
}
