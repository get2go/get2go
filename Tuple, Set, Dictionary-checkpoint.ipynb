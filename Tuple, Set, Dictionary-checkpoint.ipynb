{
 "cells": [
  {
   "cell_type": "raw",
   "id": "6acbed98",
   "metadata": {},
   "source": [
    "Data Types:\n",
    "String - A collection of characters. Notation - \" \" or ' '\n",
    "List - A collection of homogenous or hetrogenous elements. Notation -[] \n",
    "Tuple- Its similar to a list but not exactly a list. A collection to hold multiple elements at atime. Notation- ()"
   ]
  },
  {
   "cell_type": "code",
   "execution_count": 1,
   "id": "81ae32ae",
   "metadata": {},
   "outputs": [],
   "source": [
    "T = (1,23.45, 45+67j, 'tuples', False, [78,54,23])"
   ]
  },
  {
   "cell_type": "code",
   "execution_count": 2,
   "id": "67840408",
   "metadata": {},
   "outputs": [
    {
     "data": {
      "text/plain": [
       "tuple"
      ]
     },
     "execution_count": 2,
     "metadata": {},
     "output_type": "execute_result"
    }
   ],
   "source": [
    "type(T)"
   ]
  },
  {
   "cell_type": "markdown",
   "id": "98dfbac5",
   "metadata": {},
   "source": [
    "Slicing of Tuples/ Accessing elements in Tuple"
   ]
  },
  {
   "cell_type": "code",
   "execution_count": 3,
   "id": "5eb2acce",
   "metadata": {},
   "outputs": [
    {
     "data": {
      "text/plain": [
       "(1, 23.45, (45+67j))"
      ]
     },
     "execution_count": 3,
     "metadata": {},
     "output_type": "execute_result"
    }
   ],
   "source": [
    "T[0:3]"
   ]
  },
  {
   "cell_type": "raw",
   "id": "222a42ec",
   "metadata": {},
   "source": [
    "Note: Incase of slicing, whether its a tuple or list, should use [] only"
   ]
  },
  {
   "cell_type": "code",
   "execution_count": 4,
   "id": "fd15249e",
   "metadata": {},
   "outputs": [
    {
     "data": {
      "text/plain": [
       "([78, 54, 23], False, 'tuples', (45+67j), 23.45, 1)"
      ]
     },
     "execution_count": 4,
     "metadata": {},
     "output_type": "execute_result"
    }
   ],
   "source": [
    "T[::-1]"
   ]
  },
  {
   "cell_type": "code",
   "execution_count": 5,
   "id": "943a8a36",
   "metadata": {},
   "outputs": [
    {
     "data": {
      "text/plain": [
       "[78, 54, 23]"
      ]
     },
     "execution_count": 5,
     "metadata": {},
     "output_type": "execute_result"
    }
   ],
   "source": [
    "T[-1]"
   ]
  },
  {
   "cell_type": "raw",
   "id": "37baa3e4",
   "metadata": {},
   "source": [
    "So incase of slicing operations, no difference bewteen string/ list / tuple.Will able to access elements in same manner"
   ]
  },
  {
   "cell_type": "code",
   "execution_count": 6,
   "id": "29d0c01e",
   "metadata": {},
   "outputs": [
    {
     "data": {
      "text/plain": [
       "(1, (45+67j), False)"
      ]
     },
     "execution_count": 6,
     "metadata": {},
     "output_type": "execute_result"
    }
   ],
   "source": [
    "T[0::2]"
   ]
  },
  {
   "cell_type": "markdown",
   "id": "ac89dbcc",
   "metadata": {},
   "source": [
    "Item Assignment Operations"
   ]
  },
  {
   "cell_type": "code",
   "execution_count": 7,
   "id": "c3247526",
   "metadata": {},
   "outputs": [],
   "source": [
    "L1 = [1,3,5,7,9, False]"
   ]
  },
  {
   "cell_type": "code",
   "execution_count": 8,
   "id": "185f8d9f",
   "metadata": {},
   "outputs": [],
   "source": [
    "T2 = (2,4,6,8, True)"
   ]
  },
  {
   "cell_type": "code",
   "execution_count": 9,
   "id": "4ffa8c73",
   "metadata": {},
   "outputs": [],
   "source": [
    "L1[-1] = \"False\""
   ]
  },
  {
   "cell_type": "code",
   "execution_count": 10,
   "id": "647fd99c",
   "metadata": {},
   "outputs": [
    {
     "data": {
      "text/plain": [
       "[1, 3, 5, 7, 9, 'False']"
      ]
     },
     "execution_count": 10,
     "metadata": {},
     "output_type": "execute_result"
    }
   ],
   "source": [
    "L1"
   ]
  },
  {
   "cell_type": "code",
   "execution_count": 11,
   "id": "df2dbdb2",
   "metadata": {},
   "outputs": [
    {
     "ename": "TypeError",
     "evalue": "'tuple' object does not support item assignment",
     "output_type": "error",
     "traceback": [
      "\u001b[1;31m---------------------------------------------------------------------------\u001b[0m",
      "\u001b[1;31mTypeError\u001b[0m                                 Traceback (most recent call last)",
      "\u001b[1;32m<ipython-input-11-309ce437ad93>\u001b[0m in \u001b[0;36m<module>\u001b[1;34m\u001b[0m\n\u001b[1;32m----> 1\u001b[1;33m \u001b[0mT2\u001b[0m\u001b[1;33m[\u001b[0m\u001b[1;33m-\u001b[0m\u001b[1;36m1\u001b[0m\u001b[1;33m]\u001b[0m \u001b[1;33m=\u001b[0m \u001b[1;34m'True'\u001b[0m\u001b[1;33m\u001b[0m\u001b[1;33m\u001b[0m\u001b[0m\n\u001b[0m",
      "\u001b[1;31mTypeError\u001b[0m: 'tuple' object does not support item assignment"
     ]
    }
   ],
   "source": [
    "T2[-1] = 'True'"
   ]
  },
  {
   "cell_type": "raw",
   "id": "090d325b",
   "metadata": {},
   "source": [
    "1st difference between List & Tuple is Notation\n",
    "2nd difference is item assignment of particular index supports List but not Tuple"
   ]
  },
  {
   "cell_type": "code",
   "execution_count": 27,
   "id": "9a2efe93",
   "metadata": {},
   "outputs": [
    {
     "data": {
      "text/plain": [
       "(1, 23.45, (45+67j), 'tuples', False, [78, 54, 23])"
      ]
     },
     "execution_count": 27,
     "metadata": {},
     "output_type": "execute_result"
    }
   ],
   "source": [
    "T"
   ]
  },
  {
   "cell_type": "code",
   "execution_count": 28,
   "id": "f2a37b21",
   "metadata": {},
   "outputs": [
    {
     "data": {
      "text/plain": [
       "(2, 4, 6, 8, True)"
      ]
     },
     "execution_count": 28,
     "metadata": {},
     "output_type": "execute_result"
    }
   ],
   "source": [
    "T2"
   ]
  },
  {
   "cell_type": "code",
   "execution_count": 29,
   "id": "d186b2d3",
   "metadata": {},
   "outputs": [
    {
     "data": {
      "text/plain": [
       "(1, 23.45, (45+67j), 'tuples', False, [78, 54, 23], 2, 4, 6, 8, True)"
      ]
     },
     "execution_count": 29,
     "metadata": {},
     "output_type": "execute_result"
    }
   ],
   "source": [
    "T+T2"
   ]
  },
  {
   "cell_type": "code",
   "execution_count": 30,
   "id": "a3807894",
   "metadata": {},
   "outputs": [
    {
     "ename": "TypeError",
     "evalue": "can only concatenate tuple (not \"int\") to tuple",
     "output_type": "error",
     "traceback": [
      "\u001b[1;31m---------------------------------------------------------------------------\u001b[0m",
      "\u001b[1;31mTypeError\u001b[0m                                 Traceback (most recent call last)",
      "\u001b[1;32m<ipython-input-30-7d13622cb063>\u001b[0m in \u001b[0;36m<module>\u001b[1;34m\u001b[0m\n\u001b[1;32m----> 1\u001b[1;33m \u001b[0mT2\u001b[0m\u001b[1;33m+\u001b[0m\u001b[1;36m56\u001b[0m\u001b[1;33m\u001b[0m\u001b[1;33m\u001b[0m\u001b[0m\n\u001b[0m",
      "\u001b[1;31mTypeError\u001b[0m: can only concatenate tuple (not \"int\") to tuple"
     ]
    }
   ],
   "source": [
    "T2+56"
   ]
  },
  {
   "cell_type": "code",
   "execution_count": 31,
   "id": "a76820d6",
   "metadata": {},
   "outputs": [
    {
     "ename": "TypeError",
     "evalue": "can only concatenate tuple (not \"str\") to tuple",
     "output_type": "error",
     "traceback": [
      "\u001b[1;31m---------------------------------------------------------------------------\u001b[0m",
      "\u001b[1;31mTypeError\u001b[0m                                 Traceback (most recent call last)",
      "\u001b[1;32m<ipython-input-31-6475c75300ab>\u001b[0m in \u001b[0;36m<module>\u001b[1;34m\u001b[0m\n\u001b[1;32m----> 1\u001b[1;33m \u001b[0mT\u001b[0m\u001b[1;33m+\u001b[0m\u001b[1;34m' '\u001b[0m\u001b[1;33m\u001b[0m\u001b[1;33m\u001b[0m\u001b[0m\n\u001b[0m",
      "\u001b[1;31mTypeError\u001b[0m: can only concatenate tuple (not \"str\") to tuple"
     ]
    }
   ],
   "source": [
    "T+' '"
   ]
  },
  {
   "cell_type": "code",
   "execution_count": 32,
   "id": "f25551d1",
   "metadata": {},
   "outputs": [],
   "source": [
    "# So addition of Tuples is possible only with Tuples"
   ]
  },
  {
   "cell_type": "code",
   "execution_count": 33,
   "id": "177d8846",
   "metadata": {},
   "outputs": [
    {
     "data": {
      "text/plain": [
       "(1,\n",
       " 23.45,\n",
       " (45+67j),\n",
       " 'tuples',\n",
       " False,\n",
       " [78, 54, 23],\n",
       " 1,\n",
       " 23.45,\n",
       " (45+67j),\n",
       " 'tuples',\n",
       " False,\n",
       " [78, 54, 23])"
      ]
     },
     "execution_count": 33,
     "metadata": {},
     "output_type": "execute_result"
    }
   ],
   "source": [
    "T*2"
   ]
  },
  {
   "cell_type": "code",
   "execution_count": 34,
   "id": "e818bbf3",
   "metadata": {},
   "outputs": [
    {
     "data": {
      "text/plain": [
       "(2, 4, 6, 8, True)"
      ]
     },
     "execution_count": 34,
     "metadata": {},
     "output_type": "execute_result"
    }
   ],
   "source": [
    "T2"
   ]
  },
  {
   "cell_type": "raw",
   "id": "31e32861",
   "metadata": {},
   "source": [
    "As Tuple is immutable, it cant support many inbuilt operations like List. It can only perform count & index"
   ]
  },
  {
   "cell_type": "code",
   "execution_count": 35,
   "id": "28f13f44",
   "metadata": {},
   "outputs": [
    {
     "data": {
      "text/plain": [
       "(1, 23.45, (45+67j), 'tuples', False, [78, 54, 23])"
      ]
     },
     "execution_count": 35,
     "metadata": {},
     "output_type": "execute_result"
    }
   ],
   "source": [
    "T"
   ]
  },
  {
   "cell_type": "code",
   "execution_count": 36,
   "id": "80a6de79",
   "metadata": {},
   "outputs": [
    {
     "data": {
      "text/plain": [
       "(45+67j)"
      ]
     },
     "execution_count": 36,
     "metadata": {},
     "output_type": "execute_result"
    }
   ],
   "source": [
    "T[2]"
   ]
  },
  {
   "cell_type": "code",
   "execution_count": 37,
   "id": "8e006102",
   "metadata": {},
   "outputs": [
    {
     "data": {
      "text/plain": [
       "45.0"
      ]
     },
     "execution_count": 37,
     "metadata": {},
     "output_type": "execute_result"
    }
   ],
   "source": [
    "T[2].real"
   ]
  },
  {
   "cell_type": "code",
   "execution_count": 38,
   "id": "3784bdfe",
   "metadata": {},
   "outputs": [
    {
     "data": {
      "text/plain": [
       "1"
      ]
     },
     "execution_count": 38,
     "metadata": {},
     "output_type": "execute_result"
    }
   ],
   "source": [
    "T.count(True) #why is it showing as 1 when it's not present"
   ]
  },
  {
   "cell_type": "code",
   "execution_count": 39,
   "id": "5200e484",
   "metadata": {},
   "outputs": [
    {
     "data": {
      "text/plain": [
       "4"
      ]
     },
     "execution_count": 39,
     "metadata": {},
     "output_type": "execute_result"
    }
   ],
   "source": [
    "T.index(False)"
   ]
  },
  {
   "cell_type": "code",
   "execution_count": 40,
   "id": "b7913497",
   "metadata": {},
   "outputs": [],
   "source": [
    "TUP =(3,5,7,11,True)"
   ]
  },
  {
   "cell_type": "code",
   "execution_count": 41,
   "id": "22f2b6ab",
   "metadata": {},
   "outputs": [
    {
     "data": {
      "text/plain": [
       "4"
      ]
     },
     "execution_count": 41,
     "metadata": {},
     "output_type": "execute_result"
    }
   ],
   "source": [
    "TUP.index(True)"
   ]
  },
  {
   "cell_type": "raw",
   "id": "03bce714",
   "metadata": {},
   "source": [
    "Advantage of tuple- Its used wherever user dont want to let data manipulate, there he stores data in tuples.\n",
    "-It can be also used wherever data to be stored is fixed in collection, as it never supports append/ extend/ insert operation."
   ]
  },
  {
   "cell_type": "code",
   "execution_count": 42,
   "id": "fc3e8dc7",
   "metadata": {},
   "outputs": [],
   "source": [
    "T1 = (132,45, \"agjd\", (56.87,0.01))"
   ]
  },
  {
   "cell_type": "code",
   "execution_count": 43,
   "id": "8e56d446",
   "metadata": {},
   "outputs": [],
   "source": [
    "T2 = (345j, True, [76,78,False], (\"saree\"))"
   ]
  },
  {
   "cell_type": "code",
   "execution_count": 44,
   "id": "3210bf46",
   "metadata": {},
   "outputs": [
    {
     "data": {
      "text/plain": [
       "(132, 45, 'agjd', (56.87, 0.01), 345j, True, [76, 78, False], 'saree')"
      ]
     },
     "execution_count": 44,
     "metadata": {},
     "output_type": "execute_result"
    }
   ],
   "source": [
    "T1+T2"
   ]
  },
  {
   "cell_type": "code",
   "execution_count": 45,
   "id": "1b0fcac3",
   "metadata": {},
   "outputs": [],
   "source": [
    "# So tuple can hold tuple inside tuple. And also hold list & tuple at atime inside tuple"
   ]
  },
  {
   "cell_type": "code",
   "execution_count": 46,
   "id": "75449a25",
   "metadata": {},
   "outputs": [],
   "source": [
    "T2[2].insert(1, \"rain\")"
   ]
  },
  {
   "cell_type": "code",
   "execution_count": 47,
   "id": "e64948d0",
   "metadata": {},
   "outputs": [
    {
     "data": {
      "text/plain": [
       "(345j, True, [76, 'rain', 78, False], 'saree')"
      ]
     },
     "execution_count": 47,
     "metadata": {},
     "output_type": "execute_result"
    }
   ],
   "source": [
    "T2"
   ]
  },
  {
   "cell_type": "code",
   "execution_count": 48,
   "id": "923c9a0a",
   "metadata": {},
   "outputs": [],
   "source": [
    "# We can perform insert or any other fun's as it is List which is present inside tuple but cant reassign elements in tuple "
   ]
  },
  {
   "cell_type": "markdown",
   "id": "39884890",
   "metadata": {},
   "source": [
    "# Conversion of Data types"
   ]
  },
  {
   "cell_type": "code",
   "execution_count": 49,
   "id": "451dc8de",
   "metadata": {},
   "outputs": [],
   "source": [
    "# List to Tuple"
   ]
  },
  {
   "cell_type": "code",
   "execution_count": 50,
   "id": "9845e39e",
   "metadata": {},
   "outputs": [],
   "source": [
    "List1 = [1,34,45,55,56,'hbjj', ['small']]"
   ]
  },
  {
   "cell_type": "code",
   "execution_count": 51,
   "id": "48cd0b2d",
   "metadata": {},
   "outputs": [],
   "source": [
    "TL1 = tuple(List1)"
   ]
  },
  {
   "cell_type": "code",
   "execution_count": 52,
   "id": "28332509",
   "metadata": {},
   "outputs": [
    {
     "data": {
      "text/plain": [
       "tuple"
      ]
     },
     "execution_count": 52,
     "metadata": {},
     "output_type": "execute_result"
    }
   ],
   "source": [
    "type(TL1)"
   ]
  },
  {
   "cell_type": "code",
   "execution_count": 53,
   "id": "ecc73c98",
   "metadata": {},
   "outputs": [
    {
     "data": {
      "text/plain": [
       "(1, 34, 45, 55, 56, 'hbjj', ['small'])"
      ]
     },
     "execution_count": 53,
     "metadata": {},
     "output_type": "execute_result"
    }
   ],
   "source": [
    "TL1"
   ]
  },
  {
   "cell_type": "code",
   "execution_count": 54,
   "id": "42df5e76",
   "metadata": {},
   "outputs": [],
   "source": [
    "Tuple1 = (('wesley'), 867,544658, '%^&&*',[865645,165164.1561])"
   ]
  },
  {
   "cell_type": "code",
   "execution_count": 55,
   "id": "3b36b598",
   "metadata": {},
   "outputs": [
    {
     "name": "stdout",
     "output_type": "stream",
     "text": [
      "['wesley', 867, 544658, '%^&&*', [865645, 165164.1561]]\n"
     ]
    },
    {
     "data": {
      "text/plain": [
       "list"
      ]
     },
     "execution_count": 55,
     "metadata": {},
     "output_type": "execute_result"
    }
   ],
   "source": [
    "LT1 = list(Tuple1)\n",
    "print(LT1)\n",
    "type(LT1)"
   ]
  },
  {
   "cell_type": "raw",
   "id": "ad9d007d",
   "metadata": {},
   "source": [
    "# Conversion of the inner tuple into List- Needs to be verified"
   ]
  },
  {
   "cell_type": "markdown",
   "id": "de089292",
   "metadata": {},
   "source": [
    "# Sets"
   ]
  },
  {
   "cell_type": "code",
   "execution_count": 56,
   "id": "8a3ebcd1",
   "metadata": {},
   "outputs": [],
   "source": [
    "# Set - It is a function used for removing duplicate elements in a list/ tuple, Notation- {}"
   ]
  },
  {
   "cell_type": "code",
   "execution_count": 57,
   "id": "0b1baa07",
   "metadata": {},
   "outputs": [],
   "source": [
    "St = [1,2,3,89,4,56,56,4,3,2,1,89,2,56,5,6,7,8,45,45]"
   ]
  },
  {
   "cell_type": "code",
   "execution_count": 58,
   "id": "331910c6",
   "metadata": {},
   "outputs": [],
   "source": [
    "S = set(St)"
   ]
  },
  {
   "cell_type": "code",
   "execution_count": 59,
   "id": "f4bef2fb",
   "metadata": {},
   "outputs": [
    {
     "data": {
      "text/plain": [
       "{1, 2, 3, 4, 5, 6, 7, 8, 45, 56, 89}"
      ]
     },
     "execution_count": 59,
     "metadata": {},
     "output_type": "execute_result"
    }
   ],
   "source": [
    "S"
   ]
  },
  {
   "cell_type": "code",
   "execution_count": 60,
   "id": "05e5336c",
   "metadata": {},
   "outputs": [
    {
     "ename": "TypeError",
     "evalue": "'set' object is not subscriptable",
     "output_type": "error",
     "traceback": [
      "\u001b[1;31m---------------------------------------------------------------------------\u001b[0m",
      "\u001b[1;31mTypeError\u001b[0m                                 Traceback (most recent call last)",
      "\u001b[1;32m<ipython-input-60-aa0c54f83bdc>\u001b[0m in \u001b[0;36m<module>\u001b[1;34m\u001b[0m\n\u001b[1;32m----> 1\u001b[1;33m \u001b[0mS\u001b[0m\u001b[1;33m[\u001b[0m\u001b[1;36m2\u001b[0m\u001b[1;33m]\u001b[0m\u001b[1;33m\u001b[0m\u001b[1;33m\u001b[0m\u001b[0m\n\u001b[0m",
      "\u001b[1;31mTypeError\u001b[0m: 'set' object is not subscriptable"
     ]
    }
   ],
   "source": [
    "S[2]"
   ]
  },
  {
   "cell_type": "raw",
   "id": "dee149b6",
   "metadata": {},
   "source": [
    "We cant access elements in set bcoz it is an unordered collection of unique elements, so to access the elements, convert it into List and access it"
   ]
  },
  {
   "cell_type": "code",
   "execution_count": 61,
   "id": "1248e83c",
   "metadata": {},
   "outputs": [],
   "source": [
    "Tup = (567,6556,765,567,765,456,876,456,987,987,12,12)"
   ]
  },
  {
   "cell_type": "code",
   "execution_count": 62,
   "id": "ffa13811",
   "metadata": {},
   "outputs": [
    {
     "data": {
      "text/plain": [
       "{12, 456, 567, 765, 876, 987, 6556}"
      ]
     },
     "execution_count": 62,
     "metadata": {},
     "output_type": "execute_result"
    }
   ],
   "source": [
    "set(Tup)"
   ]
  },
  {
   "cell_type": "code",
   "execution_count": 63,
   "id": "e69ef601",
   "metadata": {},
   "outputs": [],
   "source": [
    "q ={}\n",
    "r ={ }"
   ]
  },
  {
   "cell_type": "code",
   "execution_count": 64,
   "id": "1db99546",
   "metadata": {},
   "outputs": [
    {
     "data": {
      "text/plain": [
       "dict"
      ]
     },
     "execution_count": 64,
     "metadata": {},
     "output_type": "execute_result"
    }
   ],
   "source": [
    "type(q)"
   ]
  },
  {
   "cell_type": "code",
   "execution_count": 65,
   "id": "7151f0b1",
   "metadata": {},
   "outputs": [
    {
     "data": {
      "text/plain": [
       "dict"
      ]
     },
     "execution_count": 65,
     "metadata": {},
     "output_type": "execute_result"
    }
   ],
   "source": [
    "type(r)"
   ]
  },
  {
   "cell_type": "code",
   "execution_count": 66,
   "id": "6c2cfeb8",
   "metadata": {},
   "outputs": [],
   "source": [
    "s1 = {1,45.52,890,'fella', \"class\"}"
   ]
  },
  {
   "cell_type": "code",
   "execution_count": 67,
   "id": "3ec25bee",
   "metadata": {},
   "outputs": [
    {
     "data": {
      "text/plain": [
       "set"
      ]
     },
     "execution_count": 67,
     "metadata": {},
     "output_type": "execute_result"
    }
   ],
   "source": [
    "type(s1)"
   ]
  },
  {
   "cell_type": "code",
   "execution_count": 68,
   "id": "426b66e0",
   "metadata": {},
   "outputs": [],
   "source": [
    "# when there's no element given in {}, called as dictionary\n",
    "# Even if a single element is given in {}, known as set"
   ]
  },
  {
   "cell_type": "code",
   "execution_count": 69,
   "id": "6417254e",
   "metadata": {},
   "outputs": [],
   "source": [
    "s2 ={1,2,3,1,2,3,4,5,3,2,1,5,6,9}"
   ]
  },
  {
   "cell_type": "code",
   "execution_count": 70,
   "id": "5f546273",
   "metadata": {},
   "outputs": [
    {
     "data": {
      "text/plain": [
       "{1, 2, 3, 4, 5, 6, 9}"
      ]
     },
     "execution_count": 70,
     "metadata": {},
     "output_type": "execute_result"
    }
   ],
   "source": [
    "s2"
   ]
  },
  {
   "cell_type": "code",
   "execution_count": 71,
   "id": "37b95664",
   "metadata": {},
   "outputs": [
    {
     "data": {
      "text/plain": [
       "[1, 2, 3, 4, 5, 6, 9]"
      ]
     },
     "execution_count": 71,
     "metadata": {},
     "output_type": "execute_result"
    }
   ],
   "source": [
    "list(s2)"
   ]
  },
  {
   "cell_type": "code",
   "execution_count": 72,
   "id": "930404b2",
   "metadata": {},
   "outputs": [],
   "source": [
    "# Functionalities of Set"
   ]
  },
  {
   "cell_type": "code",
   "execution_count": 73,
   "id": "a085e04d",
   "metadata": {},
   "outputs": [],
   "source": [
    "s2.add('add')"
   ]
  },
  {
   "cell_type": "code",
   "execution_count": 74,
   "id": "fe1d9c8a",
   "metadata": {},
   "outputs": [
    {
     "data": {
      "text/plain": [
       "{1, 2, 3, 4, 5, 6, 9, 'add'}"
      ]
     },
     "execution_count": 74,
     "metadata": {},
     "output_type": "execute_result"
    }
   ],
   "source": [
    "s2"
   ]
  },
  {
   "cell_type": "code",
   "execution_count": 75,
   "id": "23b4200a",
   "metadata": {},
   "outputs": [
    {
     "ename": "TypeError",
     "evalue": "unhashable type: 'list'",
     "output_type": "error",
     "traceback": [
      "\u001b[1;31m---------------------------------------------------------------------------\u001b[0m",
      "\u001b[1;31mTypeError\u001b[0m                                 Traceback (most recent call last)",
      "\u001b[1;32m<ipython-input-75-ee521507de69>\u001b[0m in \u001b[0;36m<module>\u001b[1;34m\u001b[0m\n\u001b[1;32m----> 1\u001b[1;33m \u001b[0ms2\u001b[0m\u001b[1;33m.\u001b[0m\u001b[0madd\u001b[0m\u001b[1;33m(\u001b[0m\u001b[1;33m[\u001b[0m\u001b[1;36m12\u001b[0m\u001b[1;33m,\u001b[0m\u001b[1;36m234.45\u001b[0m\u001b[1;33m]\u001b[0m\u001b[1;33m)\u001b[0m\u001b[1;33m\u001b[0m\u001b[1;33m\u001b[0m\u001b[0m\n\u001b[0m",
      "\u001b[1;31mTypeError\u001b[0m: unhashable type: 'list'"
     ]
    }
   ],
   "source": [
    "s2.add([12,234.45])"
   ]
  },
  {
   "cell_type": "code",
   "execution_count": 76,
   "id": "e494d442",
   "metadata": {},
   "outputs": [],
   "source": [
    "# able to add integer, float, string to set but not list. Bcoz as set holds unordered collection of unique elements.\n",
    "# It can always find the uniqueness in between primitive data type but not in between collection"
   ]
  },
  {
   "cell_type": "code",
   "execution_count": 77,
   "id": "acb86397",
   "metadata": {},
   "outputs": [],
   "source": [
    "s2.add((23,67j,'string'))"
   ]
  },
  {
   "cell_type": "code",
   "execution_count": 78,
   "id": "da611173",
   "metadata": {},
   "outputs": [
    {
     "data": {
      "text/plain": [
       "{(23, 67j, 'string'), 1, 2, 3, 4, 5, 6, 9, 'add'}"
      ]
     },
     "execution_count": 78,
     "metadata": {},
     "output_type": "execute_result"
    }
   ],
   "source": [
    "s2"
   ]
  },
  {
   "cell_type": "code",
   "execution_count": 79,
   "id": "b9667448",
   "metadata": {},
   "outputs": [],
   "source": [
    "# Set allows to host a tuple as it is immutable. It means as we can't make any changes to tuple and its indices. Hence it allows"
   ]
  },
  {
   "cell_type": "code",
   "execution_count": 80,
   "id": "03421c57",
   "metadata": {},
   "outputs": [],
   "source": [
    "s1 = {(23,67j,'string'), (23,67j,'string'), 12, 34, 45, 34, 45}"
   ]
  },
  {
   "cell_type": "code",
   "execution_count": 81,
   "id": "561365fe",
   "metadata": {},
   "outputs": [
    {
     "data": {
      "text/plain": [
       "{(23, 67j, 'string'), 12, 34, 45}"
      ]
     },
     "execution_count": 81,
     "metadata": {},
     "output_type": "execute_result"
    }
   ],
   "source": [
    "s1"
   ]
  },
  {
   "cell_type": "code",
   "execution_count": 82,
   "id": "df41412a",
   "metadata": {},
   "outputs": [],
   "source": [
    "# As set contains only unordered unique elements, so it removed same tuple"
   ]
  },
  {
   "cell_type": "code",
   "execution_count": 83,
   "id": "0c591feb",
   "metadata": {},
   "outputs": [],
   "source": [
    "s1.remove(34)"
   ]
  },
  {
   "cell_type": "code",
   "execution_count": 84,
   "id": "666bfa79",
   "metadata": {},
   "outputs": [
    {
     "data": {
      "text/plain": [
       "{(23, 67j, 'string'), 12, 45}"
      ]
     },
     "execution_count": 84,
     "metadata": {},
     "output_type": "execute_result"
    }
   ],
   "source": [
    "s1"
   ]
  },
  {
   "cell_type": "code",
   "execution_count": 85,
   "id": "72feec92",
   "metadata": {},
   "outputs": [],
   "source": [
    "# It removes an element from a set if its a member, else throws an key error"
   ]
  },
  {
   "cell_type": "code",
   "execution_count": 86,
   "id": "4db4a8f5",
   "metadata": {},
   "outputs": [],
   "source": [
    "s1.discard('A')"
   ]
  },
  {
   "cell_type": "code",
   "execution_count": 87,
   "id": "4fb4f633",
   "metadata": {},
   "outputs": [
    {
     "data": {
      "text/plain": [
       "{(23, 67j, 'string'), 12, 45}"
      ]
     },
     "execution_count": 87,
     "metadata": {},
     "output_type": "execute_result"
    }
   ],
   "source": [
    "s1"
   ]
  },
  {
   "cell_type": "code",
   "execution_count": 88,
   "id": "e3412767",
   "metadata": {},
   "outputs": [],
   "source": [
    "# It removes an element from a set if its a member, else it returns set as it is"
   ]
  },
  {
   "cell_type": "code",
   "execution_count": 89,
   "id": "4f537bdc",
   "metadata": {},
   "outputs": [],
   "source": [
    "A = {\"cool\", \"cooL\"}"
   ]
  },
  {
   "cell_type": "code",
   "execution_count": 90,
   "id": "ac99d4b9",
   "metadata": {},
   "outputs": [
    {
     "data": {
      "text/plain": [
       "{'cooL', 'cool'}"
      ]
     },
     "execution_count": 90,
     "metadata": {},
     "output_type": "execute_result"
    }
   ],
   "source": [
    "A"
   ]
  },
  {
   "cell_type": "code",
   "execution_count": 91,
   "id": "fa8b9197",
   "metadata": {},
   "outputs": [],
   "source": [
    "# As it is case sensitive, it allows both of the elements as they're considered as unique"
   ]
  },
  {
   "cell_type": "code",
   "execution_count": 92,
   "id": "b6c8c637",
   "metadata": {},
   "outputs": [
    {
     "name": "stdout",
     "output_type": "stream",
     "text": [
      "{'cooL'}\n"
     ]
    }
   ],
   "source": [
    "A.pop()\n",
    "print(A)"
   ]
  },
  {
   "cell_type": "code",
   "execution_count": 93,
   "id": "c708dc4a",
   "metadata": {},
   "outputs": [],
   "source": [
    "# Pop fun- Diff for Set as it removes elements randomly from set as its an unordered collection of unique elements"
   ]
  },
  {
   "cell_type": "markdown",
   "id": "a2d80d79",
   "metadata": {},
   "source": [
    "# Dictionary"
   ]
  },
  {
   "cell_type": "code",
   "execution_count": 94,
   "id": "169a0673",
   "metadata": {},
   "outputs": [],
   "source": [
    "# It's a collection where we can store values in \"key & pair\"\n",
    "# It's similar to normal dictionary, where 1st value called as KEY holds the value(2nd value)\n",
    "# Notation- {}\n",
    "# Key : Value\n",
    "# It's another type of collection where it holds the data in key: value pair"
   ]
  },
  {
   "cell_type": "code",
   "execution_count": 95,
   "id": "63c6c917",
   "metadata": {},
   "outputs": [],
   "source": [
    "D1 = {1 : \"sail\", 2 :'ship', 3: 'water', 4:'deck', 5: [12,56,58.45,56j], 6:(0,1,56,85,'waves')}"
   ]
  },
  {
   "cell_type": "code",
   "execution_count": 96,
   "id": "831f475b",
   "metadata": {},
   "outputs": [
    {
     "data": {
      "text/plain": [
       "'sail'"
      ]
     },
     "execution_count": 96,
     "metadata": {},
     "output_type": "execute_result"
    }
   ],
   "source": [
    "D1[1]"
   ]
  },
  {
   "cell_type": "code",
   "execution_count": 97,
   "id": "e06b97b9",
   "metadata": {},
   "outputs": [],
   "source": [
    "# In dictionary key is similar to index in the list, so for accessing keys are used like indices"
   ]
  },
  {
   "cell_type": "code",
   "execution_count": 98,
   "id": "c3cee777",
   "metadata": {},
   "outputs": [
    {
     "data": {
      "text/plain": [
       "'Deck'"
      ]
     },
     "execution_count": 98,
     "metadata": {},
     "output_type": "execute_result"
    }
   ],
   "source": [
    "D1[4].capitalize()"
   ]
  },
  {
   "cell_type": "code",
   "execution_count": 99,
   "id": "0a352511",
   "metadata": {},
   "outputs": [
    {
     "data": {
      "text/plain": [
       "58.45"
      ]
     },
     "execution_count": 99,
     "metadata": {},
     "output_type": "execute_result"
    }
   ],
   "source": [
    "D1[5][2]"
   ]
  },
  {
   "cell_type": "code",
   "execution_count": 100,
   "id": "f96f9944",
   "metadata": {},
   "outputs": [
    {
     "ename": "SyntaxError",
     "evalue": "invalid syntax (<ipython-input-100-0508ca56c567>, line 1)",
     "output_type": "error",
     "traceback": [
      "\u001b[1;36m  File \u001b[1;32m\"<ipython-input-100-0508ca56c567>\"\u001b[1;36m, line \u001b[1;32m1\u001b[0m\n\u001b[1;33m    D2 = {^: [1,33,78,'sbjbd']}\u001b[0m\n\u001b[1;37m          ^\u001b[0m\n\u001b[1;31mSyntaxError\u001b[0m\u001b[1;31m:\u001b[0m invalid syntax\n"
     ]
    }
   ],
   "source": [
    "D2 = {^: [1,33,78,'sbjbd']}"
   ]
  },
  {
   "cell_type": "code",
   "execution_count": 101,
   "id": "97d9d3fe",
   "metadata": {},
   "outputs": [],
   "source": [
    "# So special characters given as key value wont support"
   ]
  },
  {
   "cell_type": "code",
   "execution_count": 102,
   "id": "8482c15e",
   "metadata": {},
   "outputs": [],
   "source": [
    "D3 = {'^': [1,33,78,'sbjbd']}"
   ]
  },
  {
   "cell_type": "code",
   "execution_count": 103,
   "id": "fe0adf2e",
   "metadata": {},
   "outputs": [
    {
     "data": {
      "text/plain": [
       "{'^': [1, 33, 78, 'sbjbd']}"
      ]
     },
     "execution_count": 103,
     "metadata": {},
     "output_type": "execute_result"
    }
   ],
   "source": [
    "D3"
   ]
  },
  {
   "cell_type": "code",
   "execution_count": 104,
   "id": "183cff56",
   "metadata": {},
   "outputs": [],
   "source": [
    "# Here key value has accepted a special character as it considered as string but not as a special char"
   ]
  },
  {
   "cell_type": "code",
   "execution_count": 105,
   "id": "29c6297b",
   "metadata": {},
   "outputs": [],
   "source": [
    "D4 ={'s': {344,'fdhg'}}"
   ]
  },
  {
   "cell_type": "code",
   "execution_count": 106,
   "id": "3f26affd",
   "metadata": {},
   "outputs": [
    {
     "data": {
      "text/plain": [
       "{'s': {344, 'fdhg'}}"
      ]
     },
     "execution_count": 106,
     "metadata": {},
     "output_type": "execute_result"
    }
   ],
   "source": [
    "D4"
   ]
  },
  {
   "cell_type": "code",
   "execution_count": 107,
   "id": "ef337022",
   "metadata": {},
   "outputs": [
    {
     "ename": "TypeError",
     "evalue": "unsupported operand type(s) for +: 'dict' and 'dict'",
     "output_type": "error",
     "traceback": [
      "\u001b[1;31m---------------------------------------------------------------------------\u001b[0m",
      "\u001b[1;31mTypeError\u001b[0m                                 Traceback (most recent call last)",
      "\u001b[1;32m<ipython-input-107-5bb27dc91c56>\u001b[0m in \u001b[0;36m<module>\u001b[1;34m\u001b[0m\n\u001b[1;32m----> 1\u001b[1;33m \u001b[0mD1\u001b[0m\u001b[1;33m+\u001b[0m\u001b[0mD4\u001b[0m\u001b[1;33m\u001b[0m\u001b[1;33m\u001b[0m\u001b[0m\n\u001b[0m",
      "\u001b[1;31mTypeError\u001b[0m: unsupported operand type(s) for +: 'dict' and 'dict'"
     ]
    }
   ],
   "source": [
    "D1+D4"
   ]
  },
  {
   "cell_type": "code",
   "execution_count": 108,
   "id": "1240c3cd",
   "metadata": {},
   "outputs": [],
   "source": [
    "# so concatenation of dictionaries isn't possible"
   ]
  },
  {
   "cell_type": "code",
   "execution_count": 109,
   "id": "acaebbab",
   "metadata": {},
   "outputs": [],
   "source": [
    "D5 ={'key1': (989,76768,'bdjb',['dnf',56]), 'key2':85, 'key3':'nmbc', 'key1':[90,7.68,'bdjb',['dnf',56]]}"
   ]
  },
  {
   "cell_type": "code",
   "execution_count": 110,
   "id": "f19ab25b",
   "metadata": {},
   "outputs": [
    {
     "data": {
      "text/plain": [
       "[90, 7.68, 'bdjb', ['dnf', 56]]"
      ]
     },
     "execution_count": 110,
     "metadata": {},
     "output_type": "execute_result"
    }
   ],
   "source": [
    "D5['key1']"
   ]
  },
  {
   "cell_type": "code",
   "execution_count": 111,
   "id": "ba1d4abe",
   "metadata": {},
   "outputs": [],
   "source": [
    "# Key value should always be unique, if its duplicated- system always hold it only with recent value"
   ]
  },
  {
   "cell_type": "code",
   "execution_count": 112,
   "id": "ce6079d1",
   "metadata": {},
   "outputs": [],
   "source": [
    "D6 = {'key':85, 'Key':85}"
   ]
  },
  {
   "cell_type": "code",
   "execution_count": 113,
   "id": "05539157",
   "metadata": {},
   "outputs": [
    {
     "data": {
      "text/plain": [
       "{'key': 85, 'Key': 85}"
      ]
     },
     "execution_count": 113,
     "metadata": {},
     "output_type": "execute_result"
    }
   ],
   "source": [
    "D6"
   ]
  },
  {
   "cell_type": "code",
   "execution_count": 114,
   "id": "99ad1eb1",
   "metadata": {},
   "outputs": [],
   "source": [
    "# so value can be anything, no rule as such it should be unique"
   ]
  },
  {
   "cell_type": "code",
   "execution_count": 115,
   "id": "1912038c",
   "metadata": {},
   "outputs": [
    {
     "ename": "SyntaxError",
     "evalue": "invalid syntax (<ipython-input-115-37a6db870a2b>, line 1)",
     "output_type": "error",
     "traceback": [
      "\u001b[1;36m  File \u001b[1;32m\"<ipython-input-115-37a6db870a2b>\"\u001b[1;36m, line \u001b[1;32m1\u001b[0m\n\u001b[1;33m    D7 = {'key2':85, 'key3':@}\u001b[0m\n\u001b[1;37m                            ^\u001b[0m\n\u001b[1;31mSyntaxError\u001b[0m\u001b[1;31m:\u001b[0m invalid syntax\n"
     ]
    }
   ],
   "source": [
    "D7 = {'key2':85, 'key3':@}"
   ]
  },
  {
   "cell_type": "code",
   "execution_count": 116,
   "id": "a5b42854",
   "metadata": {},
   "outputs": [],
   "source": [
    "# So value and key don't support special character"
   ]
  },
  {
   "cell_type": "code",
   "execution_count": 117,
   "id": "5410d9ed",
   "metadata": {},
   "outputs": [],
   "source": [
    "d1 ={'name':'bb', 'ph':58788776,'pin':505001,'st':'TG','bool':True,'k1':73,'k2':34.43,'k3':'jbfdj','k4':[475,'dfbd'],'k5':(25,454,'dsfhv'),'k6':{766,766,54,54,'fbj'},'k7':{2:'two',3:'three'}}"
   ]
  },
  {
   "cell_type": "code",
   "execution_count": 118,
   "id": "1a904363",
   "metadata": {},
   "outputs": [
    {
     "data": {
      "text/plain": [
       "{'name': 'bb',\n",
       " 'ph': 58788776,\n",
       " 'pin': 505001,\n",
       " 'st': 'TG',\n",
       " 'bool': True,\n",
       " 'k1': 73,\n",
       " 'k2': 34.43,\n",
       " 'k3': 'jbfdj',\n",
       " 'k4': [475, 'dfbd'],\n",
       " 'k5': (25, 454, 'dsfhv'),\n",
       " 'k6': {54, 766, 'fbj'},\n",
       " 'k7': {2: 'two', 3: 'three'}}"
      ]
     },
     "execution_count": 118,
     "metadata": {},
     "output_type": "execute_result"
    }
   ],
   "source": [
    "d1"
   ]
  },
  {
   "cell_type": "code",
   "execution_count": 119,
   "id": "39382be1",
   "metadata": {},
   "outputs": [],
   "source": [
    "# So dict can contain any type of value(int,float,bool,composite no,string,set,list,tuple & dict as well) in form of key:value"
   ]
  },
  {
   "cell_type": "code",
   "execution_count": 120,
   "id": "349fa259",
   "metadata": {},
   "outputs": [
    {
     "ename": "TypeError",
     "evalue": "unhashable type: 'list'",
     "output_type": "error",
     "traceback": [
      "\u001b[1;31m---------------------------------------------------------------------------\u001b[0m",
      "\u001b[1;31mTypeError\u001b[0m                                 Traceback (most recent call last)",
      "\u001b[1;32m<ipython-input-120-a5689b417a21>\u001b[0m in \u001b[0;36m<module>\u001b[1;34m\u001b[0m\n\u001b[1;32m----> 1\u001b[1;33m \u001b[0md2\u001b[0m\u001b[1;33m=\u001b[0m\u001b[1;33m{\u001b[0m\u001b[1;33m[\u001b[0m\u001b[1;36m4\u001b[0m\u001b[1;33m,\u001b[0m\u001b[1;36m534\u001b[0m\u001b[1;33m,\u001b[0m\u001b[1;36m45\u001b[0m\u001b[1;33m]\u001b[0m\u001b[1;33m:\u001b[0m\u001b[1;33m[\u001b[0m\u001b[1;36m847\u001b[0m\u001b[1;33m,\u001b[0m\u001b[1;36m9897\u001b[0m\u001b[1;33m,\u001b[0m\u001b[1;34m'k'\u001b[0m\u001b[1;33m]\u001b[0m\u001b[1;33m}\u001b[0m\u001b[1;33m\u001b[0m\u001b[1;33m\u001b[0m\u001b[0m\n\u001b[0m",
      "\u001b[1;31mTypeError\u001b[0m: unhashable type: 'list'"
     ]
    }
   ],
   "source": [
    "d2={[4,534,45]:[847,9897,'k']}"
   ]
  },
  {
   "cell_type": "code",
   "execution_count": 121,
   "id": "9dcaceb6",
   "metadata": {},
   "outputs": [],
   "source": [
    "# Key doesn't support list as it is mutable"
   ]
  },
  {
   "cell_type": "code",
   "execution_count": 122,
   "id": "6b2e0a4b",
   "metadata": {},
   "outputs": [],
   "source": [
    "d3 ={(4,534,45):[847,9897,'k']}"
   ]
  },
  {
   "cell_type": "code",
   "execution_count": 123,
   "id": "ed1ee77c",
   "metadata": {},
   "outputs": [
    {
     "data": {
      "text/plain": [
       "{(4, 534, 45): [847, 9897, 'k']}"
      ]
     },
     "execution_count": 123,
     "metadata": {},
     "output_type": "execute_result"
    }
   ],
   "source": [
    "d3"
   ]
  },
  {
   "cell_type": "code",
   "execution_count": 124,
   "id": "d5a5c036",
   "metadata": {},
   "outputs": [],
   "source": [
    "# The keys can be any immutable type.So,can't use a tuple as a key if any of its elements are lists.\n",
    "# (You can only use a tuple as a key if all of its elements are immutable.)"
   ]
  },
  {
   "cell_type": "code",
   "execution_count": 125,
   "id": "16e662e6",
   "metadata": {},
   "outputs": [
    {
     "data": {
      "text/plain": [
       "{'name': 'bb',\n",
       " 'ph': 58788776,\n",
       " 'pin': 505001,\n",
       " 'st': 'TG',\n",
       " 'bool': True,\n",
       " 'k1': 73,\n",
       " 'k2': 34.43,\n",
       " 'k3': 'jbfdj',\n",
       " 'k4': [475, 'dfbd'],\n",
       " 'k5': (25, 454, 'dsfhv'),\n",
       " 'k6': {54, 766, 'fbj'},\n",
       " 'k7': {2: 'two', 3: 'three'}}"
      ]
     },
     "execution_count": 125,
     "metadata": {},
     "output_type": "execute_result"
    }
   ],
   "source": [
    "d1"
   ]
  },
  {
   "cell_type": "code",
   "execution_count": 126,
   "id": "97c72d88",
   "metadata": {},
   "outputs": [
    {
     "data": {
      "text/plain": [
       "dict_keys(['name', 'ph', 'pin', 'st', 'bool', 'k1', 'k2', 'k3', 'k4', 'k5', 'k6', 'k7'])"
      ]
     },
     "execution_count": 126,
     "metadata": {},
     "output_type": "execute_result"
    }
   ],
   "source": [
    "d1.keys()"
   ]
  },
  {
   "cell_type": "code",
   "execution_count": 127,
   "id": "d71c3234",
   "metadata": {},
   "outputs": [],
   "source": [
    "# Retrieves all keys"
   ]
  },
  {
   "cell_type": "code",
   "execution_count": 128,
   "id": "f06592be",
   "metadata": {},
   "outputs": [
    {
     "data": {
      "text/plain": [
       "dict_values(['bb', 58788776, 505001, 'TG', True, 73, 34.43, 'jbfdj', [475, 'dfbd'], (25, 454, 'dsfhv'), {54, 766, 'fbj'}, {2: 'two', 3: 'three'}])"
      ]
     },
     "execution_count": 128,
     "metadata": {},
     "output_type": "execute_result"
    }
   ],
   "source": [
    "d1.values()"
   ]
  },
  {
   "cell_type": "code",
   "execution_count": 129,
   "id": "7ae7ae51",
   "metadata": {},
   "outputs": [],
   "source": [
    "# Retrieves all values"
   ]
  },
  {
   "cell_type": "code",
   "execution_count": 130,
   "id": "20b71a92",
   "metadata": {},
   "outputs": [
    {
     "data": {
      "text/plain": [
       "dict_items([('name', 'bb'), ('ph', 58788776), ('pin', 505001), ('st', 'TG'), ('bool', True), ('k1', 73), ('k2', 34.43), ('k3', 'jbfdj'), ('k4', [475, 'dfbd']), ('k5', (25, 454, 'dsfhv')), ('k6', {54, 766, 'fbj'}), ('k7', {2: 'two', 3: 'three'})])"
      ]
     },
     "execution_count": 130,
     "metadata": {},
     "output_type": "execute_result"
    }
   ],
   "source": [
    "d1.items()"
   ]
  },
  {
   "cell_type": "code",
   "execution_count": 131,
   "id": "21eac8b2",
   "metadata": {},
   "outputs": [],
   "source": [
    "# Gives a list of all key & value pairs in form of tuple"
   ]
  },
  {
   "cell_type": "code",
   "execution_count": 132,
   "id": "1235725c",
   "metadata": {},
   "outputs": [
    {
     "data": {
      "text/plain": [
       "dict_items"
      ]
     },
     "execution_count": 132,
     "metadata": {},
     "output_type": "execute_result"
    }
   ],
   "source": [
    "type(d1.items())"
   ]
  },
  {
   "cell_type": "markdown",
   "id": "08f20b76",
   "metadata": {},
   "source": [
    "Adding Elements to Dictionary"
   ]
  },
  {
   "cell_type": "code",
   "execution_count": 133,
   "id": "80f8ab14",
   "metadata": {},
   "outputs": [
    {
     "data": {
      "text/plain": [
       "{(4, 534, 45): [847, 9897, 'k']}"
      ]
     },
     "execution_count": 133,
     "metadata": {},
     "output_type": "execute_result"
    }
   ],
   "source": [
    "d3 "
   ]
  },
  {
   "cell_type": "code",
   "execution_count": 134,
   "id": "8e4a4ec4",
   "metadata": {},
   "outputs": [],
   "source": [
    "d3['key1']=908"
   ]
  },
  {
   "cell_type": "code",
   "execution_count": 135,
   "id": "e3e85457",
   "metadata": {},
   "outputs": [
    {
     "data": {
      "text/plain": [
       "{(4, 534, 45): [847, 9897, 'k'], 'key1': 908}"
      ]
     },
     "execution_count": 135,
     "metadata": {},
     "output_type": "execute_result"
    }
   ],
   "source": [
    "d3"
   ]
  },
  {
   "cell_type": "code",
   "execution_count": 136,
   "id": "2b745ddd",
   "metadata": {},
   "outputs": [],
   "source": [
    "del d3['key1']"
   ]
  },
  {
   "cell_type": "code",
   "execution_count": 137,
   "id": "23bdb566",
   "metadata": {},
   "outputs": [
    {
     "data": {
      "text/plain": [
       "{(4, 534, 45): [847, 9897, 'k']}"
      ]
     },
     "execution_count": 137,
     "metadata": {},
     "output_type": "execute_result"
    }
   ],
   "source": [
    "d3"
   ]
  },
  {
   "cell_type": "code",
   "execution_count": 138,
   "id": "cfdca105",
   "metadata": {},
   "outputs": [],
   "source": [
    "# Del a dictionary\n",
    "del d3"
   ]
  },
  {
   "cell_type": "code",
   "execution_count": 139,
   "id": "3cc93356",
   "metadata": {},
   "outputs": [
    {
     "ename": "NameError",
     "evalue": "name 'd3' is not defined",
     "output_type": "error",
     "traceback": [
      "\u001b[1;31m---------------------------------------------------------------------------\u001b[0m",
      "\u001b[1;31mNameError\u001b[0m                                 Traceback (most recent call last)",
      "\u001b[1;32m<ipython-input-139-1c3a3aeafd8f>\u001b[0m in \u001b[0;36m<module>\u001b[1;34m\u001b[0m\n\u001b[1;32m----> 1\u001b[1;33m \u001b[0md3\u001b[0m\u001b[1;33m\u001b[0m\u001b[1;33m\u001b[0m\u001b[0m\n\u001b[0m",
      "\u001b[1;31mNameError\u001b[0m: name 'd3' is not defined"
     ]
    }
   ],
   "source": [
    "d3"
   ]
  },
  {
   "cell_type": "code",
   "execution_count": 140,
   "id": "ae9d74a6",
   "metadata": {},
   "outputs": [
    {
     "data": {
      "text/plain": [
       "('k7', {2: 'two', 3: 'three'})"
      ]
     },
     "execution_count": 140,
     "metadata": {},
     "output_type": "execute_result"
    }
   ],
   "source": [
    "d1.popitem()"
   ]
  },
  {
   "cell_type": "code",
   "execution_count": 141,
   "id": "c6387c79",
   "metadata": {},
   "outputs": [
    {
     "data": {
      "text/plain": [
       "{'name': 'bb',\n",
       " 'ph': 58788776,\n",
       " 'pin': 505001,\n",
       " 'st': 'TG',\n",
       " 'bool': True,\n",
       " 'k1': 73,\n",
       " 'k2': 34.43,\n",
       " 'k3': 'jbfdj',\n",
       " 'k4': [475, 'dfbd'],\n",
       " 'k5': (25, 454, 'dsfhv'),\n",
       " 'k6': {54, 766, 'fbj'}}"
      ]
     },
     "execution_count": 141,
     "metadata": {},
     "output_type": "execute_result"
    }
   ],
   "source": [
    "d1"
   ]
  },
  {
   "cell_type": "code",
   "execution_count": 142,
   "id": "eee2a78a",
   "metadata": {},
   "outputs": [
    {
     "data": {
      "text/plain": [
       "73"
      ]
     },
     "execution_count": 142,
     "metadata": {},
     "output_type": "execute_result"
    }
   ],
   "source": [
    "d1.pop('k1')"
   ]
  },
  {
   "cell_type": "code",
   "execution_count": 143,
   "id": "adb276e8",
   "metadata": {},
   "outputs": [
    {
     "data": {
      "text/plain": [
       "{'name': 'bb',\n",
       " 'ph': 58788776,\n",
       " 'pin': 505001,\n",
       " 'st': 'TG',\n",
       " 'bool': True,\n",
       " 'k2': 34.43,\n",
       " 'k3': 'jbfdj',\n",
       " 'k4': [475, 'dfbd'],\n",
       " 'k5': (25, 454, 'dsfhv'),\n",
       " 'k6': {54, 766, 'fbj'}}"
      ]
     },
     "execution_count": 143,
     "metadata": {},
     "output_type": "execute_result"
    }
   ],
   "source": [
    "d1"
   ]
  },
  {
   "cell_type": "code",
   "execution_count": 144,
   "id": "967394e1",
   "metadata": {},
   "outputs": [],
   "source": [
    "# Diff between popitem & pop is-\n",
    "# Popitem- Removes last key:value where as Pop removes mentioned key:value"
   ]
  },
  {
   "cell_type": "code",
   "execution_count": 145,
   "id": "98be9b32",
   "metadata": {},
   "outputs": [
    {
     "data": {
      "text/plain": [
       "505001"
      ]
     },
     "execution_count": 145,
     "metadata": {},
     "output_type": "execute_result"
    }
   ],
   "source": [
    "d1.get('pin')"
   ]
  },
  {
   "cell_type": "code",
   "execution_count": 146,
   "id": "975a76ca",
   "metadata": {},
   "outputs": [],
   "source": [
    "d1.get(1)"
   ]
  },
  {
   "cell_type": "code",
   "execution_count": 147,
   "id": "bade9d35",
   "metadata": {},
   "outputs": [],
   "source": [
    "# Returns the value if key is present in dict, else returns nothing"
   ]
  },
  {
   "cell_type": "code",
   "execution_count": 148,
   "id": "b2599034",
   "metadata": {},
   "outputs": [],
   "source": [
    "d4 ={'roll': 1, 'atten': 'Y'}\n",
    "d5 ={'inst':'ineuron','batch':'FSDS'}"
   ]
  },
  {
   "cell_type": "code",
   "execution_count": 149,
   "id": "51c93e63",
   "metadata": {},
   "outputs": [],
   "source": [
    "d4.update(d5)"
   ]
  },
  {
   "cell_type": "code",
   "execution_count": 150,
   "id": "eaad1358",
   "metadata": {},
   "outputs": [
    {
     "data": {
      "text/plain": [
       "{'roll': 1, 'atten': 'Y', 'inst': 'ineuron', 'batch': 'FSDS'}"
      ]
     },
     "execution_count": 150,
     "metadata": {},
     "output_type": "execute_result"
    }
   ],
   "source": [
    "d4"
   ]
  },
  {
   "cell_type": "code",
   "execution_count": 151,
   "id": "21b2e279",
   "metadata": {},
   "outputs": [],
   "source": [
    "d5.update(d4)"
   ]
  },
  {
   "cell_type": "code",
   "execution_count": 152,
   "id": "0f21da5a",
   "metadata": {},
   "outputs": [
    {
     "data": {
      "text/plain": [
       "{'inst': 'ineuron', 'batch': 'FSDS', 'roll': 1, 'atten': 'Y'}"
      ]
     },
     "execution_count": 152,
     "metadata": {},
     "output_type": "execute_result"
    }
   ],
   "source": [
    "d5"
   ]
  },
  {
   "cell_type": "code",
   "execution_count": 153,
   "id": "b35a49e0",
   "metadata": {},
   "outputs": [],
   "source": [
    "# Update- Allows you to add/concatenate 2 dictionaries permanently"
   ]
  },
  {
   "cell_type": "code",
   "execution_count": 156,
   "id": "e59a9610",
   "metadata": {},
   "outputs": [],
   "source": [
    "keys = ('name','ph_no','prof')\n",
    "values = ('MD',76546,'st')"
   ]
  },
  {
   "cell_type": "code",
   "execution_count": 157,
   "id": "a75d4966",
   "metadata": {},
   "outputs": [],
   "source": [
    "ND = d5.fromkeys(keys,values)"
   ]
  },
  {
   "cell_type": "code",
   "execution_count": 158,
   "id": "3f533486",
   "metadata": {},
   "outputs": [
    {
     "data": {
      "text/plain": [
       "{'name': ('MD', 76546, 'st'),\n",
       " 'ph_no': ('MD', 76546, 'st'),\n",
       " 'prof': ('MD', 76546, 'st')}"
      ]
     },
     "execution_count": 158,
     "metadata": {},
     "output_type": "execute_result"
    }
   ],
   "source": [
    "ND"
   ]
  },
  {
   "cell_type": "code",
   "execution_count": 159,
   "id": "19ef66a5",
   "metadata": {},
   "outputs": [],
   "source": [
    "# fromkeys- It forms a new dict with new keys & value(all keys take same value) with help of existing dict format"
   ]
  },
  {
   "cell_type": "code",
   "execution_count": null,
   "id": "88d93f1c",
   "metadata": {},
   "outputs": [],
   "source": []
  }
 ],
 "metadata": {
  "kernelspec": {
   "display_name": "Python 3",
   "language": "python",
   "name": "python3"
  },
  "language_info": {
   "codemirror_mode": {
    "name": "ipython",
    "version": 3
   },
   "file_extension": ".py",
   "mimetype": "text/x-python",
   "name": "python",
   "nbconvert_exporter": "python",
   "pygments_lexer": "ipython3",
   "version": "3.8.8"
  }
 },
 "nbformat": 4,
 "nbformat_minor": 5
}
