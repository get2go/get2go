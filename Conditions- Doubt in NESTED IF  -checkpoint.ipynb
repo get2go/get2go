{
 "cells": [
  {
   "cell_type": "markdown",
   "id": "a8b934be",
   "metadata": {},
   "source": [
    "IF ELSE"
   ]
  },
  {
   "cell_type": "code",
   "execution_count": 1,
   "id": "2fbec36f",
   "metadata": {},
   "outputs": [],
   "source": [
    "a = 20"
   ]
  },
  {
   "cell_type": "code",
   "execution_count": 2,
   "id": "3bf4b322",
   "metadata": {},
   "outputs": [],
   "source": [
    "if a> 15:\n",
    "    pass"
   ]
  },
  {
   "cell_type": "code",
   "execution_count": 3,
   "id": "3da5639e",
   "metadata": {},
   "outputs": [],
   "source": [
    "# : - is must in python for every condition(like if, for loop, etc)\n",
    "# pass - a reserved key word used when user isn't going to use it, then it returns nothing (like dead code)"
   ]
  },
  {
   "cell_type": "code",
   "execution_count": 4,
   "id": "719355d8",
   "metadata": {},
   "outputs": [],
   "source": [
    "if a< 10:\n",
    "    print(a)"
   ]
  },
  {
   "cell_type": "code",
   "execution_count": 5,
   "id": "be603d95",
   "metadata": {},
   "outputs": [],
   "source": [
    "# as condition is failed, it returns nothing"
   ]
  },
  {
   "cell_type": "code",
   "execution_count": 6,
   "id": "9cfa2439",
   "metadata": {},
   "outputs": [
    {
     "name": "stdout",
     "output_type": "stream",
     "text": [
      "A is greater\n"
     ]
    }
   ],
   "source": [
    "if a>18:\n",
    "    print('A is greater')\n",
    "else:\n",
    "    print('A is smaller')"
   ]
  },
  {
   "cell_type": "markdown",
   "id": "825a2c1c",
   "metadata": {},
   "source": [
    "MULTIPLE CONDITIONAL STATEMENT"
   ]
  },
  {
   "cell_type": "code",
   "execution_count": 7,
   "id": "0a59acae",
   "metadata": {},
   "outputs": [
    {
     "name": "stdout",
     "output_type": "stream",
     "text": [
      "I will buy all\n"
     ]
    }
   ],
   "source": [
    "income = 10000 \n",
    "if income < 5000:\n",
    "    print('I will buy a phone')\n",
    "elif income < 6000:\n",
    "    print('I will buy a TV')\n",
    "elif income < 7000:\n",
    "    print(\"I'll buy a car\" )\n",
    "elif income < 8000:\n",
    "    print('I rent a house')\n",
    "else:\n",
    "    print(\"I will buy all\")"
   ]
  },
  {
   "cell_type": "code",
   "execution_count": 8,
   "id": "3725acbd",
   "metadata": {},
   "outputs": [],
   "source": [
    "# elif- means else if, it means if given statement doesn't satisfy if condition, it checks for elif"
   ]
  },
  {
   "cell_type": "code",
   "execution_count": 9,
   "id": "06988b72",
   "metadata": {},
   "outputs": [
    {
     "name": "stdout",
     "output_type": "stream",
     "text": [
      "6500\n",
      "I'll buy a car\n"
     ]
    }
   ],
   "source": [
    "income = int(input())\n",
    "if income < 5000:\n",
    "    print('I will buy a phone')\n",
    "elif income < 6000:\n",
    "    print('I will buy a TV')\n",
    "elif income < 7000:\n",
    "    print(\"I'll buy a car\" )\n",
    "elif income < 8000:\n",
    "    print('I rent a house')\n",
    "else:\n",
    "    print(\"I will buy all\")"
   ]
  },
  {
   "cell_type": "code",
   "execution_count": 10,
   "id": "7e3f85ab",
   "metadata": {},
   "outputs": [],
   "source": [
    "# input- takes string data, so we need to type cast it into int for comparision"
   ]
  },
  {
   "cell_type": "code",
   "execution_count": 11,
   "id": "b411932c",
   "metadata": {},
   "outputs": [
    {
     "name": "stdout",
     "output_type": "stream",
     "text": [
      "6500\n",
      "Discount will be  650.0\n"
     ]
    }
   ],
   "source": [
    "Total_price =int(input())\n",
    "if Total_price > 6000:\n",
    "    discount = Total_price *.10\n",
    "    print('Discount will be ', discount)\n",
    "elif Total_price >=7500:\n",
    "    discount = Total_price *.15\n",
    "    print(\"Discount will be \", discount)\n",
    "elif Total_price >8500:\n",
    "    discount = Total_price *.08\n",
    "    print(\"Discount will be \", discount)\n",
    "else:\n",
    "    print(\"Discount isn't available\")"
   ]
  },
  {
   "cell_type": "code",
   "execution_count": 12,
   "id": "28c6d739",
   "metadata": {},
   "outputs": [
    {
     "name": "stdout",
     "output_type": "stream",
     "text": [
      "You will get a disc of 15%\n",
      "You have to pay  6375.0\n"
     ]
    }
   ],
   "source": [
    "coup = \"AMAZON15\"\n",
    "if coup == 'AMAZON15':\n",
    "    print('You will get a disc of 15%')\n",
    "    paid_amt = 7500- 7500*.15\n",
    "    print('You have to pay ', paid_amt)\n",
    "else:\n",
    "    print(\"plz use a valid coupon code\")"
   ]
  },
  {
   "cell_type": "code",
   "execution_count": 13,
   "id": "4b1d64ef",
   "metadata": {},
   "outputs": [
    {
     "name": "stdout",
     "output_type": "stream",
     "text": [
      "amazon15\n",
      "6,6,2021\n"
     ]
    },
    {
     "ename": "ValueError",
     "evalue": "invalid literal for int() with base 10: '6,6,2021'",
     "output_type": "error",
     "traceback": [
      "\u001b[1;31m---------------------------------------------------------------------------\u001b[0m",
      "\u001b[1;31mValueError\u001b[0m                                Traceback (most recent call last)",
      "\u001b[1;32m<ipython-input-13-a75cb1c093f0>\u001b[0m in \u001b[0;36m<module>\u001b[1;34m\u001b[0m\n\u001b[0;32m      1\u001b[0m \u001b[0mcoup\u001b[0m \u001b[1;33m=\u001b[0m \u001b[0minput\u001b[0m\u001b[1;33m(\u001b[0m\u001b[1;33m)\u001b[0m\u001b[1;33m\u001b[0m\u001b[1;33m\u001b[0m\u001b[0m\n\u001b[1;32m----> 2\u001b[1;33m \u001b[0mdate\u001b[0m \u001b[1;33m=\u001b[0m \u001b[0mint\u001b[0m\u001b[1;33m(\u001b[0m\u001b[0minput\u001b[0m\u001b[1;33m(\u001b[0m\u001b[1;33m)\u001b[0m\u001b[1;33m)\u001b[0m\u001b[1;33m\u001b[0m\u001b[1;33m\u001b[0m\u001b[0m\n\u001b[0m\u001b[0;32m      3\u001b[0m \u001b[1;32mif\u001b[0m \u001b[0mcoup\u001b[0m \u001b[1;33m==\u001b[0m \u001b[1;34m'AMAZON15'\u001b[0m\u001b[1;33m:\u001b[0m\u001b[1;33m\u001b[0m\u001b[1;33m\u001b[0m\u001b[0m\n\u001b[0;32m      4\u001b[0m     \u001b[0mprint\u001b[0m\u001b[1;33m(\u001b[0m\u001b[1;34m'You will get a disc of 15%'\u001b[0m\u001b[1;33m)\u001b[0m\u001b[1;33m\u001b[0m\u001b[1;33m\u001b[0m\u001b[0m\n\u001b[0;32m      5\u001b[0m     \u001b[0mpaid_amt\u001b[0m \u001b[1;33m=\u001b[0m \u001b[1;36m7500\u001b[0m\u001b[1;33m-\u001b[0m \u001b[1;36m7500\u001b[0m\u001b[1;33m*\u001b[0m\u001b[1;36m.15\u001b[0m\u001b[1;33m\u001b[0m\u001b[1;33m\u001b[0m\u001b[0m\n",
      "\u001b[1;31mValueError\u001b[0m: invalid literal for int() with base 10: '6,6,2021'"
     ]
    }
   ],
   "source": [
    "coup = input()\n",
    "date = int(input())\n",
    "if coup == 'AMAZON15':\n",
    "    print('You will get a disc of 15%')\n",
    "    paid_amt = 7500- 7500*.15\n",
    "    print('You have to pay ', paid_amt)\n",
    "    if date <= (9,6,2022):\n",
    "        print(\"You will have a lifetime access\")\n",
    "    else:\n",
    "        print('You will have access for 1 year')\n",
    "        \n",
    "else:\n",
    "    print(\"plz use a valid coupon code\")"
   ]
  },
  {
   "cell_type": "code",
   "execution_count": null,
   "id": "72cb216c",
   "metadata": {},
   "outputs": [],
   "source": [
    "#### Need to know how to key date format as data input"
   ]
  },
  {
   "cell_type": "markdown",
   "id": "41e4d701",
   "metadata": {},
   "source": [
    "MULTIPLE CONDITIONS"
   ]
  },
  {
   "cell_type": "code",
   "execution_count": 15,
   "id": "cf2a6f74",
   "metadata": {},
   "outputs": [
    {
     "name": "stdout",
     "output_type": "stream",
     "text": [
      "4\n",
      "It may take 5-6 months for job placement\n"
     ]
    }
   ],
   "source": [
    "studyhour = int(input())\n",
    "if studyhour ==2:\n",
    "    print(\"It may take 8-9 months for job placement\")\n",
    "elif studyhour>2 & studyhour<5:\n",
    "    print(\"It may take 5-6 months for job placement\")\n",
    "else:\n",
    "    print(\"it will be difficult\")"
   ]
  },
  {
   "cell_type": "code",
   "execution_count": 18,
   "id": "e5b8f08f",
   "metadata": {},
   "outputs": [
    {
     "name": "stdout",
     "output_type": "stream",
     "text": [
      "20000\n",
      "I can rent a house\n"
     ]
    }
   ],
   "source": [
    "wages = int(input())\n",
    "if wages == 6000:\n",
    "    print(\"I can have 2 meals a day\")\n",
    "elif wages < 10000 & wages >6000 :\n",
    "    print(\"I can have 3 meals a day\")\n",
    "elif wages >10000 & wages < 20000:\n",
    "    print(\"I can rent a house\")\n",
    "else:\n",
    "    print(\"It's difficult to pass a day without meal\")"
   ]
  },
  {
   "cell_type": "code",
   "execution_count": 20,
   "id": "6429db31",
   "metadata": {},
   "outputs": [
    {
     "name": "stdout",
     "output_type": "stream",
     "text": [
      "17550.43\n",
      "I can save 5000 per month\n"
     ]
    }
   ],
   "source": [
    "expenses = float(input())\n",
    "if expenses == 6000:\n",
    "    print(\"I can't save anything\")\n",
    "elif expenses < 10000 and expenses >6000 :\n",
    "    print(\"I can save 500 per month\")\n",
    "elif expenses >10000 and expenses < 20000:\n",
    "    print(\"I can save 5000 per month\")\n",
    "else:\n",
    "    print(\"It's difficult to survive\")"
   ]
  },
  {
   "cell_type": "code",
   "execution_count": 21,
   "id": "046f9781",
   "metadata": {},
   "outputs": [],
   "source": [
    "# float- doesn't support operand (&), so use and to run it"
   ]
  },
  {
   "cell_type": "code",
   "execution_count": 23,
   "id": "38e654d1",
   "metadata": {},
   "outputs": [
    {
     "name": "stdout",
     "output_type": "stream",
     "text": [
      "Oneneuron\n",
      "DataScience\n",
      "Please enter valid details\n"
     ]
    }
   ],
   "source": [
    "s = input()\n",
    "course = input()\n",
    "service =()\n",
    "if s==\"Ineuron\":\n",
    "    if course ==\"DataScience\":\n",
    "        if service ==\"FSDS\":\n",
    "            print(\"Course is available & costs 15000\")\n",
    "        elif service==\"1neuron\":\n",
    "            print(\"Course is available & its price is 7080\")\n",
    "        else:\n",
    "            print(\"You're request is noted, we will notify you when course is available\")\n",
    "    elif course ==\"Big_Data\":\n",
    "        if service== \"Hadoop\":\n",
    "            print(\"Course is yet to start from 1st July & U can enroll for it\")\n",
    "        elif service== \"Big_Data_Analytics\":\n",
    "            print(\"Course is present, you can enroll\")\n",
    "        else:\n",
    "            print(\"You're request is noted, we are working on it\")\n",
    "    elif course ==\"AI\":\n",
    "        if service==\"NLP\":\n",
    "            print(\"Course is available & costs 17700\")\n",
    "        elif service==\"Text_Mining\":\n",
    "            print(\"Course is already started, you can join\")\n",
    "        else:\n",
    "            print(\"Requested course is unavailable\")\n",
    "    elif service==\"BA\":\n",
    "        print(\"Business Analytics is available & it offers various sub-courses\")\n",
    "    else:\n",
    "        print(\"Sorry we're not able to meet your demand\")\n",
    "else:\n",
    "    print(\"Please enter valid details\")"
   ]
  },
  {
   "cell_type": "code",
   "execution_count": 25,
   "id": "faaf4286",
   "metadata": {},
   "outputs": [
    {
     "name": "stdout",
     "output_type": "stream",
     "text": [
      "enter a string to start: Ineuron\n",
      "enter course name: Big_Data\n",
      "You're request is noted, we are working on it\n"
     ]
    }
   ],
   "source": [
    "s = input(\"enter a string to start: \")\n",
    "course = input(\"enter course name: \")\n",
    "service =('enter service name: ')\n",
    "if s==\"Ineuron\":\n",
    "    if course ==\"DataScience\":\n",
    "        if service ==\"FSDS\":\n",
    "            print(\"Course is available & costs 15000\")\n",
    "        elif service==\"1neuron\":\n",
    "            print(\"Course is available & its price is 7080\")\n",
    "        else:\n",
    "            print(\"You're request is noted, we will notify you when course is available\")\n",
    "    elif course ==\"Big_Data\":\n",
    "        if service== \"Hadoop\":\n",
    "            print(\"Course is yet to start from 1st July & U can enroll for it\")\n",
    "        elif service== \"Big_Data_Analytics\":\n",
    "            print(\"Course is present, you can enroll\")\n",
    "        else:\n",
    "            print(\"You're request is noted, we are working on it\")\n",
    "    elif course ==\"AI\":\n",
    "        if service==\"NLP\":\n",
    "            print(\"Course is available & costs 17700\")\n",
    "        elif service==\"Text_Mining\":\n",
    "            print(\"Course is already started, you can join\")\n",
    "        else:\n",
    "            print(\"Requested course is unavailable\")\n",
    "    elif service==\"BA\":\n",
    "        print(\"Business Analytics is available & it offers various sub-courses\")\n",
    "    else:\n",
    "        print(\"Sorry we're not able to meet your demand\")\n",
    "else:\n",
    "    print(\"Please enter valid details\")"
   ]
  },
  {
   "cell_type": "code",
   "execution_count": null,
   "id": "ff30d484",
   "metadata": {},
   "outputs": [],
   "source": [
    "# when course name is matched, it's not looking for service name match it directly jumps to else condition. why?"
   ]
  }
 ],
 "metadata": {
  "kernelspec": {
   "display_name": "Python 3",
   "language": "python",
   "name": "python3"
  },
  "language_info": {
   "codemirror_mode": {
    "name": "ipython",
    "version": 3
   },
   "file_extension": ".py",
   "mimetype": "text/x-python",
   "name": "python",
   "nbconvert_exporter": "python",
   "pygments_lexer": "ipython3",
   "version": "3.8.8"
  }
 },
 "nbformat": 4,
 "nbformat_minor": 5
}
