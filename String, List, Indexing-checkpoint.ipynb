{
 "cells": [
  {
   "cell_type": "code",
   "execution_count": 1,
   "id": "ec95a3fe",
   "metadata": {},
   "outputs": [],
   "source": [
    "A= \"apple\""
   ]
  },
  {
   "cell_type": "code",
   "execution_count": 2,
   "id": "d474bdc9",
   "metadata": {},
   "outputs": [
    {
     "data": {
      "text/plain": [
       "str"
      ]
     },
     "execution_count": 2,
     "metadata": {},
     "output_type": "execute_result"
    }
   ],
   "source": [
    "type(A)"
   ]
  },
  {
   "cell_type": "code",
   "execution_count": 3,
   "id": "189808a0",
   "metadata": {},
   "outputs": [
    {
     "data": {
      "text/plain": [
       "'a'"
      ]
     },
     "execution_count": 3,
     "metadata": {},
     "output_type": "execute_result"
    }
   ],
   "source": [
    " A[0]"
   ]
  },
  {
   "cell_type": "code",
   "execution_count": 16,
   "id": "06f9825c",
   "metadata": {},
   "outputs": [
    {
     "data": {
      "text/plain": [
       "'ap'"
      ]
     },
     "execution_count": 16,
     "metadata": {},
     "output_type": "execute_result"
    }
   ],
   "source": [
    "A[0:2]"
   ]
  },
  {
   "cell_type": "raw",
   "id": "e41465cd",
   "metadata": {},
   "source": [
    "Here range includes only lower bound but not upper bound."
   ]
  },
  {
   "cell_type": "code",
   "execution_count": 17,
   "id": "87ebf922",
   "metadata": {},
   "outputs": [
    {
     "data": {
      "text/plain": [
       "'e'"
      ]
     },
     "execution_count": 17,
     "metadata": {},
     "output_type": "execute_result"
    }
   ],
   "source": [
    "A[-1]"
   ]
  },
  {
   "cell_type": "code",
   "execution_count": 18,
   "id": "8c3f13ff",
   "metadata": {},
   "outputs": [
    {
     "data": {
      "text/plain": [
       "''"
      ]
     },
     "execution_count": 18,
     "metadata": {},
     "output_type": "execute_result"
    }
   ],
   "source": [
    "A[-1:-4]"
   ]
  },
  {
   "cell_type": "raw",
   "id": "8510df76",
   "metadata": {},
   "source": [
    "As jump size is +ve and indices to obtain are in -ve range causing to conflict. Hence range is given empty"
   ]
  },
  {
   "cell_type": "code",
   "execution_count": 19,
   "id": "c03c9ba5",
   "metadata": {},
   "outputs": [
    {
     "data": {
      "text/plain": [
       "'elp'"
      ]
     },
     "execution_count": 19,
     "metadata": {},
     "output_type": "execute_result"
    }
   ],
   "source": [
    "A[-1:-4:-1]"
   ]
  },
  {
   "cell_type": "raw",
   "id": "b867e6c3",
   "metadata": {},
   "source": [
    "As jump size & lower and upper limits are in -ve direction, so it gives us result"
   ]
  },
  {
   "cell_type": "code",
   "execution_count": 20,
   "id": "1a3c977f",
   "metadata": {},
   "outputs": [],
   "source": [
    "B = \"India is developing nation\""
   ]
  },
  {
   "cell_type": "code",
   "execution_count": 21,
   "id": "149e3669",
   "metadata": {},
   "outputs": [
    {
     "data": {
      "text/plain": [
       "'India is developing nation'"
      ]
     },
     "execution_count": 21,
     "metadata": {},
     "output_type": "execute_result"
    }
   ],
   "source": [
    "B[0:50]"
   ]
  },
  {
   "cell_type": "code",
   "execution_count": 22,
   "id": "363769f7",
   "metadata": {},
   "outputs": [
    {
     "data": {
      "text/plain": [
       "'nation'"
      ]
     },
     "execution_count": 22,
     "metadata": {},
     "output_type": "execute_result"
    }
   ],
   "source": [
    "B[20:40]"
   ]
  },
  {
   "cell_type": "code",
   "execution_count": 24,
   "id": "d44afca4",
   "metadata": {},
   "outputs": [
    {
     "ename": "IndexError",
     "evalue": "string index out of range",
     "output_type": "error",
     "traceback": [
      "\u001b[1;31m---------------------------------------------------------------------------\u001b[0m",
      "\u001b[1;31mIndexError\u001b[0m                                Traceback (most recent call last)",
      "\u001b[1;32m<ipython-input-24-4c00d016bea2>\u001b[0m in \u001b[0;36m<module>\u001b[1;34m\u001b[0m\n\u001b[1;32m----> 1\u001b[1;33m \u001b[0mB\u001b[0m\u001b[1;33m[\u001b[0m\u001b[1;36m45\u001b[0m\u001b[1;33m]\u001b[0m\u001b[1;33m\u001b[0m\u001b[1;33m\u001b[0m\u001b[0m\n\u001b[0m",
      "\u001b[1;31mIndexError\u001b[0m: string index out of range"
     ]
    }
   ],
   "source": [
    "B[45]"
   ]
  },
  {
   "cell_type": "raw",
   "id": "f589fa13",
   "metadata": {},
   "source": [
    "When I try to act access a single index of string which doesn't exists, it throws error\n",
    "For Range,accessing of indices where upper bound is out of string, still it gives result if lower bound is in range or gives empty but not an error"
   ]
  },
  {
   "cell_type": "code",
   "execution_count": 25,
   "id": "2ef083df",
   "metadata": {},
   "outputs": [
    {
     "data": {
      "text/plain": [
       "'nasel'"
      ]
     },
     "execution_count": 25,
     "metadata": {},
     "output_type": "execute_result"
    }
   ],
   "source": [
    "B[1:15:3]"
   ]
  },
  {
   "cell_type": "code",
   "execution_count": 26,
   "id": "e53227fb",
   "metadata": {},
   "outputs": [
    {
     "data": {
      "text/plain": [
       "''"
      ]
     },
     "execution_count": 26,
     "metadata": {},
     "output_type": "execute_result"
    }
   ],
   "source": [
    "B[0:25:-1]"
   ]
  },
  {
   "cell_type": "raw",
   "id": "ff3e7d88",
   "metadata": {},
   "source": [
    "Here we're getting empty string as result bcoz both the bounds are in +ve direction, jump size is in -ve dir, results in conflict of directions, not able to retrive data. Hence empty string"
   ]
  },
  {
   "cell_type": "code",
   "execution_count": 27,
   "id": "b4f71d93",
   "metadata": {},
   "outputs": [
    {
     "data": {
      "text/plain": [
       "'India is developing nation'"
      ]
     },
     "execution_count": 27,
     "metadata": {},
     "output_type": "execute_result"
    }
   ],
   "source": [
    "B[::]"
   ]
  },
  {
   "cell_type": "raw",
   "id": "6994e83f",
   "metadata": {},
   "source": [
    "As I've not defined lower, upper bound & jump size, by default lower bound is taken as zero and upper bound as total size of the string and jump size= 1."
   ]
  },
  {
   "cell_type": "code",
   "execution_count": 28,
   "id": "d02d9fc2",
   "metadata": {},
   "outputs": [
    {
     "data": {
      "text/plain": [
       "'Ida'"
      ]
     },
     "execution_count": 28,
     "metadata": {},
     "output_type": "execute_result"
    }
   ],
   "source": [
    "B[:5:2]"
   ]
  },
  {
   "cell_type": "code",
   "execution_count": 29,
   "id": "b8ed6680",
   "metadata": {},
   "outputs": [
    {
     "data": {
      "text/plain": [
       "'elppa'"
      ]
     },
     "execution_count": 29,
     "metadata": {},
     "output_type": "execute_result"
    }
   ],
   "source": [
    "A[::-1]"
   ]
  },
  {
   "cell_type": "code",
   "execution_count": 30,
   "id": "d832ba62",
   "metadata": {},
   "outputs": [],
   "source": [
    "C ='Modi represents India in UN'"
   ]
  },
  {
   "cell_type": "code",
   "execution_count": 31,
   "id": "62a196f6",
   "metadata": {},
   "outputs": [
    {
     "data": {
      "text/plain": [
       "''"
      ]
     },
     "execution_count": 31,
     "metadata": {},
     "output_type": "execute_result"
    }
   ],
   "source": [
    "C[-7:5]"
   ]
  },
  {
   "cell_type": "code",
   "execution_count": 32,
   "id": "209c660d",
   "metadata": {},
   "outputs": [
    {
     "data": {
      "text/plain": [
       "'adIsnsre'"
      ]
     },
     "execution_count": 32,
     "metadata": {},
     "output_type": "execute_result"
    }
   ],
   "source": [
    "C[-7:5:-2]"
   ]
  },
  {
   "cell_type": "code",
   "execution_count": 33,
   "id": "2a30a5fa",
   "metadata": {},
   "outputs": [
    {
     "data": {
      "text/plain": [
       "'Modi represents India in UNModi represents India in UN'"
      ]
     },
     "execution_count": 33,
     "metadata": {},
     "output_type": "execute_result"
    }
   ],
   "source": [
    "C*2"
   ]
  },
  {
   "cell_type": "code",
   "execution_count": 35,
   "id": "069f57f7",
   "metadata": {},
   "outputs": [
    {
     "data": {
      "text/plain": [
       "'Modi represents India in UNModi represents India in UNModi represents India in UN'"
      ]
     },
     "execution_count": 35,
     "metadata": {},
     "output_type": "execute_result"
    }
   ],
   "source": [
    "C *3"
   ]
  },
  {
   "cell_type": "raw",
   "id": "4d807f60",
   "metadata": {},
   "source": [
    "so it proves that even when space is provided between variable & number, it doesn't consider"
   ]
  },
  {
   "cell_type": "code",
   "execution_count": 36,
   "id": "2e44b85d",
   "metadata": {},
   "outputs": [],
   "source": [
    "D ='Saree'"
   ]
  },
  {
   "cell_type": "code",
   "execution_count": 37,
   "id": "f0d57f8b",
   "metadata": {},
   "outputs": [],
   "source": [
    "E = 3"
   ]
  },
  {
   "cell_type": "code",
   "execution_count": 38,
   "id": "b3ae8bf0",
   "metadata": {},
   "outputs": [
    {
     "ename": "TypeError",
     "evalue": "can only concatenate str (not \"int\") to str",
     "output_type": "error",
     "traceback": [
      "\u001b[1;31m---------------------------------------------------------------------------\u001b[0m",
      "\u001b[1;31mTypeError\u001b[0m                                 Traceback (most recent call last)",
      "\u001b[1;32m<ipython-input-38-83add27dc8f1>\u001b[0m in \u001b[0;36m<module>\u001b[1;34m\u001b[0m\n\u001b[1;32m----> 1\u001b[1;33m \u001b[0mD\u001b[0m\u001b[1;33m+\u001b[0m\u001b[0mE\u001b[0m\u001b[1;33m\u001b[0m\u001b[1;33m\u001b[0m\u001b[0m\n\u001b[0m",
      "\u001b[1;31mTypeError\u001b[0m: can only concatenate str (not \"int\") to str"
     ]
    }
   ],
   "source": [
    "D+E"
   ]
  },
  {
   "cell_type": "raw",
   "id": "a140230b",
   "metadata": {},
   "source": [
    "Concatenation can happen only between strings not between string & integer"
   ]
  },
  {
   "cell_type": "code",
   "execution_count": 39,
   "id": "0e30492f",
   "metadata": {},
   "outputs": [],
   "source": [
    "F= \"Half\""
   ]
  },
  {
   "cell_type": "code",
   "execution_count": 40,
   "id": "557a5dfd",
   "metadata": {},
   "outputs": [
    {
     "data": {
      "text/plain": [
       "'HalfSaree'"
      ]
     },
     "execution_count": 40,
     "metadata": {},
     "output_type": "execute_result"
    }
   ],
   "source": [
    "F+D"
   ]
  },
  {
   "cell_type": "code",
   "execution_count": 41,
   "id": "7a9a6413",
   "metadata": {},
   "outputs": [
    {
     "data": {
      "text/plain": [
       "27"
      ]
     },
     "execution_count": 41,
     "metadata": {},
     "output_type": "execute_result"
    }
   ],
   "source": [
    "len(C)"
   ]
  },
  {
   "cell_type": "raw",
   "id": "8ef00a7a",
   "metadata": {},
   "source": [
    "Gives you length of the string includes space as well"
   ]
  },
  {
   "cell_type": "code",
   "execution_count": 42,
   "id": "8503a3f9",
   "metadata": {},
   "outputs": [],
   "source": [
    "L = \"Hey I'm Ultron\""
   ]
  },
  {
   "cell_type": "code",
   "execution_count": 43,
   "id": "56a28f24",
   "metadata": {},
   "outputs": [
    {
     "data": {
      "text/plain": [
       "1"
      ]
     },
     "execution_count": 43,
     "metadata": {},
     "output_type": "execute_result"
    }
   ],
   "source": [
    "L.find('e')"
   ]
  },
  {
   "cell_type": "raw",
   "id": "23898ec5",
   "metadata": {},
   "source": [
    "find funtion- Gives u 1st occurance in the string"
   ]
  },
  {
   "cell_type": "code",
   "execution_count": 44,
   "id": "fb29a14d",
   "metadata": {},
   "outputs": [
    {
     "data": {
      "text/plain": [
       "-1"
      ]
     },
     "execution_count": 44,
     "metadata": {},
     "output_type": "execute_result"
    }
   ],
   "source": [
    "L.find('no')"
   ]
  },
  {
   "cell_type": "raw",
   "id": "ba1ddd7f",
   "metadata": {},
   "source": [
    "It gives you '-1' when the context ur searching in the string isn't found"
   ]
  },
  {
   "cell_type": "code",
   "execution_count": 45,
   "id": "409e59e6",
   "metadata": {},
   "outputs": [
    {
     "data": {
      "text/plain": [
       "12"
      ]
     },
     "execution_count": 45,
     "metadata": {},
     "output_type": "execute_result"
    }
   ],
   "source": [
    "L.find('on')"
   ]
  },
  {
   "cell_type": "code",
   "execution_count": 46,
   "id": "9aa45455",
   "metadata": {},
   "outputs": [
    {
     "data": {
      "text/plain": [
       "-1"
      ]
     },
     "execution_count": 46,
     "metadata": {},
     "output_type": "execute_result"
    }
   ],
   "source": [
    "L.find('w')"
   ]
  },
  {
   "cell_type": "code",
   "execution_count": 47,
   "id": "fb7826c1",
   "metadata": {},
   "outputs": [
    {
     "data": {
      "text/plain": [
       "-1"
      ]
     },
     "execution_count": 47,
     "metadata": {},
     "output_type": "execute_result"
    }
   ],
   "source": [
    "L.find(\"u\")"
   ]
  },
  {
   "cell_type": "code",
   "execution_count": 48,
   "id": "4e7bfd9d",
   "metadata": {},
   "outputs": [
    {
     "data": {
      "text/plain": [
       "10"
      ]
     },
     "execution_count": 48,
     "metadata": {},
     "output_type": "execute_result"
    }
   ],
   "source": [
    "L.find('t')"
   ]
  },
  {
   "cell_type": "code",
   "execution_count": 49,
   "id": "98070270",
   "metadata": {},
   "outputs": [
    {
     "data": {
      "text/plain": [
       "8"
      ]
     },
     "execution_count": 49,
     "metadata": {},
     "output_type": "execute_result"
    }
   ],
   "source": [
    "L.find('U')"
   ]
  },
  {
   "cell_type": "code",
   "execution_count": 50,
   "id": "946fc883",
   "metadata": {},
   "outputs": [
    {
     "data": {
      "text/plain": [
       "\"Hey I'm Ultron\""
      ]
     },
     "execution_count": 50,
     "metadata": {},
     "output_type": "execute_result"
    }
   ],
   "source": [
    "L"
   ]
  },
  {
   "cell_type": "code",
   "execution_count": 52,
   "id": "9db28f47",
   "metadata": {},
   "outputs": [
    {
     "data": {
      "text/plain": [
       "1"
      ]
     },
     "execution_count": 52,
     "metadata": {},
     "output_type": "execute_result"
    }
   ],
   "source": [
    "L.count('H')"
   ]
  },
  {
   "cell_type": "raw",
   "id": "f86e5cb0",
   "metadata": {},
   "source": [
    "Count- Gives u no.of occurances of it"
   ]
  },
  {
   "cell_type": "code",
   "execution_count": 53,
   "id": "ceadbaba",
   "metadata": {},
   "outputs": [
    {
     "data": {
      "text/plain": [
       "3"
      ]
     },
     "execution_count": 53,
     "metadata": {},
     "output_type": "execute_result"
    }
   ],
   "source": [
    "C.count('i')"
   ]
  },
  {
   "cell_type": "code",
   "execution_count": 54,
   "id": "55881c10",
   "metadata": {},
   "outputs": [
    {
     "data": {
      "text/plain": [
       "2"
      ]
     },
     "execution_count": 54,
     "metadata": {},
     "output_type": "execute_result"
    }
   ],
   "source": [
    "D.count('e')"
   ]
  },
  {
   "cell_type": "code",
   "execution_count": 58,
   "id": "28941834",
   "metadata": {},
   "outputs": [
    {
     "name": "stdout",
     "output_type": "stream",
     "text": [
      "['Hey', \"I'm\", 'Ultron']\n"
     ]
    }
   ],
   "source": [
    "M =L.split()\n",
    "print(M)"
   ]
  },
  {
   "cell_type": "raw",
   "id": "a8443026",
   "metadata": {},
   "source": [
    "Its going to return a new data type(list) where data of string is splitted into small parts where default separator is space"
   ]
  },
  {
   "cell_type": "code",
   "execution_count": 59,
   "id": "2024e365",
   "metadata": {},
   "outputs": [
    {
     "data": {
      "text/plain": [
       "'Ultron'"
      ]
     },
     "execution_count": 59,
     "metadata": {},
     "output_type": "execute_result"
    }
   ],
   "source": [
    "M[2]"
   ]
  },
  {
   "cell_type": "raw",
   "id": "6620d239",
   "metadata": {},
   "source": [
    "Same as string here we can access indices of the list"
   ]
  },
  {
   "cell_type": "code",
   "execution_count": 60,
   "id": "9c54892f",
   "metadata": {},
   "outputs": [
    {
     "data": {
      "text/plain": [
       "['Hey', \"I'm\", 'Ultron']"
      ]
     },
     "execution_count": 60,
     "metadata": {},
     "output_type": "execute_result"
    }
   ],
   "source": [
    "M[0:10]"
   ]
  },
  {
   "cell_type": "code",
   "execution_count": 61,
   "id": "33a037d3",
   "metadata": {},
   "outputs": [
    {
     "data": {
      "text/plain": [
       "['Hey', 'Ultron']"
      ]
     },
     "execution_count": 61,
     "metadata": {},
     "output_type": "execute_result"
    }
   ],
   "source": [
    "M[0:5:2]"
   ]
  },
  {
   "cell_type": "code",
   "execution_count": 62,
   "id": "60cdddae",
   "metadata": {},
   "outputs": [
    {
     "data": {
      "text/plain": [
       "[\"Hey I'm Ult\", 'on']"
      ]
     },
     "execution_count": 62,
     "metadata": {},
     "output_type": "execute_result"
    }
   ],
   "source": [
    "L.split('r')"
   ]
  },
  {
   "cell_type": "raw",
   "id": "d3f857b6",
   "metadata": {},
   "source": [
    "In this way we can change default separator(delimmiter) from space to 'r'. Hence string is splitted into 2 parts based on 'r'"
   ]
  },
  {
   "cell_type": "code",
   "execution_count": 63,
   "id": "8b27374a",
   "metadata": {},
   "outputs": [
    {
     "data": {
      "text/plain": [
       "[\"Hey I'm Ultron\"]"
      ]
     },
     "execution_count": 63,
     "metadata": {},
     "output_type": "execute_result"
    }
   ],
   "source": [
    "L.split('a')"
   ]
  },
  {
   "cell_type": "raw",
   "id": "a762c5cc",
   "metadata": {},
   "source": [
    "If the mentioned separator isn't available then same string is shown"
   ]
  },
  {
   "cell_type": "code",
   "execution_count": 64,
   "id": "2687113f",
   "metadata": {},
   "outputs": [
    {
     "data": {
      "text/plain": [
       "\"HEY I'M ULTRON\""
      ]
     },
     "execution_count": 64,
     "metadata": {},
     "output_type": "execute_result"
    }
   ],
   "source": [
    "L.upper()"
   ]
  },
  {
   "cell_type": "code",
   "execution_count": 65,
   "id": "b57b6464",
   "metadata": {},
   "outputs": [
    {
     "data": {
      "text/plain": [
       "\"hey i'm ultron\""
      ]
     },
     "execution_count": 65,
     "metadata": {},
     "output_type": "execute_result"
    }
   ],
   "source": [
    "L.lower()"
   ]
  },
  {
   "cell_type": "code",
   "execution_count": 66,
   "id": "f567d5c7",
   "metadata": {},
   "outputs": [],
   "source": [
    "M = \"She sells Seashells on seashore\""
   ]
  },
  {
   "cell_type": "code",
   "execution_count": 67,
   "id": "85b2d584",
   "metadata": {},
   "outputs": [
    {
     "data": {
      "text/plain": [
       "'sHE SELLS sEASHELLS ON SEASHORE'"
      ]
     },
     "execution_count": 67,
     "metadata": {},
     "output_type": "execute_result"
    }
   ],
   "source": [
    "M.swapcase()"
   ]
  },
  {
   "cell_type": "code",
   "execution_count": 68,
   "id": "b9849a0e",
   "metadata": {},
   "outputs": [
    {
     "data": {
      "text/plain": [
       "'She Sells Seashells On Seashore'"
      ]
     },
     "execution_count": 68,
     "metadata": {},
     "output_type": "execute_result"
    }
   ],
   "source": [
    "M.title()"
   ]
  },
  {
   "cell_type": "code",
   "execution_count": 69,
   "id": "280fa81a",
   "metadata": {},
   "outputs": [
    {
     "data": {
      "text/plain": [
       "'She sells seashells on seashore'"
      ]
     },
     "execution_count": 69,
     "metadata": {},
     "output_type": "execute_result"
    }
   ],
   "source": [
    "M.capitalize()"
   ]
  },
  {
   "cell_type": "raw",
   "id": "00c51947",
   "metadata": {},
   "source": [
    "Title function- It capitalizes 1st letter of each word in the string\n",
    "Capitalize fun- It only capitalizes 1st letter of the string"
   ]
  },
  {
   "cell_type": "code",
   "execution_count": 70,
   "id": "67374b89",
   "metadata": {},
   "outputs": [],
   "source": [
    "J = \"Animals\"\n",
    "K = \"Birds\""
   ]
  },
  {
   "cell_type": "code",
   "execution_count": 72,
   "id": "30dc53aa",
   "metadata": {},
   "outputs": [
    {
     "data": {
      "text/plain": [
       "'BAnimalsiAnimalsrAnimalsdAnimalss'"
      ]
     },
     "execution_count": 72,
     "metadata": {},
     "output_type": "execute_result"
    }
   ],
   "source": [
    "J.join(K)"
   ]
  },
  {
   "cell_type": "code",
   "execution_count": 73,
   "id": "47e10027",
   "metadata": {},
   "outputs": [
    {
     "data": {
      "text/plain": [
       "'ABirdsnBirdsiBirdsmBirdsaBirdslBirdss'"
      ]
     },
     "execution_count": 73,
     "metadata": {},
     "output_type": "execute_result"
    }
   ],
   "source": [
    "K.join(J)"
   ]
  },
  {
   "cell_type": "raw",
   "id": "b252569c",
   "metadata": {},
   "source": [
    "Join function- It joins 2nd variable (each letter) with 1st variable"
   ]
  },
  {
   "cell_type": "code",
   "execution_count": 78,
   "id": "880a12b9",
   "metadata": {},
   "outputs": [
    {
     "data": {
      "text/plain": [
       "' '"
      ]
     },
     "execution_count": 78,
     "metadata": {},
     "output_type": "execute_result"
    }
   ],
   "source": [
    "J.join(\" \")"
   ]
  },
  {
   "cell_type": "code",
   "execution_count": 79,
   "id": "447473e7",
   "metadata": {},
   "outputs": [
    {
     "data": {
      "text/plain": [
       "'B i r d s'"
      ]
     },
     "execution_count": 79,
     "metadata": {},
     "output_type": "execute_result"
    }
   ],
   "source": [
    "\" \".join(K)"
   ]
  },
  {
   "cell_type": "raw",
   "id": "bb532742",
   "metadata": {},
   "source": [
    "So 2nd variable's every character i.e, in brackets of join function() is must, then only its able to combine with 1st variable.\n",
    "Else it gives empty result.\n",
    "eg: J.join(\" \") - result(' ')"
   ]
  },
  {
   "cell_type": "code",
   "execution_count": 80,
   "id": "baf42801",
   "metadata": {},
   "outputs": [
    {
     "name": "stdout",
     "output_type": "stream",
     "text": [
      "s\n",
      "d\n",
      "r\n",
      "i\n",
      "B\n"
     ]
    }
   ],
   "source": [
    "for i in reversed(K):\n",
    "    print(i)"
   ]
  },
  {
   "cell_type": "code",
   "execution_count": 81,
   "id": "85cc16a9",
   "metadata": {},
   "outputs": [
    {
     "data": {
      "text/plain": [
       "'sdriB'"
      ]
     },
     "execution_count": 81,
     "metadata": {},
     "output_type": "execute_result"
    }
   ],
   "source": [
    "K[::-1]"
   ]
  },
  {
   "cell_type": "raw",
   "id": "0c20eaa0",
   "metadata": {},
   "source": [
    "reversed function results can be achieved through range with jump size as -1 as well"
   ]
  },
  {
   "cell_type": "code",
   "execution_count": 82,
   "id": "d35fc199",
   "metadata": {},
   "outputs": [],
   "source": [
    "R = ' Say Say Say S '"
   ]
  },
  {
   "cell_type": "code",
   "execution_count": 83,
   "id": "8c19b106",
   "metadata": {},
   "outputs": [
    {
     "data": {
      "text/plain": [
       "'Say Say Say S'"
      ]
     },
     "execution_count": 83,
     "metadata": {},
     "output_type": "execute_result"
    }
   ],
   "source": [
    "R.strip()"
   ]
  },
  {
   "cell_type": "code",
   "execution_count": 84,
   "id": "c8e96782",
   "metadata": {},
   "outputs": [
    {
     "data": {
      "text/plain": [
       "'Say Say Say S '"
      ]
     },
     "execution_count": 84,
     "metadata": {},
     "output_type": "execute_result"
    }
   ],
   "source": [
    "R.lstrip()"
   ]
  },
  {
   "cell_type": "code",
   "execution_count": 85,
   "id": "5b906201",
   "metadata": {},
   "outputs": [
    {
     "data": {
      "text/plain": [
       "' Say Say Say S'"
      ]
     },
     "execution_count": 85,
     "metadata": {},
     "output_type": "execute_result"
    }
   ],
   "source": [
    "R.rstrip()"
   ]
  },
  {
   "cell_type": "raw",
   "id": "fdc2c42e",
   "metadata": {},
   "source": [
    "Strip- Removes space from both sides of the string\n",
    "lstrip- Removes space from left handside of the string\n",
    "rstrip- Removes space from right hand side of the string\n",
    "Note: Strip can only strip from the ends of string but not in between"
   ]
  },
  {
   "cell_type": "code",
   "execution_count": 86,
   "id": "4a93f0dc",
   "metadata": {},
   "outputs": [
    {
     "data": {
      "text/plain": [
       "' Sail Sail Sail S '"
      ]
     },
     "execution_count": 86,
     "metadata": {},
     "output_type": "execute_result"
    }
   ],
   "source": [
    "R.replace('y', 'il')"
   ]
  },
  {
   "cell_type": "code",
   "execution_count": 87,
   "id": "d01f335b",
   "metadata": {},
   "outputs": [
    {
     "data": {
      "text/plain": [
       "'sea     shells'"
      ]
     },
     "execution_count": 87,
     "metadata": {},
     "output_type": "execute_result"
    }
   ],
   "source": [
    "\"sea\\tshells\".expandtabs()"
   ]
  },
  {
   "cell_type": "raw",
   "id": "17db9d99",
   "metadata": {},
   "source": [
    "\\t - Represents tab"
   ]
  },
  {
   "cell_type": "code",
   "execution_count": 94,
   "id": "62137c77",
   "metadata": {},
   "outputs": [
    {
     "ename": "TypeError",
     "evalue": "The fill character must be exactly one character long",
     "output_type": "error",
     "traceback": [
      "\u001b[1;31m---------------------------------------------------------------------------\u001b[0m",
      "\u001b[1;31mTypeError\u001b[0m                                 Traceback (most recent call last)",
      "\u001b[1;32m<ipython-input-94-726e59d45c94>\u001b[0m in \u001b[0;36m<module>\u001b[1;34m\u001b[0m\n\u001b[1;32m----> 1\u001b[1;33m \u001b[0mJ\u001b[0m\u001b[1;33m.\u001b[0m\u001b[0mcenter\u001b[0m\u001b[1;33m(\u001b[0m\u001b[1;36m20\u001b[0m\u001b[1;33m,\u001b[0m \u001b[1;34m'**'\u001b[0m\u001b[1;33m)\u001b[0m\u001b[1;33m\u001b[0m\u001b[1;33m\u001b[0m\u001b[0m\n\u001b[0m",
      "\u001b[1;31mTypeError\u001b[0m: The fill character must be exactly one character long"
     ]
    }
   ],
   "source": [
    "J.center(20, '**')"
   ]
  },
  {
   "cell_type": "raw",
   "id": "fed4a001",
   "metadata": {},
   "source": [
    "Center function- works only when fill character is single & number should be given in which string placed at center"
   ]
  },
  {
   "cell_type": "code",
   "execution_count": 95,
   "id": "53a1ab64",
   "metadata": {},
   "outputs": [
    {
     "data": {
      "text/plain": [
       "'####Animals####'"
      ]
     },
     "execution_count": 95,
     "metadata": {},
     "output_type": "execute_result"
    }
   ],
   "source": [
    "J.center(15,\"#\")"
   ]
  },
  {
   "cell_type": "code",
   "execution_count": 105,
   "id": "73b69e3c",
   "metadata": {},
   "outputs": [
    {
     "data": {
      "text/plain": [
       "False"
      ]
     },
     "execution_count": 105,
     "metadata": {},
     "output_type": "execute_result"
    }
   ],
   "source": [
    "R.isdigit()"
   ]
  },
  {
   "cell_type": "code",
   "execution_count": 103,
   "id": "06c53058",
   "metadata": {},
   "outputs": [],
   "source": [
    "P =\"bh\""
   ]
  },
  {
   "cell_type": "code",
   "execution_count": 104,
   "id": "e52a7c65",
   "metadata": {},
   "outputs": [
    {
     "data": {
      "text/plain": [
       "True"
      ]
     },
     "execution_count": 104,
     "metadata": {},
     "output_type": "execute_result"
    }
   ],
   "source": [
    "P.isalpha()"
   ]
  },
  {
   "cell_type": "raw",
   "id": "8a42b850",
   "metadata": {},
   "source": [
    "Note: function that starts with 'is' always return True or False bcoz its going to check whether its going to satisfy condition or not"
   ]
  },
  {
   "cell_type": "code",
   "execution_count": 106,
   "id": "bd92bf38",
   "metadata": {},
   "outputs": [],
   "source": [
    "U= 'ASD'"
   ]
  },
  {
   "cell_type": "code",
   "execution_count": 107,
   "id": "4d7edd37",
   "metadata": {},
   "outputs": [
    {
     "data": {
      "text/plain": [
       "True"
      ]
     },
     "execution_count": 107,
     "metadata": {},
     "output_type": "execute_result"
    }
   ],
   "source": [
    "U.isalpha()"
   ]
  },
  {
   "cell_type": "code",
   "execution_count": 108,
   "id": "293a7c46",
   "metadata": {},
   "outputs": [
    {
     "data": {
      "text/plain": [
       "True"
      ]
     },
     "execution_count": 108,
     "metadata": {},
     "output_type": "execute_result"
    }
   ],
   "source": [
    "U.isprintable()"
   ]
  },
  {
   "cell_type": "code",
   "execution_count": 109,
   "id": "45cda77b",
   "metadata": {},
   "outputs": [
    {
     "data": {
      "text/plain": [
       "True"
      ]
     },
     "execution_count": 109,
     "metadata": {},
     "output_type": "execute_result"
    }
   ],
   "source": [
    "U.isupper()"
   ]
  },
  {
   "cell_type": "code",
   "execution_count": 110,
   "id": "973d902d",
   "metadata": {},
   "outputs": [],
   "source": [
    "I= \"1235\""
   ]
  },
  {
   "cell_type": "code",
   "execution_count": 111,
   "id": "c32e8948",
   "metadata": {},
   "outputs": [
    {
     "data": {
      "text/plain": [
       "True"
      ]
     },
     "execution_count": 111,
     "metadata": {},
     "output_type": "execute_result"
    }
   ],
   "source": [
    "I.isdigit()"
   ]
  },
  {
   "cell_type": "code",
   "execution_count": 113,
   "id": "ae2dcc25",
   "metadata": {},
   "outputs": [
    {
     "data": {
      "text/plain": [
       "False"
      ]
     },
     "execution_count": 113,
     "metadata": {},
     "output_type": "execute_result"
    }
   ],
   "source": [
    "I.endswith(\"2\")"
   ]
  },
  {
   "cell_type": "raw",
   "id": "9c0d9455",
   "metadata": {},
   "source": [
    "Note: endswith/ startswith fun- works only in bracket is given for string/ tupple, gives answer as True/ False"
   ]
  },
  {
   "cell_type": "code",
   "execution_count": 114,
   "id": "84bb02b2",
   "metadata": {},
   "outputs": [
    {
     "data": {
      "text/plain": [
       "True"
      ]
     },
     "execution_count": 114,
     "metadata": {},
     "output_type": "execute_result"
    }
   ],
   "source": [
    "I.startswith('1')"
   ]
  },
  {
   "cell_type": "code",
   "execution_count": 115,
   "id": "a4f3d765",
   "metadata": {},
   "outputs": [
    {
     "data": {
      "text/plain": [
       "str"
      ]
     },
     "execution_count": 115,
     "metadata": {},
     "output_type": "execute_result"
    }
   ],
   "source": [
    "type(I)"
   ]
  },
  {
   "cell_type": "code",
   "execution_count": 118,
   "id": "23667910",
   "metadata": {},
   "outputs": [],
   "source": [
    "I1= int(I)"
   ]
  },
  {
   "cell_type": "code",
   "execution_count": 119,
   "id": "985d2f14",
   "metadata": {},
   "outputs": [
    {
     "data": {
      "text/plain": [
       "int"
      ]
     },
     "execution_count": 119,
     "metadata": {},
     "output_type": "execute_result"
    }
   ],
   "source": [
    "type(I1)"
   ]
  },
  {
   "cell_type": "markdown",
   "id": "0419b486",
   "metadata": {},
   "source": [
    "# List"
   ]
  },
  {
   "cell_type": "raw",
   "id": "61f79b11",
   "metadata": {},
   "source": [
    "List- It is a collection of data, can hold integer, float, composite num, boolean value, string, list as well at a time"
   ]
  },
  {
   "cell_type": "code",
   "execution_count": 120,
   "id": "79c0d2f7",
   "metadata": {},
   "outputs": [],
   "source": [
    "H =[123, 456.566, 67j, True, \"F\", [5665,987.1j, False]]"
   ]
  },
  {
   "cell_type": "code",
   "execution_count": 121,
   "id": "754811e8",
   "metadata": {},
   "outputs": [
    {
     "data": {
      "text/plain": [
       "list"
      ]
     },
     "execution_count": 121,
     "metadata": {},
     "output_type": "execute_result"
    }
   ],
   "source": [
    "type(H)"
   ]
  },
  {
   "cell_type": "code",
   "execution_count": 122,
   "id": "c4ecfed5",
   "metadata": {},
   "outputs": [
    {
     "data": {
      "text/plain": [
       "123"
      ]
     },
     "execution_count": 122,
     "metadata": {},
     "output_type": "execute_result"
    }
   ],
   "source": [
    "H[0]"
   ]
  },
  {
   "cell_type": "code",
   "execution_count": 123,
   "id": "989d62d8",
   "metadata": {},
   "outputs": [
    {
     "data": {
      "text/plain": [
       "[456.566, 67j, True, 'F', [5665, 987.1j, False]]"
      ]
     },
     "execution_count": 123,
     "metadata": {},
     "output_type": "execute_result"
    }
   ],
   "source": [
    "H[1:9]"
   ]
  },
  {
   "cell_type": "code",
   "execution_count": 126,
   "id": "06c0c592",
   "metadata": {},
   "outputs": [
    {
     "data": {
      "text/plain": [
       "[5665, 987.1j, False]"
      ]
     },
     "execution_count": 126,
     "metadata": {},
     "output_type": "execute_result"
    }
   ],
   "source": [
    "H[5]"
   ]
  },
  {
   "cell_type": "code",
   "execution_count": 130,
   "id": "3acd1561",
   "metadata": {},
   "outputs": [
    {
     "data": {
      "text/plain": [
       "123"
      ]
     },
     "execution_count": 130,
     "metadata": {},
     "output_type": "execute_result"
    }
   ],
   "source": [
    "H[0]"
   ]
  },
  {
   "cell_type": "code",
   "execution_count": 131,
   "id": "6fd8c5a0",
   "metadata": {},
   "outputs": [
    {
     "data": {
      "text/plain": [
       "[[5665, 987.1j, False], 'F', True, 67j, 456.566, 123]"
      ]
     },
     "execution_count": 131,
     "metadata": {},
     "output_type": "execute_result"
    }
   ],
   "source": [
    "H[::-1]"
   ]
  },
  {
   "cell_type": "code",
   "execution_count": 134,
   "id": "1b403a77",
   "metadata": {},
   "outputs": [
    {
     "data": {
      "text/plain": [
       "[67j]"
      ]
     },
     "execution_count": 134,
     "metadata": {},
     "output_type": "execute_result"
    }
   ],
   "source": [
    "H[-4:0:-2]"
   ]
  },
  {
   "cell_type": "markdown",
   "id": "3ccca984",
   "metadata": {},
   "source": [
    "Accessing Elements of String inside List"
   ]
  },
  {
   "cell_type": "code",
   "execution_count": 135,
   "id": "73230b38",
   "metadata": {},
   "outputs": [
    {
     "data": {
      "text/plain": [
       "987.1j"
      ]
     },
     "execution_count": 135,
     "metadata": {},
     "output_type": "execute_result"
    }
   ],
   "source": [
    "H[5][1]"
   ]
  },
  {
   "cell_type": "code",
   "execution_count": 136,
   "id": "ff06ffdb",
   "metadata": {},
   "outputs": [
    {
     "data": {
      "text/plain": [
       "complex"
      ]
     },
     "execution_count": 136,
     "metadata": {},
     "output_type": "execute_result"
    }
   ],
   "source": [
    "type(H[5][1])"
   ]
  },
  {
   "cell_type": "code",
   "execution_count": 137,
   "id": "84ee5c2f",
   "metadata": {},
   "outputs": [],
   "source": [
    "# Extraction of real number & imaginary number in list"
   ]
  },
  {
   "cell_type": "code",
   "execution_count": 140,
   "id": "963e7bce",
   "metadata": {},
   "outputs": [
    {
     "data": {
      "text/plain": [
       "0.0"
      ]
     },
     "execution_count": 140,
     "metadata": {},
     "output_type": "execute_result"
    }
   ],
   "source": [
    "H[2].real"
   ]
  },
  {
   "cell_type": "code",
   "execution_count": 139,
   "id": "246ae4f3",
   "metadata": {},
   "outputs": [
    {
     "data": {
      "text/plain": [
       "[123, 456.566, 67j, True, 'F', [5665, 987.1j, False]]"
      ]
     },
     "execution_count": 139,
     "metadata": {},
     "output_type": "execute_result"
    }
   ],
   "source": [
    "H"
   ]
  },
  {
   "cell_type": "code",
   "execution_count": 141,
   "id": "a4231cca",
   "metadata": {},
   "outputs": [
    {
     "data": {
      "text/plain": [
       "0.0"
      ]
     },
     "execution_count": 141,
     "metadata": {},
     "output_type": "execute_result"
    }
   ],
   "source": [
    "H[5][1].real"
   ]
  },
  {
   "cell_type": "code",
   "execution_count": 143,
   "id": "432ca484",
   "metadata": {},
   "outputs": [],
   "source": [
    "K =[98, 450.98, 54+2j, False, [98j, 607,24+48j]]"
   ]
  },
  {
   "cell_type": "code",
   "execution_count": 144,
   "id": "7ffc2d28",
   "metadata": {},
   "outputs": [
    {
     "data": {
      "text/plain": [
       "54.0"
      ]
     },
     "execution_count": 144,
     "metadata": {},
     "output_type": "execute_result"
    }
   ],
   "source": [
    "K[2].real"
   ]
  },
  {
   "cell_type": "code",
   "execution_count": 148,
   "id": "be8cc9fa",
   "metadata": {},
   "outputs": [
    {
     "data": {
      "text/plain": [
       "98.0"
      ]
     },
     "execution_count": 148,
     "metadata": {},
     "output_type": "execute_result"
    }
   ],
   "source": [
    "K[4][0].imag"
   ]
  },
  {
   "cell_type": "code",
   "execution_count": 146,
   "id": "a44a73fc",
   "metadata": {},
   "outputs": [
    {
     "data": {
      "text/plain": [
       "24.0"
      ]
     },
     "execution_count": 146,
     "metadata": {},
     "output_type": "execute_result"
    }
   ],
   "source": [
    "K[4][2].real"
   ]
  },
  {
   "cell_type": "code",
   "execution_count": 147,
   "id": "ea9d5158",
   "metadata": {},
   "outputs": [
    {
     "data": {
      "text/plain": [
       "48.0"
      ]
     },
     "execution_count": 147,
     "metadata": {},
     "output_type": "execute_result"
    }
   ],
   "source": [
    "K[4][2].imag"
   ]
  },
  {
   "cell_type": "code",
   "execution_count": 149,
   "id": "49dabf58",
   "metadata": {},
   "outputs": [],
   "source": [
    "S1 =[567,'set1', True]\n",
    "S2 =[5679, 'set2', False, 34j]"
   ]
  },
  {
   "cell_type": "code",
   "execution_count": 150,
   "id": "79af9bda",
   "metadata": {},
   "outputs": [
    {
     "data": {
      "text/plain": [
       "[567, 'set1', True, 5679, 'set2', False, 34j]"
      ]
     },
     "execution_count": 150,
     "metadata": {},
     "output_type": "execute_result"
    }
   ],
   "source": [
    "S1+S2"
   ]
  },
  {
   "cell_type": "raw",
   "id": "01563192",
   "metadata": {},
   "source": [
    "As data type of S1 & S2 are same, concatenation is accepted"
   ]
  },
  {
   "cell_type": "code",
   "execution_count": 153,
   "id": "c7286cfa",
   "metadata": {},
   "outputs": [
    {
     "ename": "TypeError",
     "evalue": "can only concatenate list (not \"str\") to list",
     "output_type": "error",
     "traceback": [
      "\u001b[1;31m---------------------------------------------------------------------------\u001b[0m",
      "\u001b[1;31mTypeError\u001b[0m                                 Traceback (most recent call last)",
      "\u001b[1;32m<ipython-input-153-f2903cf4711c>\u001b[0m in \u001b[0;36m<module>\u001b[1;34m\u001b[0m\n\u001b[1;32m----> 1\u001b[1;33m \u001b[0mS1\u001b[0m\u001b[1;33m+\u001b[0m \u001b[1;34m'safe'\u001b[0m\u001b[1;33m\u001b[0m\u001b[1;33m\u001b[0m\u001b[0m\n\u001b[0m",
      "\u001b[1;31mTypeError\u001b[0m: can only concatenate list (not \"str\") to list"
     ]
    }
   ],
   "source": [
    "S1+ 'safe'"
   ]
  },
  {
   "cell_type": "raw",
   "id": "9cbfd0e2",
   "metadata": {},
   "source": [
    "As S1 is a list, it cant concatenate with another data type,\n",
    "work around is as follows"
   ]
  },
  {
   "cell_type": "code",
   "execution_count": 155,
   "id": "babac47f",
   "metadata": {},
   "outputs": [
    {
     "data": {
      "text/plain": [
       "[567, 'set1', True, 'safe']"
      ]
     },
     "execution_count": 155,
     "metadata": {},
     "output_type": "execute_result"
    }
   ],
   "source": [
    "S1+['safe']"
   ]
  },
  {
   "cell_type": "code",
   "execution_count": 156,
   "id": "2b4007ac",
   "metadata": {},
   "outputs": [
    {
     "data": {
      "text/plain": [
       "[567, 'set1', True, 567, 'set1', True, 567, 'set1', True, 567, 'set1', True]"
      ]
     },
     "execution_count": 156,
     "metadata": {},
     "output_type": "execute_result"
    }
   ],
   "source": [
    "S1*4"
   ]
  },
  {
   "cell_type": "code",
   "execution_count": 157,
   "id": "3598f489",
   "metadata": {},
   "outputs": [],
   "source": [
    "S1[1] = 'sats'"
   ]
  },
  {
   "cell_type": "code",
   "execution_count": 158,
   "id": "62263490",
   "metadata": {},
   "outputs": [
    {
     "data": {
      "text/plain": [
       "[567, 'sats', True]"
      ]
     },
     "execution_count": 158,
     "metadata": {},
     "output_type": "execute_result"
    }
   ],
   "source": [
    "S1"
   ]
  },
  {
   "cell_type": "code",
   "execution_count": 164,
   "id": "13efb802",
   "metadata": {},
   "outputs": [
    {
     "ename": "TypeError",
     "evalue": "'str' object does not support item assignment",
     "output_type": "error",
     "traceback": [
      "\u001b[1;31m---------------------------------------------------------------------------\u001b[0m",
      "\u001b[1;31mTypeError\u001b[0m                                 Traceback (most recent call last)",
      "\u001b[1;32m<ipython-input-164-950d856b1445>\u001b[0m in \u001b[0;36m<module>\u001b[1;34m\u001b[0m\n\u001b[1;32m----> 1\u001b[1;33m \u001b[0mS1\u001b[0m\u001b[1;33m[\u001b[0m\u001b[1;36m1\u001b[0m\u001b[1;33m]\u001b[0m\u001b[1;33m[\u001b[0m\u001b[1;36m1\u001b[0m\u001b[1;33m]\u001b[0m \u001b[1;33m=\u001b[0m \u001b[1;34m'por'\u001b[0m\u001b[1;33m\u001b[0m\u001b[1;33m\u001b[0m\u001b[0m\n\u001b[0m",
      "\u001b[1;31mTypeError\u001b[0m: 'str' object does not support item assignment"
     ]
    }
   ],
   "source": [
    "S1[1][1] = 'por'"
   ]
  },
  {
   "cell_type": "raw",
   "id": "85cda75f",
   "metadata": {},
   "source": [
    "Hence List elements can be replaced but not for String. So List is called mutable entity and String as immutable entity"
   ]
  },
  {
   "cell_type": "code",
   "execution_count": 165,
   "id": "a1a41f55",
   "metadata": {},
   "outputs": [],
   "source": [
    "# Checking of elements presence in List"
   ]
  },
  {
   "cell_type": "code",
   "execution_count": 166,
   "id": "34e14f0b",
   "metadata": {},
   "outputs": [
    {
     "data": {
      "text/plain": [
       "True"
      ]
     },
     "execution_count": 166,
     "metadata": {},
     "output_type": "execute_result"
    }
   ],
   "source": [
    "'sats' in S1"
   ]
  },
  {
   "cell_type": "code",
   "execution_count": 167,
   "id": "51adbf70",
   "metadata": {},
   "outputs": [
    {
     "data": {
      "text/plain": [
       "False"
      ]
     },
     "execution_count": 167,
     "metadata": {},
     "output_type": "execute_result"
    }
   ],
   "source": [
    "32 in S1"
   ]
  },
  {
   "cell_type": "raw",
   "id": "c4a8d08d",
   "metadata": {},
   "source": [
    "when an element is present in list, it returns True else False"
   ]
  },
  {
   "cell_type": "code",
   "execution_count": 168,
   "id": "6bb9aa9c",
   "metadata": {},
   "outputs": [
    {
     "data": {
      "text/plain": [
       "[5679, 'set2', False, 34j]"
      ]
     },
     "execution_count": 168,
     "metadata": {},
     "output_type": "execute_result"
    }
   ],
   "source": [
    "S2"
   ]
  },
  {
   "cell_type": "code",
   "execution_count": 169,
   "id": "949818ed",
   "metadata": {},
   "outputs": [],
   "source": [
    "S2.append('check')"
   ]
  },
  {
   "cell_type": "code",
   "execution_count": 170,
   "id": "73f44dbb",
   "metadata": {},
   "outputs": [
    {
     "data": {
      "text/plain": [
       "[5679, 'set2', False, 34j, 'check']"
      ]
     },
     "execution_count": 170,
     "metadata": {},
     "output_type": "execute_result"
    }
   ],
   "source": [
    "S2"
   ]
  },
  {
   "cell_type": "code",
   "execution_count": 171,
   "id": "bee5edad",
   "metadata": {},
   "outputs": [],
   "source": [
    "S2.remove(34j)"
   ]
  },
  {
   "cell_type": "code",
   "execution_count": 172,
   "id": "1777d982",
   "metadata": {},
   "outputs": [
    {
     "data": {
      "text/plain": [
       "[5679, 'set2', False, 'check']"
      ]
     },
     "execution_count": 172,
     "metadata": {},
     "output_type": "execute_result"
    }
   ],
   "source": [
    "S2"
   ]
  },
  {
   "cell_type": "raw",
   "id": "dc642485",
   "metadata": {},
   "source": [
    "It \"removes\" given element where as \"pop\" removes last element "
   ]
  },
  {
   "cell_type": "code",
   "execution_count": 173,
   "id": "1eea4db4",
   "metadata": {},
   "outputs": [
    {
     "data": {
      "text/plain": [
       "'check'"
      ]
     },
     "execution_count": 173,
     "metadata": {},
     "output_type": "execute_result"
    }
   ],
   "source": [
    "S2.pop()"
   ]
  },
  {
   "cell_type": "code",
   "execution_count": 174,
   "id": "52bfcc95",
   "metadata": {},
   "outputs": [
    {
     "data": {
      "text/plain": [
       "[5679, 'set2', False]"
      ]
     },
     "execution_count": 174,
     "metadata": {},
     "output_type": "execute_result"
    }
   ],
   "source": [
    "S2"
   ]
  },
  {
   "cell_type": "code",
   "execution_count": 179,
   "id": "003c0534",
   "metadata": {},
   "outputs": [
    {
     "name": "stdout",
     "output_type": "stream",
     "text": [
      "[5679, (45+98.32j), 143.32, 'set2', 143.32, False]\n"
     ]
    }
   ],
   "source": [
    "S2.insert(1, 45+98.32j)\n",
    "print(S2)"
   ]
  },
  {
   "cell_type": "code",
   "execution_count": 180,
   "id": "a4b3f2bc",
   "metadata": {},
   "outputs": [],
   "source": [
    "# Insert function allows to add element in between where as append adds element atlast"
   ]
  },
  {
   "cell_type": "code",
   "execution_count": 181,
   "id": "aa37bdd6",
   "metadata": {},
   "outputs": [
    {
     "data": {
      "text/plain": [
       "143.32"
      ]
     },
     "execution_count": 181,
     "metadata": {},
     "output_type": "execute_result"
    }
   ],
   "source": [
    "S2.pop(2)"
   ]
  },
  {
   "cell_type": "code",
   "execution_count": 182,
   "id": "a1d549a3",
   "metadata": {},
   "outputs": [
    {
     "data": {
      "text/plain": [
       "[5679, (45+98.32j), 'set2', 143.32, False]"
      ]
     },
     "execution_count": 182,
     "metadata": {},
     "output_type": "execute_result"
    }
   ],
   "source": [
    "S2"
   ]
  },
  {
   "cell_type": "raw",
   "id": "df0d3fde",
   "metadata": {},
   "source": [
    "Pop fun- Can remove element from anywhere apart from last index if index number is given"
   ]
  },
  {
   "cell_type": "code",
   "execution_count": 183,
   "id": "19819456",
   "metadata": {},
   "outputs": [
    {
     "data": {
      "text/plain": [
       "[False, 143.32, 'set2', (45+98.32j), 5679]"
      ]
     },
     "execution_count": 183,
     "metadata": {},
     "output_type": "execute_result"
    }
   ],
   "source": [
    "S2[::-1]"
   ]
  },
  {
   "cell_type": "code",
   "execution_count": 186,
   "id": "59c68547",
   "metadata": {},
   "outputs": [
    {
     "name": "stdout",
     "output_type": "stream",
     "text": [
      "[False, 143.32, 'set2', (45+98.32j), 5679]\n"
     ]
    }
   ],
   "source": [
    "S2.reverse()\n",
    "print(S2)"
   ]
  },
  {
   "cell_type": "raw",
   "id": "4ee4a3c3",
   "metadata": {},
   "source": [
    "S2[::-1]- This method enables the list sequence in reverse only for this instance\n",
    "S2.reverse- Reverse the list sequence permanently"
   ]
  },
  {
   "cell_type": "code",
   "execution_count": 187,
   "id": "abfff790",
   "metadata": {},
   "outputs": [
    {
     "data": {
      "text/plain": [
       "[567, 'sats', True]"
      ]
     },
     "execution_count": 187,
     "metadata": {},
     "output_type": "execute_result"
    }
   ],
   "source": [
    "S1"
   ]
  },
  {
   "cell_type": "code",
   "execution_count": 188,
   "id": "eda39872",
   "metadata": {},
   "outputs": [
    {
     "data": {
      "text/plain": [
       "[False, 143.32, 'set2', (45+98.32j), 5679]"
      ]
     },
     "execution_count": 188,
     "metadata": {},
     "output_type": "execute_result"
    }
   ],
   "source": [
    "S2"
   ]
  },
  {
   "cell_type": "code",
   "execution_count": 190,
   "id": "1c1918f3",
   "metadata": {},
   "outputs": [
    {
     "data": {
      "text/plain": [
       "1"
      ]
     },
     "execution_count": 190,
     "metadata": {},
     "output_type": "execute_result"
    }
   ],
   "source": [
    "S2.count(45+98.32j)"
   ]
  },
  {
   "cell_type": "raw",
   "id": "4e8f4e58",
   "metadata": {},
   "source": [
    "Count of List- Gives no.of occurances occured but not the 1st occurance index"
   ]
  },
  {
   "cell_type": "code",
   "execution_count": 191,
   "id": "a7676330",
   "metadata": {},
   "outputs": [],
   "source": [
    "A1 = ['apple']"
   ]
  },
  {
   "cell_type": "code",
   "execution_count": 192,
   "id": "9b80450d",
   "metadata": {},
   "outputs": [],
   "source": [
    "A1.append([3,4,87,56.09])"
   ]
  },
  {
   "cell_type": "code",
   "execution_count": 193,
   "id": "0ec66171",
   "metadata": {},
   "outputs": [
    {
     "data": {
      "text/plain": [
       "['apple', [3, 4, 87, 56.09]]"
      ]
     },
     "execution_count": 193,
     "metadata": {},
     "output_type": "execute_result"
    }
   ],
   "source": [
    "A1"
   ]
  },
  {
   "cell_type": "code",
   "execution_count": 207,
   "id": "d03213d5",
   "metadata": {},
   "outputs": [],
   "source": [
    "A1.extend([\"peaches\", 'cherry',65, 865j,76564])"
   ]
  },
  {
   "cell_type": "code",
   "execution_count": 208,
   "id": "7902d25f",
   "metadata": {},
   "outputs": [
    {
     "data": {
      "text/plain": [
       "['apple', 'plum', [3, 4, 87, 56.09], 'peaches', 'cherry', 65, 865j, 76564]"
      ]
     },
     "execution_count": 208,
     "metadata": {},
     "output_type": "execute_result"
    }
   ],
   "source": [
    "A1"
   ]
  },
  {
   "cell_type": "raw",
   "id": "0950e5b8",
   "metadata": {},
   "source": [
    "Append fun- Add elements as a list towards the end\n",
    "Extend fun- Add elements as a part of list at the end but not as new list inside the list(unravel)\n",
    "Insert fun- Add elements at desired location\n",
    "\n",
    "Note: Extend fn can add only string/ list to list but not integer/float/complex/boolean value"
   ]
  },
  {
   "cell_type": "code",
   "execution_count": 215,
   "id": "ad81d6df",
   "metadata": {},
   "outputs": [],
   "source": [
    "A2 = ['saffola']"
   ]
  },
  {
   "cell_type": "code",
   "execution_count": 216,
   "id": "e0b97699",
   "metadata": {},
   "outputs": [
    {
     "ename": "TypeError",
     "evalue": "'bool' object is not iterable",
     "output_type": "error",
     "traceback": [
      "\u001b[1;31m---------------------------------------------------------------------------\u001b[0m",
      "\u001b[1;31mTypeError\u001b[0m                                 Traceback (most recent call last)",
      "\u001b[1;32m<ipython-input-216-297bcf4789c0>\u001b[0m in \u001b[0;36m<module>\u001b[1;34m\u001b[0m\n\u001b[1;32m----> 1\u001b[1;33m \u001b[0mA2\u001b[0m\u001b[1;33m.\u001b[0m\u001b[0mextend\u001b[0m\u001b[1;33m(\u001b[0m\u001b[1;32mTrue\u001b[0m\u001b[1;33m)\u001b[0m\u001b[1;33m\u001b[0m\u001b[1;33m\u001b[0m\u001b[0m\n\u001b[0m",
      "\u001b[1;31mTypeError\u001b[0m: 'bool' object is not iterable"
     ]
    }
   ],
   "source": [
    "A2.extend(True)"
   ]
  },
  {
   "cell_type": "code",
   "execution_count": null,
   "id": "d7cb9882",
   "metadata": {},
   "outputs": [],
   "source": []
  }
 ],
 "metadata": {
  "kernelspec": {
   "display_name": "Python 3",
   "language": "python",
   "name": "python3"
  },
  "language_info": {
   "codemirror_mode": {
    "name": "ipython",
    "version": 3
   },
   "file_extension": ".py",
   "mimetype": "text/x-python",
   "name": "python",
   "nbconvert_exporter": "python",
   "pygments_lexer": "ipython3",
   "version": "3.8.8"
  }
 },
 "nbformat": 4,
 "nbformat_minor": 5
}
