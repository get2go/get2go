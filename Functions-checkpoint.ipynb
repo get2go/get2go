{
 "cells": [
  {
   "cell_type": "raw",
   "id": "66a4950d",
   "metadata": {},
   "source": [
    "Function-\n",
    "    Function which is bult by someone and made it as ready to use while pass our arguments and dataset.\n",
    "Eg: Print, len, tuple,append,extend,etc\n",
    "\n",
    "    We can create our own functions as well and use it when its required.(Usually in production, modular coding is preferred)\n",
    "\n",
    "Note: When you want to create a function,it should always start with \"def\" followed by function name with open brackets.\n",
    "Eg: def test():\n",
    "        print(range(10))\n"
   ]
  },
  {
   "cell_type": "code",
   "execution_count": 1,
   "id": "56e36dc4",
   "metadata": {},
   "outputs": [],
   "source": [
    "# Creating function\n",
    "def test():\n",
    "    print(range(1,15,2))"
   ]
  },
  {
   "cell_type": "code",
   "execution_count": 2,
   "id": "5285a8f5",
   "metadata": {},
   "outputs": [
    {
     "name": "stdout",
     "output_type": "stream",
     "text": [
      "range(1, 15, 2)\n"
     ]
    }
   ],
   "source": [
    "test() #so whenever we call test(), it prints what is defined as output in console"
   ]
  },
  {
   "cell_type": "code",
   "execution_count": 3,
   "id": "904e9ba0",
   "metadata": {},
   "outputs": [
    {
     "name": "stdout",
     "output_type": "stream",
     "text": [
      "range(1, 15, 2)\n"
     ]
    },
    {
     "data": {
      "text/plain": [
       "NoneType"
      ]
     },
     "execution_count": 3,
     "metadata": {},
     "output_type": "execute_result"
    }
   ],
   "source": [
    "type(test())"
   ]
  },
  {
   "cell_type": "code",
   "execution_count": 4,
   "id": "2aa689da",
   "metadata": {},
   "outputs": [],
   "source": [
    "# It throws error bcoz type of function created is \"None\". \n",
    "# As print fun used in creating function always gives None type irrespect of what it holds in ()"
   ]
  },
  {
   "cell_type": "code",
   "execution_count": 5,
   "id": "afa3a7d5",
   "metadata": {},
   "outputs": [
    {
     "name": "stdout",
     "output_type": "stream",
     "text": [
      "range(1, 15, 2)\n"
     ]
    },
    {
     "ename": "TypeError",
     "evalue": "'NoneType' object is not iterable",
     "output_type": "error",
     "traceback": [
      "\u001b[1;31m---------------------------------------------------------------------------\u001b[0m",
      "\u001b[1;31mTypeError\u001b[0m                                 Traceback (most recent call last)",
      "\u001b[1;32m<ipython-input-5-e006617a3ce5>\u001b[0m in \u001b[0;36m<module>\u001b[1;34m\u001b[0m\n\u001b[1;32m----> 1\u001b[1;33m \u001b[0mlist\u001b[0m\u001b[1;33m(\u001b[0m\u001b[0mtest\u001b[0m\u001b[1;33m(\u001b[0m\u001b[1;33m)\u001b[0m\u001b[1;33m)\u001b[0m\u001b[1;33m\u001b[0m\u001b[1;33m\u001b[0m\u001b[0m\n\u001b[0m",
      "\u001b[1;31mTypeError\u001b[0m: 'NoneType' object is not iterable"
     ]
    }
   ],
   "source": [
    "list(test())"
   ]
  },
  {
   "cell_type": "code",
   "execution_count": 6,
   "id": "08dc25c1",
   "metadata": {},
   "outputs": [
    {
     "name": "stdout",
     "output_type": "stream",
     "text": [
      "range(1, 15, 2)\n"
     ]
    },
    {
     "data": {
      "text/plain": [
       "'None'"
      ]
     },
     "execution_count": 6,
     "metadata": {},
     "output_type": "execute_result"
    }
   ],
   "source": [
    "str(test())"
   ]
  },
  {
   "cell_type": "code",
   "execution_count": 7,
   "id": "4dc4439e",
   "metadata": {},
   "outputs": [
    {
     "name": "stdout",
     "output_type": "stream",
     "text": [
      "range(1, 15, 2)\n"
     ]
    },
    {
     "data": {
      "text/plain": [
       "NoneType"
      ]
     },
     "execution_count": 7,
     "metadata": {},
     "output_type": "execute_result"
    }
   ],
   "source": [
    "type(test())"
   ]
  },
  {
   "cell_type": "raw",
   "id": "997313b2",
   "metadata": {},
   "source": [
    "So this proves that none type cant be type casted. When we try for str type caste=> it gives output in string format but doesn't change its type from \"None type\"."
   ]
  },
  {
   "cell_type": "code",
   "execution_count": 8,
   "id": "5d05babf",
   "metadata": {},
   "outputs": [],
   "source": [
    "# Creation of function where you can use it as well as do concatenation\n",
    "def test1():\n",
    "    return \"This is my 1st fun\"\n",
    "\n",
    "# return is the key word which allows you to execute as well as returns the type of fun u defined."
   ]
  },
  {
   "cell_type": "code",
   "execution_count": 9,
   "id": "f7f0ce70",
   "metadata": {},
   "outputs": [
    {
     "data": {
      "text/plain": [
       "str"
      ]
     },
     "execution_count": 9,
     "metadata": {},
     "output_type": "execute_result"
    }
   ],
   "source": [
    "type(test1())"
   ]
  },
  {
   "cell_type": "code",
   "execution_count": 10,
   "id": "8b477a0b",
   "metadata": {},
   "outputs": [],
   "source": [
    "def test2():\n",
    "    return range(1,12,2)"
   ]
  },
  {
   "cell_type": "code",
   "execution_count": 11,
   "id": "afc405eb",
   "metadata": {},
   "outputs": [
    {
     "data": {
      "text/plain": [
       "range(1, 12, 2)"
      ]
     },
     "execution_count": 11,
     "metadata": {},
     "output_type": "execute_result"
    }
   ],
   "source": [
    "test2()"
   ]
  },
  {
   "cell_type": "code",
   "execution_count": 12,
   "id": "82eed163",
   "metadata": {},
   "outputs": [
    {
     "data": {
      "text/plain": [
       "range"
      ]
     },
     "execution_count": 12,
     "metadata": {},
     "output_type": "execute_result"
    }
   ],
   "source": [
    "type(test2())"
   ]
  },
  {
   "cell_type": "code",
   "execution_count": 13,
   "id": "6f7d9dd8",
   "metadata": {},
   "outputs": [
    {
     "data": {
      "text/plain": [
       "[1, 3, 5, 7, 9, 11]"
      ]
     },
     "execution_count": 13,
     "metadata": {},
     "output_type": "execute_result"
    }
   ],
   "source": [
    "list(test2())"
   ]
  },
  {
   "cell_type": "code",
   "execution_count": 14,
   "id": "c3db7188",
   "metadata": {},
   "outputs": [],
   "source": [
    "def test3():\n",
    "    return [1,2,56j,('a','start')]"
   ]
  },
  {
   "cell_type": "code",
   "execution_count": 15,
   "id": "74bb67fc",
   "metadata": {},
   "outputs": [
    {
     "data": {
      "text/plain": [
       "[1, 2, 56j, ('a', 'start')]"
      ]
     },
     "execution_count": 15,
     "metadata": {},
     "output_type": "execute_result"
    }
   ],
   "source": [
    "test3()"
   ]
  },
  {
   "cell_type": "code",
   "execution_count": 16,
   "id": "7df1ba5e",
   "metadata": {},
   "outputs": [
    {
     "data": {
      "text/plain": [
       "list"
      ]
     },
     "execution_count": 16,
     "metadata": {},
     "output_type": "execute_result"
    }
   ],
   "source": [
    "type(test3())"
   ]
  },
  {
   "cell_type": "code",
   "execution_count": 17,
   "id": "f54933bd",
   "metadata": {},
   "outputs": [],
   "source": [
    "def test4():\n",
    "    return 78,569.5,\"start\",{\"key\":\"value\"}"
   ]
  },
  {
   "cell_type": "code",
   "execution_count": 18,
   "id": "5a502437",
   "metadata": {},
   "outputs": [
    {
     "data": {
      "text/plain": [
       "tuple"
      ]
     },
     "execution_count": 18,
     "metadata": {},
     "output_type": "execute_result"
    }
   ],
   "source": [
    "type(test4())"
   ]
  },
  {
   "cell_type": "code",
   "execution_count": 19,
   "id": "7cea7202",
   "metadata": {},
   "outputs": [],
   "source": [
    "# when any format isn't given in defining function for collection of diff types of data, it defaultly returns tuple"
   ]
  },
  {
   "cell_type": "code",
   "execution_count": 20,
   "id": "ccca2433",
   "metadata": {},
   "outputs": [],
   "source": [
    "a = test4()"
   ]
  },
  {
   "cell_type": "code",
   "execution_count": 21,
   "id": "fe000f25",
   "metadata": {},
   "outputs": [
    {
     "data": {
      "text/plain": [
       "(78, 569.5, 'start', {'key': 'value'})"
      ]
     },
     "execution_count": 21,
     "metadata": {},
     "output_type": "execute_result"
    }
   ],
   "source": [
    "a"
   ]
  },
  {
   "cell_type": "code",
   "execution_count": 22,
   "id": "ae7c7121",
   "metadata": {},
   "outputs": [
    {
     "data": {
      "text/plain": [
       "{'key': 'value'}"
      ]
     },
     "execution_count": 22,
     "metadata": {},
     "output_type": "execute_result"
    }
   ],
   "source": [
    "a[3]"
   ]
  },
  {
   "cell_type": "code",
   "execution_count": 23,
   "id": "329fc395",
   "metadata": {},
   "outputs": [
    {
     "data": {
      "text/plain": [
       "(78, 569.5, 'start')"
      ]
     },
     "execution_count": 23,
     "metadata": {},
     "output_type": "execute_result"
    }
   ],
   "source": [
    "a[0:3]"
   ]
  },
  {
   "cell_type": "code",
   "execution_count": 24,
   "id": "638b1362",
   "metadata": {},
   "outputs": [],
   "source": [
    "def test5():\n",
    "    return \"kola\",(\"len\"),['min'],{25,25.36,52j,(0,2,3,5),[1,4,6]}"
   ]
  },
  {
   "cell_type": "code",
   "execution_count": 25,
   "id": "b1cd20ec",
   "metadata": {},
   "outputs": [
    {
     "ename": "TypeError",
     "evalue": "unhashable type: 'list'",
     "output_type": "error",
     "traceback": [
      "\u001b[1;31m---------------------------------------------------------------------------\u001b[0m",
      "\u001b[1;31mTypeError\u001b[0m                                 Traceback (most recent call last)",
      "\u001b[1;32m<ipython-input-25-71ddc826dc0f>\u001b[0m in \u001b[0;36m<module>\u001b[1;34m\u001b[0m\n\u001b[1;32m----> 1\u001b[1;33m \u001b[0mtest5\u001b[0m\u001b[1;33m(\u001b[0m\u001b[1;33m)\u001b[0m\u001b[1;33m\u001b[0m\u001b[1;33m\u001b[0m\u001b[0m\n\u001b[0m",
      "\u001b[1;32m<ipython-input-24-14acca60363f>\u001b[0m in \u001b[0;36mtest5\u001b[1;34m()\u001b[0m\n\u001b[0;32m      1\u001b[0m \u001b[1;32mdef\u001b[0m \u001b[0mtest5\u001b[0m\u001b[1;33m(\u001b[0m\u001b[1;33m)\u001b[0m\u001b[1;33m:\u001b[0m\u001b[1;33m\u001b[0m\u001b[1;33m\u001b[0m\u001b[0m\n\u001b[1;32m----> 2\u001b[1;33m     \u001b[1;32mreturn\u001b[0m \u001b[1;34m\"kola\"\u001b[0m\u001b[1;33m,\u001b[0m\u001b[1;33m(\u001b[0m\u001b[1;34m\"len\"\u001b[0m\u001b[1;33m)\u001b[0m\u001b[1;33m,\u001b[0m\u001b[1;33m[\u001b[0m\u001b[1;34m'min'\u001b[0m\u001b[1;33m]\u001b[0m\u001b[1;33m,\u001b[0m\u001b[1;33m{\u001b[0m\u001b[1;36m25\u001b[0m\u001b[1;33m,\u001b[0m\u001b[1;36m25.36\u001b[0m\u001b[1;33m,\u001b[0m\u001b[1;36m52j\u001b[0m\u001b[1;33m,\u001b[0m\u001b[1;33m(\u001b[0m\u001b[1;36m0\u001b[0m\u001b[1;33m,\u001b[0m\u001b[1;36m2\u001b[0m\u001b[1;33m,\u001b[0m\u001b[1;36m3\u001b[0m\u001b[1;33m,\u001b[0m\u001b[1;36m5\u001b[0m\u001b[1;33m)\u001b[0m\u001b[1;33m,\u001b[0m\u001b[1;33m[\u001b[0m\u001b[1;36m1\u001b[0m\u001b[1;33m,\u001b[0m\u001b[1;36m4\u001b[0m\u001b[1;33m,\u001b[0m\u001b[1;36m6\u001b[0m\u001b[1;33m]\u001b[0m\u001b[1;33m}\u001b[0m\u001b[1;33m\u001b[0m\u001b[1;33m\u001b[0m\u001b[0m\n\u001b[0m",
      "\u001b[1;31mTypeError\u001b[0m: unhashable type: 'list'"
     ]
    }
   ],
   "source": [
    "test5()"
   ]
  },
  {
   "cell_type": "code",
   "execution_count": 26,
   "id": "ce2d810d",
   "metadata": {},
   "outputs": [],
   "source": [
    "# Above error is thrown as 'set' cant contain \"list' & 'dictionary'. So even def fun is passed, it can't be executed.\n",
    "\n",
    "def test5():\n",
    "    return \"kola\",(\"len\"),['min'],{25,25.36,52j,(0,2,3,5),{1:2}}\n",
    "\n",
    "def test5_1():\n",
    "    return \"kola\",(\"len\"),['min'],{25,25.36,52j,(0,2,3,5)}"
   ]
  },
  {
   "cell_type": "code",
   "execution_count": 27,
   "id": "f5672024",
   "metadata": {},
   "outputs": [
    {
     "data": {
      "text/plain": [
       "('kola', 'len', ['min'], {(0, 2, 3, 5), 25, 25.36, 52j})"
      ]
     },
     "execution_count": 27,
     "metadata": {},
     "output_type": "execute_result"
    }
   ],
   "source": [
    "test5_1()"
   ]
  },
  {
   "cell_type": "code",
   "execution_count": 28,
   "id": "beeb020f",
   "metadata": {},
   "outputs": [],
   "source": [
    "# Assigning variables to a function which has collection of diff values/types of data\n",
    "sa,ra,ga,ma = test5_1()"
   ]
  },
  {
   "cell_type": "code",
   "execution_count": 29,
   "id": "22f040c2",
   "metadata": {},
   "outputs": [
    {
     "data": {
      "text/plain": [
       "'kola'"
      ]
     },
     "execution_count": 29,
     "metadata": {},
     "output_type": "execute_result"
    }
   ],
   "source": [
    "sa"
   ]
  },
  {
   "cell_type": "code",
   "execution_count": 30,
   "id": "2c77cd4b",
   "metadata": {},
   "outputs": [
    {
     "data": {
      "text/plain": [
       "'len'"
      ]
     },
     "execution_count": 30,
     "metadata": {},
     "output_type": "execute_result"
    }
   ],
   "source": [
    "ra"
   ]
  },
  {
   "cell_type": "code",
   "execution_count": 31,
   "id": "32ce4cbd",
   "metadata": {},
   "outputs": [
    {
     "data": {
      "text/plain": [
       "['min']"
      ]
     },
     "execution_count": 31,
     "metadata": {},
     "output_type": "execute_result"
    }
   ],
   "source": [
    "ga"
   ]
  },
  {
   "cell_type": "code",
   "execution_count": 32,
   "id": "30e352e9",
   "metadata": {},
   "outputs": [
    {
     "data": {
      "text/plain": [
       "{(0, 2, 3, 5), 25, 25.36, 52j}"
      ]
     },
     "execution_count": 32,
     "metadata": {},
     "output_type": "execute_result"
    }
   ],
   "source": [
    "ma"
   ]
  },
  {
   "cell_type": "code",
   "execution_count": 33,
   "id": "4ea2cd7a",
   "metadata": {},
   "outputs": [
    {
     "data": {
      "text/plain": [
       "list"
      ]
     },
     "execution_count": 33,
     "metadata": {},
     "output_type": "execute_result"
    }
   ],
   "source": [
    "type(ga)"
   ]
  },
  {
   "cell_type": "code",
   "execution_count": 34,
   "id": "73460e50",
   "metadata": {},
   "outputs": [
    {
     "data": {
      "text/plain": [
       "tuple"
      ]
     },
     "execution_count": 34,
     "metadata": {},
     "output_type": "execute_result"
    }
   ],
   "source": [
    "type(test5_1())"
   ]
  },
  {
   "cell_type": "code",
   "execution_count": 35,
   "id": "078f1b48",
   "metadata": {},
   "outputs": [
    {
     "ename": "TypeError",
     "evalue": "'function' object is not subscriptable",
     "output_type": "error",
     "traceback": [
      "\u001b[1;31m---------------------------------------------------------------------------\u001b[0m",
      "\u001b[1;31mTypeError\u001b[0m                                 Traceback (most recent call last)",
      "\u001b[1;32m<ipython-input-35-931132a61a75>\u001b[0m in \u001b[0;36m<module>\u001b[1;34m\u001b[0m\n\u001b[1;32m----> 1\u001b[1;33m \u001b[0mtest5_1\u001b[0m\u001b[1;33m[\u001b[0m\u001b[1;36m3\u001b[0m\u001b[1;33m]\u001b[0m\u001b[1;33m\u001b[0m\u001b[1;33m\u001b[0m\u001b[0m\n\u001b[0m",
      "\u001b[1;31mTypeError\u001b[0m: 'function' object is not subscriptable"
     ]
    }
   ],
   "source": [
    "test5_1[3]"
   ]
  },
  {
   "cell_type": "code",
   "execution_count": 36,
   "id": "f3fb8512",
   "metadata": {},
   "outputs": [
    {
     "data": {
      "text/plain": [
       "{(0, 2, 3, 5), 25, 25.36, 52j}"
      ]
     },
     "execution_count": 36,
     "metadata": {},
     "output_type": "execute_result"
    }
   ],
   "source": [
    "# We can do slicing operation in function, can be done when that function is stored in variable\n",
    "T = test5_1()\n",
    "T[3]"
   ]
  },
  {
   "cell_type": "code",
   "execution_count": 37,
   "id": "ba785027",
   "metadata": {},
   "outputs": [
    {
     "data": {
      "text/plain": [
       "set"
      ]
     },
     "execution_count": 37,
     "metadata": {},
     "output_type": "execute_result"
    }
   ],
   "source": [
    "type(T[3])"
   ]
  },
  {
   "cell_type": "code",
   "execution_count": 38,
   "id": "ec1c7261",
   "metadata": {},
   "outputs": [],
   "source": [
    "# Storing of logic under fun\n",
    "def test6():\n",
    "    a = 48/2 *4\n",
    "    return a"
   ]
  },
  {
   "cell_type": "code",
   "execution_count": 39,
   "id": "9d8cf71d",
   "metadata": {},
   "outputs": [
    {
     "data": {
      "text/plain": [
       "96.0"
      ]
     },
     "execution_count": 39,
     "metadata": {},
     "output_type": "execute_result"
    }
   ],
   "source": [
    "test6()"
   ]
  },
  {
   "cell_type": "code",
   "execution_count": 40,
   "id": "dc774e11",
   "metadata": {},
   "outputs": [],
   "source": [
    "# Filtering out integers from list in fun, getting output as list of integers\n",
    "def test7(a):\n",
    "    n =[]\n",
    "    if type(a) ==list:\n",
    "        for i in a:\n",
    "            if type(i)==int:\n",
    "                n.append(i)\n",
    "    return n"
   ]
  },
  {
   "cell_type": "code",
   "execution_count": 41,
   "id": "e4410041",
   "metadata": {},
   "outputs": [],
   "source": [
    "b = [1,5,7,58j,\"salute\",(0,5,9),range(8)]"
   ]
  },
  {
   "cell_type": "code",
   "execution_count": 42,
   "id": "6b963e03",
   "metadata": {},
   "outputs": [
    {
     "data": {
      "text/plain": [
       "[1, 5, 7]"
      ]
     },
     "execution_count": 42,
     "metadata": {},
     "output_type": "execute_result"
    }
   ],
   "source": [
    "test7(b)"
   ]
  },
  {
   "cell_type": "code",
   "execution_count": 43,
   "id": "bad63b92",
   "metadata": {},
   "outputs": [
    {
     "data": {
      "text/plain": [
       "range"
      ]
     },
     "execution_count": 43,
     "metadata": {},
     "output_type": "execute_result"
    }
   ],
   "source": [
    "type(b[-1])"
   ]
  },
  {
   "cell_type": "code",
   "execution_count": 44,
   "id": "59c0f039",
   "metadata": {},
   "outputs": [
    {
     "data": {
      "text/plain": [
       "[]"
      ]
     },
     "execution_count": 44,
     "metadata": {},
     "output_type": "execute_result"
    }
   ],
   "source": [
    "c =(742,543,21,\"df\",[1,3,2.4,3.9])\n",
    "test7(c)"
   ]
  },
  {
   "cell_type": "code",
   "execution_count": 45,
   "id": "5b80d63b",
   "metadata": {},
   "outputs": [],
   "source": [
    "# Take input as dictionary, get keys as output\n",
    "def test8(a):\n",
    "    if type(a)==dict:\n",
    "        return a.keys()\n",
    "    else:\n",
    "        return \"You've not given dictionary as input\""
   ]
  },
  {
   "cell_type": "code",
   "execution_count": 46,
   "id": "a0b4d3bc",
   "metadata": {},
   "outputs": [
    {
     "data": {
      "text/plain": [
       "dict_keys([1, 2, 3, 4, 'duration'])"
      ]
     },
     "execution_count": 46,
     "metadata": {},
     "output_type": "execute_result"
    }
   ],
   "source": [
    "d ={1:\"sky\",2:\"sea\",3:\"shells\",4:\"course\",\"duration\":(245,43.342)}\n",
    "test8(d)"
   ]
  },
  {
   "cell_type": "code",
   "execution_count": 47,
   "id": "cd19ea50",
   "metadata": {},
   "outputs": [
    {
     "data": {
      "text/plain": [
       "\"You've not given dictionary as input\""
      ]
     },
     "execution_count": 47,
     "metadata": {},
     "output_type": "execute_result"
    }
   ],
   "source": [
    "e =(\"nfsjdfn\",541.565,325)\n",
    "test8(e)"
   ]
  },
  {
   "cell_type": "code",
   "execution_count": 48,
   "id": "383717ae",
   "metadata": {},
   "outputs": [],
   "source": [
    "# Function: input- 2 lists, check - atleast 1 input is list,output- concatenation of 2 lists, else:message in string format\n",
    "def test9(g,h):\n",
    "    if type(g)==list and type(h)==list:\n",
    "        g.extend(h)\n",
    "        return g\n",
    "    else:\n",
    "        return \"Either of your data isn't list\"\n",
    "        "
   ]
  },
  {
   "cell_type": "code",
   "execution_count": 49,
   "id": "d858243e",
   "metadata": {},
   "outputs": [
    {
     "data": {
      "text/plain": [
       "[1, 2, 8.09, 7j, 2, 3.7, 78]"
      ]
     },
     "execution_count": 49,
     "metadata": {},
     "output_type": "execute_result"
    }
   ],
   "source": [
    "h1 = [1,2,8.09,7j]\n",
    "g2=[2,3.7,78]\n",
    "test9(h1,g2)"
   ]
  },
  {
   "cell_type": "code",
   "execution_count": null,
   "id": "81d5bb79",
   "metadata": {},
   "outputs": [],
   "source": [
    "# write a fun which is going to return pyramid structure where input as no.of rows & columns\n"
   ]
  }
 ],
 "metadata": {
  "kernelspec": {
   "display_name": "Python 3",
   "language": "python",
   "name": "python3"
  },
  "language_info": {
   "codemirror_mode": {
    "name": "ipython",
    "version": 3
   },
   "file_extension": ".py",
   "mimetype": "text/x-python",
   "name": "python",
   "nbconvert_exporter": "python",
   "pygments_lexer": "ipython3",
   "version": "3.8.8"
  }
 },
 "nbformat": 4,
 "nbformat_minor": 5
}
