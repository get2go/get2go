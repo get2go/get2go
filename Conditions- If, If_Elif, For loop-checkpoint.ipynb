{
 "cells": [
  {
   "cell_type": "markdown",
   "id": "a8b934be",
   "metadata": {},
   "source": [
    "IF ELSE"
   ]
  },
  {
   "cell_type": "code",
   "execution_count": 1,
   "id": "2fbec36f",
   "metadata": {},
   "outputs": [],
   "source": [
    "a = 20"
   ]
  },
  {
   "cell_type": "code",
   "execution_count": 2,
   "id": "3bf4b322",
   "metadata": {},
   "outputs": [],
   "source": [
    "if a> 15:\n",
    "    pass"
   ]
  },
  {
   "cell_type": "code",
   "execution_count": 3,
   "id": "3da5639e",
   "metadata": {},
   "outputs": [],
   "source": [
    "# : - is must in python for every condition(like if, for loop, etc)\n",
    "# pass - a reserved key word used when user isn't going to use it, then it returns nothing (like dead code)"
   ]
  },
  {
   "cell_type": "code",
   "execution_count": 4,
   "id": "719355d8",
   "metadata": {},
   "outputs": [],
   "source": [
    "if a< 10:\n",
    "    print(a)"
   ]
  },
  {
   "cell_type": "code",
   "execution_count": 5,
   "id": "be603d95",
   "metadata": {},
   "outputs": [],
   "source": [
    "# as condition is failed, it returns nothing"
   ]
  },
  {
   "cell_type": "code",
   "execution_count": 6,
   "id": "9cfa2439",
   "metadata": {},
   "outputs": [
    {
     "name": "stdout",
     "output_type": "stream",
     "text": [
      "A is greater\n"
     ]
    }
   ],
   "source": [
    "if a>18:\n",
    "    print('A is greater')\n",
    "else:\n",
    "    print('A is smaller')"
   ]
  },
  {
   "cell_type": "markdown",
   "id": "825a2c1c",
   "metadata": {},
   "source": [
    "MULTIPLE CONDITIONAL STATEMENT"
   ]
  },
  {
   "cell_type": "code",
   "execution_count": 7,
   "id": "0a59acae",
   "metadata": {},
   "outputs": [
    {
     "name": "stdout",
     "output_type": "stream",
     "text": [
      "I will buy all\n"
     ]
    }
   ],
   "source": [
    "income = 10000 \n",
    "if income < 5000:\n",
    "    print('I will buy a phone')\n",
    "elif income < 6000:\n",
    "    print('I will buy a TV')\n",
    "elif income < 7000:\n",
    "    print(\"I'll buy a car\" )\n",
    "elif income < 8000:\n",
    "    print('I rent a house')\n",
    "else:\n",
    "    print(\"I will buy all\")"
   ]
  },
  {
   "cell_type": "code",
   "execution_count": 8,
   "id": "3725acbd",
   "metadata": {},
   "outputs": [],
   "source": [
    "# elif- means else if, it means if given statement doesn't satisfy if condition, it checks for elif"
   ]
  },
  {
   "cell_type": "code",
   "execution_count": 9,
   "id": "06988b72",
   "metadata": {},
   "outputs": [
    {
     "name": "stdout",
     "output_type": "stream",
     "text": [
      "200\n",
      "I will buy a phone\n"
     ]
    }
   ],
   "source": [
    "income = int(input())\n",
    "if income < 5000:\n",
    "    print('I will buy a phone')\n",
    "elif income < 6000:\n",
    "    print('I will buy a TV')\n",
    "elif income < 7000:\n",
    "    print(\"I'll buy a car\" )\n",
    "elif income < 8000:\n",
    "    print('I rent a house')\n",
    "else:\n",
    "    print(\"I will buy all\")"
   ]
  },
  {
   "cell_type": "code",
   "execution_count": 10,
   "id": "7e3f85ab",
   "metadata": {},
   "outputs": [],
   "source": [
    "# input- takes string data, so we need to type cast it into int for comparision"
   ]
  },
  {
   "cell_type": "code",
   "execution_count": 11,
   "id": "b411932c",
   "metadata": {},
   "outputs": [
    {
     "name": "stdout",
     "output_type": "stream",
     "text": [
      "9000\n",
      "Discount isn't available\n"
     ]
    }
   ],
   "source": [
    "Total_price =int(input())\n",
    "if Total_price < 6000:\n",
    "    discount = Total_price *.10\n",
    "    print('Discount will be ', discount)\n",
    "elif Total_price < 7000:\n",
    "    discount = Total_price *.15\n",
    "    print(\"Discount will be \", discount)\n",
    "elif Total_price < 8500:\n",
    "    discount = Total_price *.08\n",
    "    print(\"Discount will be \", discount)\n",
    "else:\n",
    "    print(\"Discount isn't available\")"
   ]
  },
  {
   "cell_type": "code",
   "execution_count": 12,
   "id": "28c6d739",
   "metadata": {},
   "outputs": [
    {
     "name": "stdout",
     "output_type": "stream",
     "text": [
      "You will get a disc of 15%\n",
      "You have to pay  6375.0\n"
     ]
    }
   ],
   "source": [
    "coup = \"AMAZON15\"\n",
    "if coup == 'AMAZON15':\n",
    "    print('You will get a disc of 15%')\n",
    "    paid_amt = 7500- 7500*.15\n",
    "    print('You have to pay ', paid_amt)\n",
    "else:\n",
    "    print(\"plz use a valid coupon code\")"
   ]
  },
  {
   "cell_type": "code",
   "execution_count": 13,
   "id": "facc80c8",
   "metadata": {},
   "outputs": [],
   "source": [
    "# Note: = - Assignment operator\n",
    "# == - Comparision Operator"
   ]
  },
  {
   "cell_type": "code",
   "execution_count": 16,
   "id": "4b1d64ef",
   "metadata": {},
   "outputs": [
    {
     "ename": "SyntaxError",
     "evalue": "invalid syntax (<ipython-input-16-f0274ad598e6>, line 7)",
     "output_type": "error",
     "traceback": [
      "\u001b[1;36m  File \u001b[1;32m\"<ipython-input-16-f0274ad598e6>\"\u001b[1;36m, line \u001b[1;32m7\u001b[0m\n\u001b[1;33m    if date <= (9:6:2022):\u001b[0m\n\u001b[1;37m                 ^\u001b[0m\n\u001b[1;31mSyntaxError\u001b[0m\u001b[1;31m:\u001b[0m invalid syntax\n"
     ]
    }
   ],
   "source": [
    "coup = input()\n",
    "date = input()\n",
    "if coup == 'AMAZON15':\n",
    "    print('You will get a disc of 15%')\n",
    "    paid_amt = 7500- 7500*.15\n",
    "    print('You have to pay ', paid_amt)\n",
    "    if date <= (9:6:2022):\n",
    "        print(\"You will have a lifetime access\")\n",
    "    else:\n",
    "        print('You will have access for 1 year')\n",
    "        \n",
    "else:\n",
    "    print(\"plz use a valid coupon code\")"
   ]
  },
  {
   "cell_type": "code",
   "execution_count": 17,
   "id": "72cb216c",
   "metadata": {},
   "outputs": [],
   "source": [
    "#### Need to know how to key date format as data input"
   ]
  },
  {
   "cell_type": "markdown",
   "id": "41e4d701",
   "metadata": {},
   "source": [
    "MULTIPLE CONDITIONS"
   ]
  },
  {
   "cell_type": "code",
   "execution_count": 18,
   "id": "cf2a6f74",
   "metadata": {},
   "outputs": [
    {
     "name": "stdout",
     "output_type": "stream",
     "text": [
      "5\n",
      "it will be difficult\n"
     ]
    }
   ],
   "source": [
    "studyhour = int(input())\n",
    "if studyhour ==2:\n",
    "    print(\"It may take 8-9 months for job placement\")\n",
    "elif studyhour>2 and studyhour<5:\n",
    "    print(\"It may take 5-6 months for job placement\")\n",
    "else:\n",
    "    print(\"it will be difficult\")"
   ]
  },
  {
   "cell_type": "code",
   "execution_count": 19,
   "id": "1b836fd3",
   "metadata": {},
   "outputs": [],
   "source": [
    "# Range can be considered only when written as \"var> and var<\""
   ]
  },
  {
   "cell_type": "code",
   "execution_count": 20,
   "id": "e5b8f08f",
   "metadata": {},
   "outputs": [
    {
     "name": "stdout",
     "output_type": "stream",
     "text": [
      "5800\n",
      "I can rent a house\n"
     ]
    }
   ],
   "source": [
    "wages = int(input())\n",
    "if wages == 6000:\n",
    "    print(\"I can have 2 meals a day\")\n",
    "elif wages <= 10000 & wages >6000 :\n",
    "    print(\"I can have 3 meals a day\")\n",
    "elif wages >10000 & wages < 20000:\n",
    "    print(\"I can rent a house\")\n",
    "else:\n",
    "    print(\"It's difficult to pass a day without meal\")"
   ]
  },
  {
   "cell_type": "code",
   "execution_count": 21,
   "id": "6429db31",
   "metadata": {},
   "outputs": [
    {
     "name": "stdout",
     "output_type": "stream",
     "text": [
      "3622\n",
      "It's difficult to survive\n"
     ]
    }
   ],
   "source": [
    "expenses = float(input())\n",
    "if expenses == 6000:\n",
    "    print(\"I can't save anything\")\n",
    "elif expenses < 10000 and expenses >6000 :\n",
    "    print(\"I can save 500 per month\")\n",
    "elif expenses >10000 and expenses < 20000:\n",
    "    print(\"I can save 5000 per month\")\n",
    "else:\n",
    "    print(\"It's difficult to survive\")"
   ]
  },
  {
   "cell_type": "code",
   "execution_count": 22,
   "id": "046f9781",
   "metadata": {},
   "outputs": [],
   "source": [
    "# float- doesn't support operand (&), so use 'and' to run it"
   ]
  },
  {
   "cell_type": "markdown",
   "id": "6a7eb8b2",
   "metadata": {},
   "source": [
    "Nested Else_If condition"
   ]
  },
  {
   "cell_type": "code",
   "execution_count": 23,
   "id": "38e654d1",
   "metadata": {},
   "outputs": [
    {
     "name": "stdout",
     "output_type": "stream",
     "text": [
      "AI\n",
      "NLP\n",
      "BA\n",
      "Please enter valid details\n"
     ]
    }
   ],
   "source": [
    "s = input()\n",
    "course = input()\n",
    "service= input()\n",
    "if s==\"Ineuron\":\n",
    "    if course ==\"DataScience\":\n",
    "        if service ==\"FSDS\":\n",
    "            print(\"Course is available & costs 15000\")\n",
    "        elif service==\"1neuron\":\n",
    "            print(\"Course is available & its price is 7080\")\n",
    "        else:\n",
    "            print(\"You're request is noted, we will notify you when course is available\")\n",
    "    elif course ==\"Big_Data\":\n",
    "        if service== \"Hadoop\":\n",
    "            print(\"Course is yet to start from 1st July & U can enroll for it\")\n",
    "        elif service== \"Big_Data_Analytics\":\n",
    "            print(\"Course is present, you can enroll\")\n",
    "        else:\n",
    "            print(\"You're request is noted, we are working on it\")\n",
    "    elif course ==\"AI\":\n",
    "        if service==\"NLP\":\n",
    "            print(\"Course is available & costs 17700\")\n",
    "        elif service==\"Text_Mining\":\n",
    "            print(\"Course is already started, you can join\")\n",
    "        else:\n",
    "            print(\"Requested course is unavailable\")\n",
    "    elif service==\"BA\":\n",
    "        print(\"Business Analytics is available & it offers various sub-courses\")\n",
    "    else:\n",
    "        print(\"Sorry we're not able to meet your demand\")\n",
    "else:\n",
    "    print(\"Please enter valid details\")"
   ]
  },
  {
   "cell_type": "code",
   "execution_count": 26,
   "id": "faaf4286",
   "metadata": {},
   "outputs": [
    {
     "name": "stdout",
     "output_type": "stream",
     "text": [
      "enter a string to start: \n",
      "enter course name: \n",
      "enter service name: \n",
      "Please enter valid details\n"
     ]
    }
   ],
   "source": [
    "s = input(\"enter a string to start: \")\n",
    "course = input(\"enter course name: \")\n",
    "service =input('enter service name: ')\n",
    "if s==\"Ineuron\":\n",
    "    if course ==\"DataScience\":\n",
    "        if service ==\"FSDS\":\n",
    "            print(\"Course is available & costs 15000\")\n",
    "        elif service==\"1neuron\":\n",
    "            print(\"Course is available & its price is 7080\")\n",
    "        else:\n",
    "            print(\"You're request is noted, we will notify you when course is available\")\n",
    "    elif course ==\"Big_Data\":\n",
    "        if service== \"Hadoop\":\n",
    "            print(\"Course is yet to start from 1st July & U can enroll for it\")\n",
    "        elif service== \"Big_Data_Analytics\":\n",
    "            print(\"Course is present, you can enroll\")\n",
    "        else:\n",
    "            print(\"You're request is noted, we are working on it\")\n",
    "    elif course ==\"AI\":\n",
    "        if service==\"NLP\":\n",
    "            print(\"Course is available & costs 17700\")\n",
    "        elif service==\"Text_Mining\":\n",
    "            print(\"Course is already started, you can join\")\n",
    "        else:\n",
    "            print(\"Requested course is unavailable\")\n",
    "    elif course==\"Tech_Neuron\":\n",
    "        if service =='AIOPS':\n",
    "            print(\"We're working on it, our team will get back to you in 15 days\")\n",
    "        else:\n",
    "            print(\"Please contact our support team\")\n",
    "    else:\n",
    "        print(\"Sorry we're not able to meet your demand\")\n",
    "else:\n",
    "    print(\"Please enter valid details\")"
   ]
  },
  {
   "cell_type": "markdown",
   "id": "3906823a",
   "metadata": {},
   "source": [
    "# For Loop"
   ]
  },
  {
   "cell_type": "code",
   "execution_count": 27,
   "id": "3e0e582b",
   "metadata": {},
   "outputs": [],
   "source": [
    "# For loop - Used when we want to run a task for every item in a list/tuple\n",
    "# Also used for accessing individual item from a given/particular set of data"
   ]
  },
  {
   "cell_type": "code",
   "execution_count": 28,
   "id": "0abd9ea6",
   "metadata": {},
   "outputs": [
    {
     "name": "stdout",
     "output_type": "stream",
     "text": [
      "3\n",
      "5\n",
      "7\n",
      "9\n",
      "11\n"
     ]
    }
   ],
   "source": [
    "L = [1,3,5,7,9]\n",
    "for i in L:\n",
    "    print(2+i)"
   ]
  },
  {
   "cell_type": "code",
   "execution_count": 29,
   "id": "21371dd1",
   "metadata": {},
   "outputs": [],
   "source": [
    "Dt = [2,4,6.8,10j,'True',False,[34,345,456],(5667,688,'gf')]"
   ]
  },
  {
   "cell_type": "code",
   "execution_count": 30,
   "id": "da913e94",
   "metadata": {},
   "outputs": [
    {
     "name": "stdout",
     "output_type": "stream",
     "text": [
      "<class 'int'> type of 2\n",
      "<class 'int'> type of 4\n",
      "<class 'float'> type of 6.8\n",
      "<class 'complex'> type of 10j\n",
      "<class 'str'> type of True\n",
      "<class 'bool'> type of False\n",
      "<class 'list'> type of [34, 345, 456]\n",
      "<class 'tuple'> type of (5667, 688, 'gf')\n"
     ]
    }
   ],
   "source": [
    "for i in Dt:\n",
    "    print(type(i), 'type of', i)"
   ]
  },
  {
   "cell_type": "code",
   "execution_count": 31,
   "id": "220fabaa",
   "metadata": {},
   "outputs": [
    {
     "name": "stdout",
     "output_type": "stream",
     "text": [
      "3\n",
      "5\n",
      "7\n",
      "9\n",
      "11\n"
     ]
    }
   ],
   "source": [
    "L = [1,3,5,7,9]\n",
    "L1 =[]\n",
    "for i in L:\n",
    "    print(2+i)\n",
    "    L1.append(i+2)"
   ]
  },
  {
   "cell_type": "code",
   "execution_count": 32,
   "id": "8c7ce5ca",
   "metadata": {},
   "outputs": [
    {
     "data": {
      "text/plain": [
       "[3, 5, 7, 9, 11]"
      ]
     },
     "execution_count": 32,
     "metadata": {},
     "output_type": "execute_result"
    }
   ],
   "source": [
    "L1"
   ]
  },
  {
   "cell_type": "markdown",
   "id": "9f9fe708",
   "metadata": {},
   "source": [
    "Extraction of elements using for loop"
   ]
  },
  {
   "cell_type": "code",
   "execution_count": 33,
   "id": "b8f2fdd3",
   "metadata": {},
   "outputs": [
    {
     "data": {
      "text/plain": [
       "[2, 4, 6.8, 10j, 'True', False, [34, 345, 456], (5667, 688, 'gf')]"
      ]
     },
     "execution_count": 33,
     "metadata": {},
     "output_type": "execute_result"
    }
   ],
   "source": [
    "Dt"
   ]
  },
  {
   "cell_type": "code",
   "execution_count": 34,
   "id": "ab38cdf8",
   "metadata": {},
   "outputs": [
    {
     "name": "stdout",
     "output_type": "stream",
     "text": [
      "2\n",
      "4\n"
     ]
    }
   ],
   "source": [
    "for i in Dt:\n",
    "    if type(i) ==int:\n",
    "        print(i)"
   ]
  },
  {
   "cell_type": "code",
   "execution_count": 35,
   "id": "d3c43652",
   "metadata": {},
   "outputs": [],
   "source": [
    "Dt.append(['bfdb',7667,2321,3.0,True])"
   ]
  },
  {
   "cell_type": "code",
   "execution_count": 36,
   "id": "5dfa5a47",
   "metadata": {},
   "outputs": [
    {
     "data": {
      "text/plain": [
       "[2,\n",
       " 4,\n",
       " 6.8,\n",
       " 10j,\n",
       " 'True',\n",
       " False,\n",
       " [34, 345, 456],\n",
       " (5667, 688, 'gf'),\n",
       " ['bfdb', 7667, 2321, 3.0, True]]"
      ]
     },
     "execution_count": 36,
     "metadata": {},
     "output_type": "execute_result"
    }
   ],
   "source": [
    "Dt"
   ]
  },
  {
   "cell_type": "code",
   "execution_count": 37,
   "id": "45967eac",
   "metadata": {},
   "outputs": [
    {
     "name": "stdout",
     "output_type": "stream",
     "text": [
      "[34, 345, 456]\n",
      "['bfdb', 7667, 2321, 3.0, True]\n"
     ]
    }
   ],
   "source": [
    "for i in Dt:\n",
    "    if type(i)==list:\n",
    "        print(i)"
   ]
  },
  {
   "cell_type": "code",
   "execution_count": 38,
   "id": "969ec762",
   "metadata": {},
   "outputs": [
    {
     "name": "stdout",
     "output_type": "stream",
     "text": [
      "2\n",
      "4\n",
      "34\n",
      "345\n",
      "456\n",
      "7667\n",
      "2321\n"
     ]
    }
   ],
   "source": [
    "for i in Dt:\n",
    "    if type(i)==int:\n",
    "        print(i)\n",
    "    elif type(i)==list:\n",
    "        for j in i:\n",
    "            if(type(j))==int:\n",
    "                print(j)"
   ]
  },
  {
   "cell_type": "markdown",
   "id": "98ed8438",
   "metadata": {},
   "source": [
    "Getting inidices of list using for loop"
   ]
  },
  {
   "cell_type": "code",
   "execution_count": 39,
   "id": "cdbf4492",
   "metadata": {},
   "outputs": [
    {
     "data": {
      "text/plain": [
       "[2,\n",
       " 4,\n",
       " 6.8,\n",
       " 10j,\n",
       " 'True',\n",
       " False,\n",
       " [34, 345, 456],\n",
       " (5667, 688, 'gf'),\n",
       " ['bfdb', 7667, 2321, 3.0, True]]"
      ]
     },
     "execution_count": 39,
     "metadata": {},
     "output_type": "execute_result"
    }
   ],
   "source": [
    "Dt"
   ]
  },
  {
   "cell_type": "code",
   "execution_count": 40,
   "id": "12853657",
   "metadata": {},
   "outputs": [
    {
     "name": "stdout",
     "output_type": "stream",
     "text": [
      "0 2\n",
      "1 4\n",
      "2 6.8\n",
      "3 10j\n",
      "4 True\n",
      "5 False\n",
      "6 [34, 345, 456]\n",
      "7 (5667, 688, 'gf')\n",
      "8 ['bfdb', 7667, 2321, 3.0, True]\n"
     ]
    }
   ],
   "source": [
    "for i in Dt:\n",
    "    print(Dt.index(i),i)"
   ]
  },
  {
   "cell_type": "code",
   "execution_count": 41,
   "id": "3d5ca612",
   "metadata": {},
   "outputs": [],
   "source": [
    "Data =[1,2,3,3,3,4,5,5]"
   ]
  },
  {
   "cell_type": "code",
   "execution_count": 42,
   "id": "dd0d6aa5",
   "metadata": {},
   "outputs": [
    {
     "name": "stdout",
     "output_type": "stream",
     "text": [
      "0 1\n",
      "1 2\n",
      "2 3\n",
      "2 3\n",
      "2 3\n",
      "5 4\n",
      "6 5\n",
      "6 5\n"
     ]
    }
   ],
   "source": [
    "for i in Data:\n",
    "    print(Data.index(i),i)"
   ]
  },
  {
   "cell_type": "code",
   "execution_count": 43,
   "id": "e4dd9352",
   "metadata": {},
   "outputs": [],
   "source": [
    "# Index function doesn't work when there is repition of elements in list, so have to use range fun to get indices"
   ]
  },
  {
   "cell_type": "code",
   "execution_count": 44,
   "id": "cc24b9a6",
   "metadata": {},
   "outputs": [],
   "source": [
    "# Using range & for loop getting index of elements in list"
   ]
  },
  {
   "cell_type": "code",
   "execution_count": 45,
   "id": "e4195c4d",
   "metadata": {},
   "outputs": [
    {
     "name": "stdout",
     "output_type": "stream",
     "text": [
      "index 0 for an element of 2\n",
      "index 1 for an element of 4\n",
      "index 2 for an element of 6.8\n",
      "index 3 for an element of 10j\n",
      "index 4 for an element of True\n",
      "index 5 for an element of False\n",
      "index 6 for an element of [34, 345, 456]\n",
      "index 7 for an element of (5667, 688, 'gf')\n",
      "index 8 for an element of ['bfdb', 7667, 2321, 3.0, True]\n"
     ]
    }
   ],
   "source": [
    "for i in range(len(Dt)):\n",
    "    print(\"index\", i, \"for an element of\", Dt[i])"
   ]
  },
  {
   "cell_type": "code",
   "execution_count": 46,
   "id": "98028b36",
   "metadata": {},
   "outputs": [
    {
     "name": "stdout",
     "output_type": "stream",
     "text": [
      "(0, 2)\n",
      "(1, 4)\n",
      "(2, 6.8)\n",
      "(3, 10j)\n",
      "(4, 'True')\n",
      "(5, False)\n",
      "(6, [34, 345, 456])\n",
      "(7, (5667, 688, 'gf'))\n",
      "(8, ['bfdb', 7667, 2321, 3.0, True])\n"
     ]
    }
   ],
   "source": [
    "# Other way to get indices - Enumerate gives index along with its element\n",
    "for i in enumerate(Dt):\n",
    "    print(i)"
   ]
  },
  {
   "cell_type": "code",
   "execution_count": 47,
   "id": "6d684446",
   "metadata": {},
   "outputs": [],
   "source": [
    "# Extract list of elements based on conditions"
   ]
  },
  {
   "cell_type": "code",
   "execution_count": 48,
   "id": "f33283a2",
   "metadata": {},
   "outputs": [],
   "source": [
    "Dt1 =[1,76,90,78.09,'ddf',['jhbd','juggad'],('djb','duh')]"
   ]
  },
  {
   "cell_type": "code",
   "execution_count": 49,
   "id": "ac98957e",
   "metadata": {},
   "outputs": [
    {
     "name": "stdout",
     "output_type": "stream",
     "text": [
      "['ddf']\n",
      "['ddf', 'jhbd']\n",
      "['ddf', 'jhbd', 'juggad']\n",
      "['ddf', 'jhbd', 'juggad', 'djb']\n",
      "['ddf', 'jhbd', 'juggad', 'djb', 'duh']\n"
     ]
    }
   ],
   "source": [
    "dt =[]\n",
    "for i in Dt1:\n",
    "    if type(i)==str:\n",
    "        dt.append(i)\n",
    "        print(dt)\n",
    "    elif type(i)==list:\n",
    "        for j in i:\n",
    "            if type(j)==str:                \n",
    "                dt.append(j)\n",
    "                print(dt)\n",
    "    elif type(i)==tuple:\n",
    "        for k in i:\n",
    "            if type(k)==str:\n",
    "                dt.append(k)\n",
    "                print(dt)    "
   ]
  },
  {
   "cell_type": "code",
   "execution_count": 50,
   "id": "900c6ff6",
   "metadata": {},
   "outputs": [
    {
     "data": {
      "text/plain": [
       "['ddf', 'jhbd', 'juggad', 'djb', 'duh']"
      ]
     },
     "execution_count": 50,
     "metadata": {},
     "output_type": "execute_result"
    }
   ],
   "source": [
    "dt"
   ]
  },
  {
   "cell_type": "code",
   "execution_count": 51,
   "id": "ae0255ae",
   "metadata": {},
   "outputs": [],
   "source": [
    "#Extract list of characters if element is string"
   ]
  },
  {
   "cell_type": "code",
   "execution_count": 52,
   "id": "2b87bd8a",
   "metadata": {},
   "outputs": [
    {
     "name": "stdout",
     "output_type": "stream",
     "text": [
      "['d']\n",
      "['d', 'd']\n",
      "['d', 'd', 'f']\n"
     ]
    }
   ],
   "source": [
    "for i in Dt1:\n",
    "    s =[]\n",
    "    if type(i)==str:\n",
    "        for j in i:\n",
    "            s.append(j)\n",
    "            print(s)"
   ]
  },
  {
   "cell_type": "code",
   "execution_count": 53,
   "id": "5962cd96",
   "metadata": {},
   "outputs": [
    {
     "name": "stdout",
     "output_type": "stream",
     "text": [
      "['d']\n",
      "['d', 'd']\n",
      "['d', 'd', 'f']\n",
      "['d', 'd', 'f', 'j']\n",
      "['d', 'd', 'f', 'j', 'h']\n",
      "['d', 'd', 'f', 'j', 'h', 'b']\n",
      "['d', 'd', 'f', 'j', 'h', 'b', 'd']\n",
      "['d', 'd', 'f', 'j', 'h', 'b', 'd', 'j']\n",
      "['d', 'd', 'f', 'j', 'h', 'b', 'd', 'j', 'u']\n",
      "['d', 'd', 'f', 'j', 'h', 'b', 'd', 'j', 'u', 'g']\n",
      "['d', 'd', 'f', 'j', 'h', 'b', 'd', 'j', 'u', 'g', 'g']\n",
      "['d', 'd', 'f', 'j', 'h', 'b', 'd', 'j', 'u', 'g', 'g', 'a']\n",
      "['d', 'd', 'f', 'j', 'h', 'b', 'd', 'j', 'u', 'g', 'g', 'a', 'd']\n",
      "['d', 'd', 'f', 'j', 'h', 'b', 'd', 'j', 'u', 'g', 'g', 'a', 'd', 'd']\n",
      "['d', 'd', 'f', 'j', 'h', 'b', 'd', 'j', 'u', 'g', 'g', 'a', 'd', 'd', 'j']\n",
      "['d', 'd', 'f', 'j', 'h', 'b', 'd', 'j', 'u', 'g', 'g', 'a', 'd', 'd', 'j', 'b']\n",
      "['d', 'd', 'f', 'j', 'h', 'b', 'd', 'j', 'u', 'g', 'g', 'a', 'd', 'd', 'j', 'b', 'd']\n",
      "['d', 'd', 'f', 'j', 'h', 'b', 'd', 'j', 'u', 'g', 'g', 'a', 'd', 'd', 'j', 'b', 'd', 'u']\n",
      "['d', 'd', 'f', 'j', 'h', 'b', 'd', 'j', 'u', 'g', 'g', 'a', 'd', 'd', 'j', 'b', 'd', 'u', 'h']\n"
     ]
    }
   ],
   "source": [
    "# Extraction of list of characters of string present in list(includes inner list & tuple)\n",
    "s =[]\n",
    "for i in Dt1:\n",
    "    if type(i)==str:\n",
    "        for j in i:\n",
    "            s.append(j)\n",
    "            print(s)\n",
    "    elif type(i)==list:\n",
    "        for k in i:\n",
    "            if type(k)==str:\n",
    "                for l in k:\n",
    "                    s.append(l)\n",
    "                    print(s)\n",
    "    elif type(i)==tuple:\n",
    "        for m in i:\n",
    "            if type(m)==str:\n",
    "                for n in m:\n",
    "                    s.append(n)\n",
    "                    print(s)    "
   ]
  },
  {
   "cell_type": "code",
   "execution_count": 54,
   "id": "2d794a3a",
   "metadata": {},
   "outputs": [],
   "source": [
    "# Extract list of squares of int from a list"
   ]
  },
  {
   "cell_type": "code",
   "execution_count": 55,
   "id": "13ca7e2c",
   "metadata": {},
   "outputs": [],
   "source": [
    "Dt = [2,4,6.8,10j,'True',False,[34,345,456],(5667,688,'gf')]"
   ]
  },
  {
   "cell_type": "code",
   "execution_count": 56,
   "id": "9da8598e",
   "metadata": {},
   "outputs": [
    {
     "name": "stdout",
     "output_type": "stream",
     "text": [
      "[4]\n",
      "[4, 16]\n",
      "[4, 16, 1156]\n",
      "[4, 16, 1156, 119025]\n",
      "[4, 16, 1156, 119025, 207936]\n",
      "[4, 16, 1156, 119025, 207936, 32114889]\n",
      "[4, 16, 1156, 119025, 207936, 32114889, 473344]\n"
     ]
    }
   ],
   "source": [
    "d2 =[]\n",
    "for i in Dt:\n",
    "    if type(i)==list:\n",
    "        for j in i:\n",
    "            if type(j)==int:\n",
    "                d2.append(j**2)\n",
    "                print(d2)\n",
    "    elif type(i)==tuple:\n",
    "        for k in i:\n",
    "            if type(k)==int:\n",
    "                d2.append(k**2)\n",
    "                print(d2)\n",
    "    elif type(i)==int:\n",
    "        d2.append(i**2)\n",
    "        print(d2)\n",
    "        "
   ]
  },
  {
   "cell_type": "code",
   "execution_count": null,
   "id": "5fa7c528",
   "metadata": {},
   "outputs": [],
   "source": []
  },
  {
   "cell_type": "code",
   "execution_count": null,
   "id": "12e2a51f",
   "metadata": {},
   "outputs": [],
   "source": []
  }
 ],
 "metadata": {
  "kernelspec": {
   "display_name": "Python 3",
   "language": "python",
   "name": "python3"
  },
  "language_info": {
   "codemirror_mode": {
    "name": "ipython",
    "version": 3
   },
   "file_extension": ".py",
   "mimetype": "text/x-python",
   "name": "python",
   "nbconvert_exporter": "python",
   "pygments_lexer": "ipython3",
   "version": "3.8.8"
  }
 },
 "nbformat": 4,
 "nbformat_minor": 5
}
