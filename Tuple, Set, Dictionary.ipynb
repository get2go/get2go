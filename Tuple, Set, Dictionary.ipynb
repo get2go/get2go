{
 "cells": [
  {
   "cell_type": "raw",
   "id": "6acbed98",
   "metadata": {},
   "source": [
    "Data Types:\n",
    "String - A collection of characters. Notation - \" \" or ' '\n",
    "List - A collection of homogenous or hetrogenous elements. Notation -[] \n",
    "Tuple- Its similar to a list but not exactly a list. A collection to hold multiple elements at atime. Notation- ()"
   ]
  },
  {
   "cell_type": "code",
   "execution_count": 1,
   "id": "81ae32ae",
   "metadata": {},
   "outputs": [],
   "source": [
    "T = (1,23.45, 45+67j, 'tuples', False, [78,54,23])"
   ]
  },
  {
   "cell_type": "code",
   "execution_count": 2,
   "id": "67840408",
   "metadata": {},
   "outputs": [
    {
     "data": {
      "text/plain": [
       "tuple"
      ]
     },
     "execution_count": 2,
     "metadata": {},
     "output_type": "execute_result"
    }
   ],
   "source": [
    "type(T)"
   ]
  },
  {
   "cell_type": "markdown",
   "id": "98dfbac5",
   "metadata": {},
   "source": [
    "Slicing of Tuples/ Accessing elements in Tuple"
   ]
  },
  {
   "cell_type": "code",
   "execution_count": 3,
   "id": "5eb2acce",
   "metadata": {},
   "outputs": [
    {
     "data": {
      "text/plain": [
       "(1, 23.45, (45+67j))"
      ]
     },
     "execution_count": 3,
     "metadata": {},
     "output_type": "execute_result"
    }
   ],
   "source": [
    "T[0:3]"
   ]
  },
  {
   "cell_type": "raw",
   "id": "222a42ec",
   "metadata": {},
   "source": [
    "Note: Incase of slicing, whether its a tuple or list, should use [] only"
   ]
  },
  {
   "cell_type": "code",
   "execution_count": 4,
   "id": "fd15249e",
   "metadata": {},
   "outputs": [
    {
     "data": {
      "text/plain": [
       "([78, 54, 23], False, 'tuples', (45+67j), 23.45, 1)"
      ]
     },
     "execution_count": 4,
     "metadata": {},
     "output_type": "execute_result"
    }
   ],
   "source": [
    "T[::-1]"
   ]
  },
  {
   "cell_type": "code",
   "execution_count": 5,
   "id": "943a8a36",
   "metadata": {},
   "outputs": [
    {
     "data": {
      "text/plain": [
       "[78, 54, 23]"
      ]
     },
     "execution_count": 5,
     "metadata": {},
     "output_type": "execute_result"
    }
   ],
   "source": [
    "T[-1]"
   ]
  },
  {
   "cell_type": "raw",
   "id": "37baa3e4",
   "metadata": {},
   "source": [
    "So incase of slicing operations, no difference bewteen string/ list / tuple.Will able to access elements in same manner"
   ]
  },
  {
   "cell_type": "code",
   "execution_count": 6,
   "id": "29d0c01e",
   "metadata": {},
   "outputs": [
    {
     "data": {
      "text/plain": [
       "(1, (45+67j), False)"
      ]
     },
     "execution_count": 6,
     "metadata": {},
     "output_type": "execute_result"
    }
   ],
   "source": [
    "T[0::2]"
   ]
  },
  {
   "cell_type": "markdown",
   "id": "ac89dbcc",
   "metadata": {},
   "source": [
    "Item Assignment Operations"
   ]
  },
  {
   "cell_type": "code",
   "execution_count": 7,
   "id": "c3247526",
   "metadata": {},
   "outputs": [],
   "source": [
    "L1 = [1,3,5,7,9, False]"
   ]
  },
  {
   "cell_type": "code",
   "execution_count": 8,
   "id": "185f8d9f",
   "metadata": {},
   "outputs": [],
   "source": [
    "T2 = (2,4,6,8, True)"
   ]
  },
  {
   "cell_type": "code",
   "execution_count": 9,
   "id": "4ffa8c73",
   "metadata": {},
   "outputs": [],
   "source": [
    "L1[-1] = \"False\""
   ]
  },
  {
   "cell_type": "code",
   "execution_count": 10,
   "id": "647fd99c",
   "metadata": {},
   "outputs": [
    {
     "data": {
      "text/plain": [
       "[1, 3, 5, 7, 9, 'False']"
      ]
     },
     "execution_count": 10,
     "metadata": {},
     "output_type": "execute_result"
    }
   ],
   "source": [
    "L1"
   ]
  },
  {
   "cell_type": "code",
   "execution_count": 12,
   "id": "df2dbdb2",
   "metadata": {},
   "outputs": [
    {
     "ename": "TypeError",
     "evalue": "'tuple' object does not support item assignment",
     "output_type": "error",
     "traceback": [
      "\u001b[1;31m---------------------------------------------------------------------------\u001b[0m",
      "\u001b[1;31mTypeError\u001b[0m                                 Traceback (most recent call last)",
      "\u001b[1;32m<ipython-input-12-309ce437ad93>\u001b[0m in \u001b[0;36m<module>\u001b[1;34m\u001b[0m\n\u001b[1;32m----> 1\u001b[1;33m \u001b[0mT2\u001b[0m\u001b[1;33m[\u001b[0m\u001b[1;33m-\u001b[0m\u001b[1;36m1\u001b[0m\u001b[1;33m]\u001b[0m \u001b[1;33m=\u001b[0m \u001b[1;34m'True'\u001b[0m\u001b[1;33m\u001b[0m\u001b[1;33m\u001b[0m\u001b[0m\n\u001b[0m",
      "\u001b[1;31mTypeError\u001b[0m: 'tuple' object does not support item assignment"
     ]
    }
   ],
   "source": [
    "T2[-1] = 'True'"
   ]
  },
  {
   "cell_type": "raw",
   "id": "090d325b",
   "metadata": {},
   "source": [
    "1st difference between List & Tuple is Notation\n",
    "2nd difference is item assignment of particular index supports List but not Tuple"
   ]
  },
  {
   "cell_type": "code",
   "execution_count": 13,
   "id": "9a2efe93",
   "metadata": {},
   "outputs": [
    {
     "data": {
      "text/plain": [
       "(1, 23.45, (45+67j), 'tuples', False, [78, 54, 23])"
      ]
     },
     "execution_count": 13,
     "metadata": {},
     "output_type": "execute_result"
    }
   ],
   "source": [
    "T"
   ]
  },
  {
   "cell_type": "code",
   "execution_count": 14,
   "id": "f2a37b21",
   "metadata": {},
   "outputs": [
    {
     "data": {
      "text/plain": [
       "(2, 4, 6, 8, True)"
      ]
     },
     "execution_count": 14,
     "metadata": {},
     "output_type": "execute_result"
    }
   ],
   "source": [
    "T2"
   ]
  },
  {
   "cell_type": "code",
   "execution_count": 15,
   "id": "d186b2d3",
   "metadata": {},
   "outputs": [
    {
     "data": {
      "text/plain": [
       "(1, 23.45, (45+67j), 'tuples', False, [78, 54, 23], 2, 4, 6, 8, True)"
      ]
     },
     "execution_count": 15,
     "metadata": {},
     "output_type": "execute_result"
    }
   ],
   "source": [
    "T+T2"
   ]
  },
  {
   "cell_type": "code",
   "execution_count": 16,
   "id": "a3807894",
   "metadata": {},
   "outputs": [
    {
     "ename": "TypeError",
     "evalue": "can only concatenate tuple (not \"int\") to tuple",
     "output_type": "error",
     "traceback": [
      "\u001b[1;31m---------------------------------------------------------------------------\u001b[0m",
      "\u001b[1;31mTypeError\u001b[0m                                 Traceback (most recent call last)",
      "\u001b[1;32m<ipython-input-16-7d13622cb063>\u001b[0m in \u001b[0;36m<module>\u001b[1;34m\u001b[0m\n\u001b[1;32m----> 1\u001b[1;33m \u001b[0mT2\u001b[0m\u001b[1;33m+\u001b[0m\u001b[1;36m56\u001b[0m\u001b[1;33m\u001b[0m\u001b[1;33m\u001b[0m\u001b[0m\n\u001b[0m",
      "\u001b[1;31mTypeError\u001b[0m: can only concatenate tuple (not \"int\") to tuple"
     ]
    }
   ],
   "source": [
    "T2+56"
   ]
  },
  {
   "cell_type": "code",
   "execution_count": 17,
   "id": "a76820d6",
   "metadata": {},
   "outputs": [
    {
     "ename": "TypeError",
     "evalue": "can only concatenate tuple (not \"str\") to tuple",
     "output_type": "error",
     "traceback": [
      "\u001b[1;31m---------------------------------------------------------------------------\u001b[0m",
      "\u001b[1;31mTypeError\u001b[0m                                 Traceback (most recent call last)",
      "\u001b[1;32m<ipython-input-17-6475c75300ab>\u001b[0m in \u001b[0;36m<module>\u001b[1;34m\u001b[0m\n\u001b[1;32m----> 1\u001b[1;33m \u001b[0mT\u001b[0m\u001b[1;33m+\u001b[0m\u001b[1;34m' '\u001b[0m\u001b[1;33m\u001b[0m\u001b[1;33m\u001b[0m\u001b[0m\n\u001b[0m",
      "\u001b[1;31mTypeError\u001b[0m: can only concatenate tuple (not \"str\") to tuple"
     ]
    }
   ],
   "source": [
    "T+' '"
   ]
  },
  {
   "cell_type": "code",
   "execution_count": 18,
   "id": "f25551d1",
   "metadata": {},
   "outputs": [],
   "source": [
    "# So addition of Tuples is possible only with Tuples"
   ]
  },
  {
   "cell_type": "code",
   "execution_count": 19,
   "id": "177d8846",
   "metadata": {},
   "outputs": [
    {
     "data": {
      "text/plain": [
       "(1,\n",
       " 23.45,\n",
       " (45+67j),\n",
       " 'tuples',\n",
       " False,\n",
       " [78, 54, 23],\n",
       " 1,\n",
       " 23.45,\n",
       " (45+67j),\n",
       " 'tuples',\n",
       " False,\n",
       " [78, 54, 23])"
      ]
     },
     "execution_count": 19,
     "metadata": {},
     "output_type": "execute_result"
    }
   ],
   "source": [
    "T*2"
   ]
  },
  {
   "cell_type": "code",
   "execution_count": 20,
   "id": "e818bbf3",
   "metadata": {},
   "outputs": [
    {
     "data": {
      "text/plain": [
       "(2, 4, 6, 8, True)"
      ]
     },
     "execution_count": 20,
     "metadata": {},
     "output_type": "execute_result"
    }
   ],
   "source": [
    "T2"
   ]
  },
  {
   "cell_type": "raw",
   "id": "31e32861",
   "metadata": {},
   "source": [
    "As Tuple is immutable, it cant support many inbuilt operations like List. It can only perform count & index"
   ]
  },
  {
   "cell_type": "code",
   "execution_count": 21,
   "id": "28f13f44",
   "metadata": {},
   "outputs": [
    {
     "data": {
      "text/plain": [
       "(1, 23.45, (45+67j), 'tuples', False, [78, 54, 23])"
      ]
     },
     "execution_count": 21,
     "metadata": {},
     "output_type": "execute_result"
    }
   ],
   "source": [
    "T"
   ]
  },
  {
   "cell_type": "code",
   "execution_count": 31,
   "id": "3784bdfe",
   "metadata": {},
   "outputs": [
    {
     "data": {
      "text/plain": [
       "1"
      ]
     },
     "execution_count": 31,
     "metadata": {},
     "output_type": "execute_result"
    }
   ],
   "source": [
    "T.count(True) #why is it showing as 1?"
   ]
  },
  {
   "cell_type": "code",
   "execution_count": 32,
   "id": "5200e484",
   "metadata": {},
   "outputs": [
    {
     "data": {
      "text/plain": [
       "4"
      ]
     },
     "execution_count": 32,
     "metadata": {},
     "output_type": "execute_result"
    }
   ],
   "source": [
    "T.index(False)"
   ]
  },
  {
   "cell_type": "code",
   "execution_count": null,
   "id": "9f618434",
   "metadata": {},
   "outputs": [],
   "source": []
  }
 ],
 "metadata": {
  "kernelspec": {
   "display_name": "Python 3",
   "language": "python",
   "name": "python3"
  },
  "language_info": {
   "codemirror_mode": {
    "name": "ipython",
    "version": 3
   },
   "file_extension": ".py",
   "mimetype": "text/x-python",
   "name": "python",
   "nbconvert_exporter": "python",
   "pygments_lexer": "ipython3",
   "version": "3.8.8"
  }
 },
 "nbformat": 4,
 "nbformat_minor": 5
}
