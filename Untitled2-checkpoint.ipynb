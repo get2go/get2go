{
 "cells": [
  {
   "cell_type": "code",
   "execution_count": 1,
   "id": "26239db6",
   "metadata": {},
   "outputs": [],
   "source": [
    "import ipaddress"
   ]
  },
  {
   "cell_type": "code",
   "execution_count": 9,
   "id": "5611606e",
   "metadata": {},
   "outputs": [],
   "source": [
    "IP_addresses = []\n",
    "ip = ipaddress.ip_address('192.168.0.203')\n",
    "\n",
    "for i in range(10):\n",
    "        IP_addresses.append(ip+i)"
   ]
  },
  {
   "cell_type": "code",
   "execution_count": 10,
   "id": "cc94caf0",
   "metadata": {},
   "outputs": [
    {
     "data": {
      "text/plain": [
       "[IPv4Address('192.168.0.203'),\n",
       " IPv4Address('192.168.0.204'),\n",
       " IPv4Address('192.168.0.205'),\n",
       " IPv4Address('192.168.0.206'),\n",
       " IPv4Address('192.168.0.207'),\n",
       " IPv4Address('192.168.0.208'),\n",
       " IPv4Address('192.168.0.209'),\n",
       " IPv4Address('192.168.0.210'),\n",
       " IPv4Address('192.168.0.211'),\n",
       " IPv4Address('192.168.0.212')]"
      ]
     },
     "execution_count": 10,
     "metadata": {},
     "output_type": "execute_result"
    }
   ],
   "source": [
    "IP_addresses"
   ]
  },
  {
   "cell_type": "code",
   "execution_count": 16,
   "id": "4c345095",
   "metadata": {},
   "outputs": [],
   "source": [
    "for i in IP_addresses:\n",
    "    def Isvalid_IP_addresses(i):\n",
    "        a = i.split('.')\n",
    "        if len(a) != 4:\n",
    "            return i, \" is not a Valid IPv4 IP Address\"\n",
    "        for x in a:\n",
    "            if not x.isdigit():\n",
    "                return i, \" is not a Valid IPv4 IP Address\"\n",
    "        j = int(x)\n",
    "        if j < 0 or j > 255:\n",
    "                return i, \" is not a Valid IPv4 IP Address\"\n",
    "        \n",
    "        return i, \" is a Valid IPv4 IP Address\"\n",
    "\n",
    "        print(Isvalid_IP_addresses(i))"
   ]
  },
  {
   "cell_type": "code",
   "execution_count": 17,
   "id": "c66efb97",
   "metadata": {},
   "outputs": [
    {
     "ename": "AttributeError",
     "evalue": "'IPv4Address' object has no attribute 'split'",
     "output_type": "error",
     "traceback": [
      "\u001b[1;31m---------------------------------------------------------------------------\u001b[0m",
      "\u001b[1;31mAttributeError\u001b[0m                            Traceback (most recent call last)",
      "\u001b[1;32m<ipython-input-17-511c914f014a>\u001b[0m in \u001b[0;36m<module>\u001b[1;34m\u001b[0m\n\u001b[0;32m     13\u001b[0m         \u001b[1;32mreturn\u001b[0m \u001b[0mi\u001b[0m\u001b[1;33m,\u001b[0m \u001b[1;34m\" is a Valid IPv4 IP Address\"\u001b[0m\u001b[1;33m\u001b[0m\u001b[1;33m\u001b[0m\u001b[0m\n\u001b[0;32m     14\u001b[0m \u001b[1;33m\u001b[0m\u001b[0m\n\u001b[1;32m---> 15\u001b[1;33m     \u001b[0mprint\u001b[0m\u001b[1;33m(\u001b[0m\u001b[0mIsvalid_IP_addresses\u001b[0m\u001b[1;33m(\u001b[0m\u001b[0mi\u001b[0m\u001b[1;33m)\u001b[0m\u001b[1;33m)\u001b[0m\u001b[1;33m\u001b[0m\u001b[1;33m\u001b[0m\u001b[0m\n\u001b[0m",
      "\u001b[1;32m<ipython-input-17-511c914f014a>\u001b[0m in \u001b[0;36mIsvalid_IP_addresses\u001b[1;34m(i)\u001b[0m\n\u001b[0;32m      1\u001b[0m \u001b[1;32mfor\u001b[0m \u001b[0mi\u001b[0m \u001b[1;32min\u001b[0m \u001b[0mIP_addresses\u001b[0m\u001b[1;33m:\u001b[0m\u001b[1;33m\u001b[0m\u001b[1;33m\u001b[0m\u001b[0m\n\u001b[0;32m      2\u001b[0m     \u001b[1;32mdef\u001b[0m \u001b[0mIsvalid_IP_addresses\u001b[0m\u001b[1;33m(\u001b[0m\u001b[0mi\u001b[0m\u001b[1;33m)\u001b[0m\u001b[1;33m:\u001b[0m\u001b[1;33m\u001b[0m\u001b[1;33m\u001b[0m\u001b[0m\n\u001b[1;32m----> 3\u001b[1;33m         \u001b[0ma\u001b[0m \u001b[1;33m=\u001b[0m \u001b[0mi\u001b[0m\u001b[1;33m.\u001b[0m\u001b[0msplit\u001b[0m\u001b[1;33m(\u001b[0m\u001b[1;34m'.'\u001b[0m\u001b[1;33m)\u001b[0m\u001b[1;33m\u001b[0m\u001b[1;33m\u001b[0m\u001b[0m\n\u001b[0m\u001b[0;32m      4\u001b[0m         \u001b[1;32mif\u001b[0m \u001b[0mlen\u001b[0m\u001b[1;33m(\u001b[0m\u001b[0ma\u001b[0m\u001b[1;33m)\u001b[0m \u001b[1;33m!=\u001b[0m \u001b[1;36m4\u001b[0m\u001b[1;33m:\u001b[0m\u001b[1;33m\u001b[0m\u001b[1;33m\u001b[0m\u001b[0m\n\u001b[0;32m      5\u001b[0m             \u001b[1;32mreturn\u001b[0m \u001b[0mi\u001b[0m\u001b[1;33m,\u001b[0m \u001b[1;34m\" is not a Valid IPv4 IP Address\"\u001b[0m\u001b[1;33m\u001b[0m\u001b[1;33m\u001b[0m\u001b[0m\n",
      "\u001b[1;31mAttributeError\u001b[0m: 'IPv4Address' object has no attribute 'split'"
     ]
    }
   ],
   "source": [
    "# Indentation of line 16 changed\n",
    "for i in IP_addresses:\n",
    "    def Isvalid_IP_addresses(i):\n",
    "        a = i.split('.')\n",
    "        if len(a) != 4:\n",
    "            return i, \" is not a Valid IPv4 IP Address\"\n",
    "        for x in a:\n",
    "            if not x.isdigit():\n",
    "                return i, \" is not a Valid IPv4 IP Address\"\n",
    "        j = int(x)\n",
    "        if j < 0 or j > 255:\n",
    "                return i, \" is not a Valid IPv4 IP Address\"\n",
    "        \n",
    "        return i, \" is a Valid IPv4 IP Address\"\n",
    "\n",
    "    print(Isvalid_IP_addresses(i))"
   ]
  },
  {
   "cell_type": "code",
   "execution_count": null,
   "id": "7808b8b8",
   "metadata": {},
   "outputs": [],
   "source": []
  }
 ],
 "metadata": {
  "kernelspec": {
   "display_name": "Python 3",
   "language": "python",
   "name": "python3"
  },
  "language_info": {
   "codemirror_mode": {
    "name": "ipython",
    "version": 3
   },
   "file_extension": ".py",
   "mimetype": "text/x-python",
   "name": "python",
   "nbconvert_exporter": "python",
   "pygments_lexer": "ipython3",
   "version": "3.8.8"
  }
 },
 "nbformat": 4,
 "nbformat_minor": 5
}
